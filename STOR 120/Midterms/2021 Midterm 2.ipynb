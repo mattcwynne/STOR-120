{
 "cells": [
  {
   "cell_type": "markdown",
   "metadata": {},
   "source": [
    "# STOR 120: Midterm 2\n",
    "\n",
    "**Due:** Friday, October 29, 10:10 am on Gradescope\n",
    "  \n",
    "**Directions:** The exam is open book, notes, course materials, internet, and all things that are not direct communication with others. Just as with all course assignments, you will submit exams to Gradescope as Jupyter Notebooks with the ipynb file extension. To receive full credit, you should show all of your code used to answer each question."
   ]
  },
  {
   "cell_type": "markdown",
   "metadata": {},
   "source": [
    "For each question you may use as many lines of code as needed, and may add cells as well. Run the cell below."
   ]
  },
  {
   "cell_type": "markdown",
   "metadata": {},
   "source": [
    "**Run the cell below to import the datasets.**"
   ]
  },
  {
   "cell_type": "code",
   "execution_count": 35,
   "metadata": {},
   "outputs": [],
   "source": [
    "import matplotlib\n",
    "from datascience import *\n",
    "%matplotlib inline\n",
    "import matplotlib.pyplot as plots\n",
    "import numpy as np\n",
    "plots.style.use('fivethirtyeight')\n",
    "from scipy import stats\n",
    "import warnings\n",
    "warnings.simplefilter('ignore', FutureWarning)"
   ]
  },
  {
   "cell_type": "markdown",
   "metadata": {},
   "source": [
    "## Question 1 (16 Points)\n",
    "\n",
    "We have a number wheel that contains all of the numbers from 5 to 100 by 5 (i.e. 5,10,15,20,25,...,100). This wheel is used in a game between 2 people where the winner gets \\$10 paid by the loser. Each person spins the wheel once, and then decides if they want to spin it again. If they refuse to spin the wheel, they get a 0 for that spin. Each person gets a maximum of 2 spins. The winner is the person who has a total (sum of spin 1 and spin 2) that is closest to 100 without going over. If both people have the same total, then neither person wins. If both individuals go over 100, then neither person wins. Each individual makes their decision about spinning the wheel a second time without knowing what the other individual got on their first spin and without knowing whether or not the other person decides to spin again."
   ]
  },
  {
   "cell_type": "markdown",
   "metadata": {},
   "source": [
    "## 1.1 (2 Points)\n",
    "First, I want you to create a function named **spin** with no arguments that returns a random number from this number wheel. The function is simulating one spin of the wheel. The function you create should go in the first code block below. The last code block will run the function 3 times to test that it works."
   ]
  },
  {
   "cell_type": "code",
   "execution_count": 36,
   "metadata": {},
   "outputs": [],
   "source": [
    "# Put your function here\n",
    "def spin():\n",
    "    return np.random.choice(np.arange(5, 101, 5))"
   ]
  },
  {
   "cell_type": "code",
   "execution_count": 37,
   "metadata": {},
   "outputs": [
    {
     "name": "stdout",
     "output_type": "stream",
     "text": [
      "10\n",
      "30\n",
      "60\n"
     ]
    }
   ],
   "source": [
    "for i in np.arange(3): #Do Not Change\n",
    "    print(spin()) #Do Not Change"
   ]
  },
  {
   "cell_type": "markdown",
   "metadata": {},
   "source": [
    "## 1.2 (2 Points)\n",
    "Mario has a strategy for this game. If the first spin is below 40, he will spin again. If the first spin is 40 or higher, he will not spin again and take a 0 for the second spin. Write a function called **mario_strategy** that contains no arguments and returns the total from 2 spins based on Mario's strategy. This function should use the **spin()** function created before in it. The function you create should go in the first code block below. The last code block will run the function 3 times to test that it works."
   ]
  },
  {
   "cell_type": "code",
   "execution_count": 46,
   "metadata": {},
   "outputs": [],
   "source": [
    "def mario_strategy():\n",
    "    first_spin = spin()\n",
    "    \n",
    "    if first_spin < 40:\n",
    "        second_spin = spin()\n",
    "        return first_spin + second_spin\n",
    "    \n",
    "    return first_spin"
   ]
  },
  {
   "cell_type": "code",
   "execution_count": 52,
   "metadata": {},
   "outputs": [
    {
     "name": "stdout",
     "output_type": "stream",
     "text": [
      "100\n",
      "40\n",
      "85\n"
     ]
    }
   ],
   "source": [
    "for i in np.arange(3): #Do Not Change\n",
    "    print(mario_strategy()) #Do Not Change"
   ]
  },
  {
   "cell_type": "markdown",
   "metadata": {},
   "source": [
    "## 1.3 (2 Points)\n",
    "Jeff has a strategy for this game. If the first spin is below 60, he will spin again. If the first spin is 60 or higher, he will not spin again and take a 0 for the second spin. Write a function called **jeff_strategy** that contains no arguments and returns the total from 2 spins based on Jeff's strategy. This function should use the **spin()** function created before in it. The function you create should go in the first code block below. The last code block will run the function 3 times to test that it works."
   ]
  },
  {
   "cell_type": "code",
   "execution_count": 111,
   "metadata": {},
   "outputs": [],
   "source": [
    "def jeff_strategy():\n",
    "    first_spin = spin()\n",
    "    \n",
    "    if first_spin < 60:\n",
    "        second_spin = spin()\n",
    "        return first_spin + second_spin\n",
    "    \n",
    "    return first_spin"
   ]
  },
  {
   "cell_type": "code",
   "execution_count": 112,
   "metadata": {},
   "outputs": [
    {
     "name": "stdout",
     "output_type": "stream",
     "text": [
      "55\n",
      "95\n",
      "90\n"
     ]
    }
   ],
   "source": [
    "for i in np.arange(3): #Do Not Change\n",
    "    print(jeff_strategy()) #Do Not Change"
   ]
  },
  {
   "cell_type": "markdown",
   "metadata": {},
   "source": [
    "## 1.4 (4 Points)\n",
    "Write a function called **one_game** that takes two arguments, **jeff_total** and **mario_total**, and returns the amount of money won from Jeff's point of view. This means that if Jeff win's, the function should return 10. If Jeff loses, the function should return -10. If there is a tie after 2 spins or both Jeff and Mario go over 100, the function should return 0. You will need to use *if* and *elif* in the function to handle all the cases. It may also be beneficial to remember that $3<a<10$ is equivalent to saying $a>3$ **and** $a<10$. \n",
    "\n",
    "The first code block should be run to illustrate some key aspects of boolean logic. The function you create should go in the second code block below. The last code block will run the function 4 times to test that it works."
   ]
  },
  {
   "cell_type": "code",
   "execution_count": 61,
   "metadata": {},
   "outputs": [
    {
     "data": {
      "text/plain": [
       "(True, True, True, False)"
      ]
     },
     "execution_count": 61,
     "metadata": {},
     "output_type": "execute_result"
    }
   ],
   "source": [
    "a = 3\n",
    "b = 5\n",
    "\n",
    "a<4 and b>4, 1<a<5, a<b<7,b<4 and a<b"
   ]
  },
  {
   "cell_type": "code",
   "execution_count": 66,
   "metadata": {},
   "outputs": [],
   "source": [
    "def one_game(jeff_total, mario_total): \n",
    "    if (mario_total < jeff_total <= 100) or (jeff_total <= 100 < mario_total):\n",
    "        return 10\n",
    "    \n",
    "    elif (jeff_total < mario_total <= 100) or (mario_total <= 100 < jeff_total):\n",
    "        return -10\n",
    "    \n",
    "    else:\n",
    "        return 0"
   ]
  },
  {
   "cell_type": "code",
   "execution_count": 74,
   "metadata": {},
   "outputs": [
    {
     "name": "stdout",
     "output_type": "stream",
     "text": [
      "10\n",
      "-10\n",
      "-10\n",
      "10\n"
     ]
    }
   ],
   "source": [
    "print(one_game(95,10)) #Do Not Change\n",
    "print(one_game(30,100)) #Do Not Change\n",
    "print(one_game(120,10)) #Do Not Change\n",
    "print(one_game(30,140)) #Do Not Change"
   ]
  },
  {
   "cell_type": "markdown",
   "metadata": {},
   "source": [
    "## 1.5 (3 Points)\n",
    "In the code block below, simulate 50,000 games and save the amount of money that Jeff wins from each of the games in an array called **winnings**."
   ]
  },
  {
   "cell_type": "code",
   "execution_count": 86,
   "metadata": {},
   "outputs": [
    {
     "name": "stdout",
     "output_type": "stream",
     "text": [
      "[-10.  10.   0. ...  10.  10.  10.]\n"
     ]
    }
   ],
   "source": [
    "winnings = make_array()\n",
    "for i in np.arange(50000):\n",
    "    winning = one_game(jeff_strategy(), mario_strategy())\n",
    "    winnings = np.append(winnings, winning)\n",
    "\n",
    "print(winnings) #Do Not Change"
   ]
  },
  {
   "cell_type": "markdown",
   "metadata": {},
   "source": [
    "## 1.6 (3 Points)\n",
    "Create a figure in the code block below that shows the distribution of winnings and then answer the **question** in the following code block."
   ]
  },
  {
   "cell_type": "code",
   "execution_count": 87,
   "metadata": {},
   "outputs": [
    {
     "data": {
      "image/png": "[encoded data removed]",
      "text/plain": [
       "<Figure size 432x288 with 1 Axes>"
      ]
     },
     "metadata": {},
     "output_type": "display_data"
    }
   ],
   "source": [
    "Table().with_column('Jeff\\'s Winnings', winnings).hist()"
   ]
  },
  {
   "cell_type": "markdown",
   "metadata": {},
   "source": [
    "Based on your figure above, do you believe that Jeff's strategy is better than Mario's strategy? Why or why not? Answer this question in complete sentences below:\n",
    "\n",
    "*The 10 column is taller than the -10 column, indicating that Jeff wins more times than he loses. This means that Jeff's strategy is stronger than Mario's.*"
   ]
  },
  {
   "cell_type": "markdown",
   "metadata": {},
   "source": [
    "# Question 2 (11 Points)\n",
    "In class, we looked at the empirical distribution of the sample mean. We saw how the distribution of the sample mean became more normally distributed as we increased the sample size. Now we want to look at the empirical distribution of the sample standard deviation. In the code chunk below we read in a table that contains the salaries of all NBA players in the 2015 to 2016 season. This is the full population we want to study. "
   ]
  },
  {
   "cell_type": "code",
   "execution_count": 88,
   "metadata": {},
   "outputs": [
    {
     "data": {
      "text/html": [
       "<table border=\"1\" class=\"dataframe\">\n",
       "    <thead>\n",
       "        <tr>\n",
       "            <th>SALARY</th>\n",
       "        </tr>\n",
       "    </thead>\n",
       "    <tbody>\n",
       "        <tr>\n",
       "            <td>18.6717</td>\n",
       "        </tr>\n",
       "        <tr>\n",
       "            <td>12     </td>\n",
       "        </tr>\n",
       "        <tr>\n",
       "            <td>9.75625</td>\n",
       "        </tr>\n",
       "        <tr>\n",
       "            <td>8      </td>\n",
       "        </tr>\n",
       "        <tr>\n",
       "            <td>5.74648</td>\n",
       "        </tr>\n",
       "        <tr>\n",
       "            <td>4      </td>\n",
       "        </tr>\n",
       "        <tr>\n",
       "            <td>3.33333</td>\n",
       "        </tr>\n",
       "        <tr>\n",
       "            <td>2      </td>\n",
       "        </tr>\n",
       "        <tr>\n",
       "            <td>1.7634 </td>\n",
       "        </tr>\n",
       "        <tr>\n",
       "            <td>1.30452</td>\n",
       "        </tr>\n",
       "    </tbody>\n",
       "</table>\n",
       "<p>... (407 rows omitted)</p>"
      ],
      "text/plain": [
       "SALARY\n",
       "18.6717\n",
       "12\n",
       "9.75625\n",
       "8\n",
       "5.74648\n",
       "4\n",
       "3.33333\n",
       "2\n",
       "1.7634\n",
       "1.30452\n",
       "... (407 rows omitted)"
      ]
     },
     "execution_count": 88,
     "metadata": {},
     "output_type": "execute_result"
    }
   ],
   "source": [
    "salaries = Table.read_table('nba_salaries.csv').select(\"'15-'16 SALARY\").relabeled(0,'SALARY')\n",
    "salaries"
   ]
  },
  {
   "cell_type": "markdown",
   "metadata": {},
   "source": [
    "## 2.1 (3 Points)\n",
    "Create a function named **sample_std** with one argument **size**. This function should obtain a simple random sample of a specified **size** from the table salaries and then return the standard deviation of that sample. Samples should be taken without replacement. Put your function in the code block below, and then run the second code block to test out your function."
   ]
  },
  {
   "cell_type": "code",
   "execution_count": 104,
   "metadata": {},
   "outputs": [],
   "source": [
    "def sample_std(size):\n",
    "    return np.std(salaries.sample(size, with_replacement = False).column('SALARY'))"
   ]
  },
  {
   "cell_type": "code",
   "execution_count": 105,
   "metadata": {},
   "outputs": [
    {
     "data": {
      "text/plain": [
       "(417, 5.215172804825777, 5.215172804825777)"
      ]
     },
     "execution_count": 105,
     "metadata": {},
     "output_type": "execute_result"
    }
   ],
   "source": [
    "n=salaries.num_rows #Do Not Change\n",
    "sal_std = np.std(salaries.column('SALARY')) #Do Not Change\n",
    "sal_std_2 = sample_std(n) #Do Not Change\n",
    "n,sal_std,sal_std_2 #Do Not Change"
   ]
  },
  {
   "cell_type": "markdown",
   "metadata": {},
   "source": [
    "## 2.2 (3 Points)\n",
    "Create a function named, **simulate_5000_stds** that has one argument **size**. This function should repeatedly run the function **sample_std(size)** 5,000 times, and then return an array of the standard deviation from 5,000 samples of the specified **size**. Put your function in the code block below, and then run the second code block to test out your function."
   ]
  },
  {
   "cell_type": "code",
   "execution_count": 107,
   "metadata": {},
   "outputs": [],
   "source": [
    "def simulate_5000_stds(size):\n",
    "    stds = make_array()\n",
    "    for i in np.arange(5000):\n",
    "        std = sample_std(size)\n",
    "        stds = np.append(stds, std)\n",
    "        \n",
    "    return stds"
   ]
  },
  {
   "cell_type": "code",
   "execution_count": 108,
   "metadata": {},
   "outputs": [
    {
     "data": {
      "text/plain": [
       "array([6.74841809, 5.59231348, 5.14505428, ..., 6.82657381, 4.7291247 ,\n",
       "       3.09697284])"
      ]
     },
     "execution_count": 108,
     "metadata": {},
     "output_type": "execute_result"
    }
   ],
   "source": [
    "simulate_5000_stds(10) #Do Not Change"
   ]
  },
  {
   "cell_type": "markdown",
   "metadata": {},
   "source": [
    "## 2.3 (5 Points)\n",
    "Run the function **simulate_5000_stds()** for three different sample sizes: 10,100,300. Save your arrays in a table called **std_table** under three variable names, respectively: \"n=10\", \"n=100\",\"n=300\". Plot the three empirical distributions using overlayed histograms. In the same figure, I also want you to plot a vertical line where the population standard deviation exists. This vertical line should be *red* and should go from the bottom to the top of the graph."
   ]
  },
  {
   "cell_type": "code",
   "execution_count": 121,
   "metadata": {},
   "outputs": [
    {
     "data": {
      "image/png": "[encoded data removed]",
      "text/plain": [
       "<Figure size 432x288 with 1 Axes>"
      ]
     },
     "metadata": {},
     "output_type": "display_data"
    }
   ],
   "source": [
    "std_table = Table().with_columns(\n",
    "    'n = 10', simulate_5000_stds(10),\n",
    "    'n = 100', simulate_5000_stds(100),\n",
    "    'n = 300', simulate_5000_stds(300)\n",
    ").hist()\n",
    "plots.plot([sal_std, sal_std], [0, 1], color='red', lw=2);"
   ]
  },
  {
   "cell_type": "markdown",
   "metadata": {},
   "source": [
    "# Question 3 (12 Points)\n",
    "From a random sample of 237 individuals, we record two pieces of information. The variable **Writing Hand** shows with which hand the individual writes. The possible values for **Writing Hand** is *Left* or *Right*. The variable **IQ** shows the IQ of the individual. The table I want you to use can be found below:"
   ]
  },
  {
   "cell_type": "code",
   "execution_count": 122,
   "metadata": {},
   "outputs": [
    {
     "data": {
      "text/html": [
       "<table border=\"1\" class=\"dataframe\">\n",
       "    <thead>\n",
       "        <tr>\n",
       "            <th>Writing Hand</th> <th>IQ</th>\n",
       "        </tr>\n",
       "    </thead>\n",
       "    <tbody>\n",
       "        <tr>\n",
       "            <td>Left        </td> <td>40.6933</td>\n",
       "        </tr>\n",
       "        <tr>\n",
       "            <td>Right       </td> <td>44.9967</td>\n",
       "        </tr>\n",
       "        <tr>\n",
       "            <td>Right       </td> <td>52.7502</td>\n",
       "        </tr>\n",
       "        <tr>\n",
       "            <td>Right       </td> <td>43.5332</td>\n",
       "        </tr>\n",
       "        <tr>\n",
       "            <td>Left        </td> <td>63.7508</td>\n",
       "        </tr>\n",
       "        <tr>\n",
       "            <td>Right       </td> <td>32.0001</td>\n",
       "        </tr>\n",
       "        <tr>\n",
       "            <td>Right       </td> <td>18.1398</td>\n",
       "        </tr>\n",
       "        <tr>\n",
       "            <td>Right       </td> <td>45.3947</td>\n",
       "        </tr>\n",
       "        <tr>\n",
       "            <td>Left        </td> <td>71.9168</td>\n",
       "        </tr>\n",
       "        <tr>\n",
       "            <td>Right       </td> <td>33.6061</td>\n",
       "        </tr>\n",
       "    </tbody>\n",
       "</table>\n",
       "<p>... (225 rows omitted)</p>"
      ],
      "text/plain": [
       "Writing Hand | IQ\n",
       "Left         | 40.6933\n",
       "Right        | 44.9967\n",
       "Right        | 52.7502\n",
       "Right        | 43.5332\n",
       "Left         | 63.7508\n",
       "Right        | 32.0001\n",
       "Right        | 18.1398\n",
       "Right        | 45.3947\n",
       "Left         | 71.9168\n",
       "Right        | 33.6061\n",
       "... (225 rows omitted)"
      ]
     },
     "execution_count": 122,
     "metadata": {},
     "output_type": "execute_result"
    }
   ],
   "source": [
    "L_v_R = Table.read_table(\"left_v_right.csv\").relabeled(0,\"Writing Hand\").relabeled(1,\"IQ\")\n",
    "L_v_R"
   ]
  },
  {
   "cell_type": "markdown",
   "metadata": {},
   "source": [
    "For simplicity, if a person writes with their left hand, we categorize them as left-handed. If a person writes with their right hand, we categorize them as right-handed.\n",
    "\n",
    "We want to test to see if the average IQ for left-handed people is different than the average IQ of right-handed people.\n",
    "\n",
    "**Question:** Perform a hypothesis test (using A/B testing methods) to draw a conclusion about the null and alternative hypotheses below, using a 5% significance level. Describe your conclusions using simple, non-technical language and write in complete sentences.\n",
    "\n",
    "**Null Hypothesis:** There is no difference in the average IQ in left-handed versus right-handed people\n",
    "    \n",
    "**Alternative Hypothesis**: There is a difference in the average IQ in left-handed versus right-handed people"
   ]
  },
  {
   "cell_type": "markdown",
   "metadata": {},
   "source": [
    "**To receive full credit you should:**\n",
    "\n",
    "1. Choose a test statistic\n",
    "\n",
    "2. Find the value of the observed test statistic\n",
    "\n",
    "3. Shuffle the labels (Writing Hand) of the original sample, find your simulated test statistic, and repeat at least 1000 times\n",
    "\n",
    "4. Plot your simulated statistics in a histogram along with the observed test statistic\n",
    "\n",
    "5. Calculate the p-value based off of your observed and simulated test statistics\n",
    "\n",
    "6. Use the p-value to draw a conclusion and explain the conclusion using simple, non-technical language in the context of the problem with complete sentences\n",
    "\n",
    "*You may do this in as many lines as needed, and may add cells as well. You can (should) use functions that we have used in class, homework, labs, or from the text!*"
   ]
  },
  {
   "cell_type": "code",
   "execution_count": 160,
   "metadata": {},
   "outputs": [
    {
     "data": {
      "text/plain": [
       "1.539218420271638"
      ]
     },
     "execution_count": 160,
     "metadata": {},
     "output_type": "execute_result"
    }
   ],
   "source": [
    "# Test statistic will be the absolute difference between the mean IQ for left-handed people and the mean IQ for right-handed.\n",
    "\n",
    "test_statistic = abs(np.mean(L_v_R.where('Writing Hand', 'Left').column('IQ')) - np.mean(L_v_R.where('Writing Hand', 'Right').column('IQ')))\n",
    "test_statistic"
   ]
  },
  {
   "cell_type": "code",
   "execution_count": 162,
   "metadata": {},
   "outputs": [
    {
     "data": {
      "image/png": "[encoded data removed]",
      "text/plain": [
       "<Figure size 432x288 with 1 Axes>"
      ]
     },
     "metadata": {},
     "output_type": "display_data"
    }
   ],
   "source": [
    "simulated_test_statistics = make_array()\n",
    "\n",
    "for i in np.arange(1000):\n",
    "    shuffled_table = Table().with_columns(\n",
    "        'Shuffled Writing Hand', L_v_R.sample(L_v_R.num_rows, with_replacement = False).column('Writing Hand'),\n",
    "        'Shuffled IQ', L_v_R.sample(L_v_R.num_rows, with_replacement = False).column('IQ')\n",
    "    )\n",
    "    simulated_test_statistic = abs(np.mean(shuffled_table.where('Shuffled Writing Hand', 'Left').column('Shuffled IQ')) - np.mean(shuffled_table.where('Shuffled Writing Hand', 'Right').column('Shuffled IQ')))\n",
    "    simulated_test_statistics = np.append(simulated_test_statistics, simulated_test_statistic)\n",
    "\n",
    "Table().with_column('Difference Between Group Means', simulated_test_statistics).hist()\n",
    "plots.plot([test_statistic, test_statistic], [0, 0.2], color = 'red', lw = 2);"
   ]
  },
  {
   "cell_type": "code",
   "execution_count": 163,
   "metadata": {},
   "outputs": [
    {
     "data": {
      "text/plain": [
       "0.742"
      ]
     },
     "execution_count": 163,
     "metadata": {},
     "output_type": "execute_result"
    }
   ],
   "source": [
    "p_value = sum(simulated_test_statistics >= test_statistic) / 1000\n",
    "p_value"
   ]
  },
  {
   "cell_type": "markdown",
   "metadata": {},
   "source": [
    "## Conclusion\n",
    "Since the p-value is greater than 0.05, we are not able to reject the null hypothesis and we are not able to say that there is a difference in the average IQ in left-handed people versus right-handed people. "
   ]
  },
  {
   "cell_type": "markdown",
   "metadata": {},
   "source": [
    "# Question 4 (14 Points)\n",
    "We have experimental data where 40 rats were randomly assigned to two different protein diets: *Beef* or *Pork*. The weight gain in grams per week was measured for each of the 40 rats. Below you will find a preview of the data in a table named **Rat_Weight**."
   ]
  },
  {
   "cell_type": "code",
   "execution_count": 164,
   "metadata": {},
   "outputs": [
    {
     "data": {
      "text/html": [
       "<table border=\"1\" class=\"dataframe\">\n",
       "    <thead>\n",
       "        <tr>\n",
       "            <th>Gain</th> <th>Source</th>\n",
       "        </tr>\n",
       "    </thead>\n",
       "    <tbody>\n",
       "        <tr>\n",
       "            <td>120 </td> <td>Pork  </td>\n",
       "        </tr>\n",
       "        <tr>\n",
       "            <td>118 </td> <td>Beef  </td>\n",
       "        </tr>\n",
       "        <tr>\n",
       "            <td>117 </td> <td>Beef  </td>\n",
       "        </tr>\n",
       "        <tr>\n",
       "            <td>111 </td> <td>Beef  </td>\n",
       "        </tr>\n",
       "        <tr>\n",
       "            <td>108 </td> <td>Pork  </td>\n",
       "        </tr>\n",
       "        <tr>\n",
       "            <td>107 </td> <td>Beef  </td>\n",
       "        </tr>\n",
       "        <tr>\n",
       "            <td>106 </td> <td>Pork  </td>\n",
       "        </tr>\n",
       "        <tr>\n",
       "            <td>105 </td> <td>Pork  </td>\n",
       "        </tr>\n",
       "        <tr>\n",
       "            <td>104 </td> <td>Beef  </td>\n",
       "        </tr>\n",
       "        <tr>\n",
       "            <td>102 </td> <td>Beef  </td>\n",
       "        </tr>\n",
       "    </tbody>\n",
       "</table>\n",
       "<p>... (30 rows omitted)</p>"
      ],
      "text/plain": [
       "Gain | Source\n",
       "120  | Pork\n",
       "118  | Beef\n",
       "117  | Beef\n",
       "111  | Beef\n",
       "108  | Pork\n",
       "107  | Beef\n",
       "106  | Pork\n",
       "105  | Pork\n",
       "104  | Beef\n",
       "102  | Beef\n",
       "... (30 rows omitted)"
      ]
     },
     "execution_count": 164,
     "metadata": {},
     "output_type": "execute_result"
    }
   ],
   "source": [
    "Rat_Weight = Table.read_table(\"FatRats.csv\").select(0,2).sort(\"Gain\",descending=True)\n",
    "Rat_Weight"
   ]
  },
  {
   "cell_type": "markdown",
   "metadata": {},
   "source": [
    "## 4.1 (6 Points)"
   ]
  },
  {
   "cell_type": "markdown",
   "metadata": {},
   "source": [
    "Construct a 95% confidence interval to predict the average weight gain of rats who were fed protein from **Beef**.\n",
    "\n",
    "**To receive full credit you should:**\n",
    "\n",
    "1. First subset the sample to only include rats who ate protein from beef\n",
    "\n",
    "2. Take bootstrap samples from the original sample, compute the average weight gain, and repeat at least 1000 times\n",
    "\n",
    "3. Determine the upper and lower bounds of the 95% confidence interval\n",
    "\n",
    "4. Print out the confidence interval as a tuple: lower_bound, upper_bound\n",
    "\n",
    "You may do this in as many lines as needed, and may add cells as well. You can (should) use functions that we have used in class, homework, labs, or from the text! "
   ]
  },
  {
   "cell_type": "code",
   "execution_count": 173,
   "metadata": {},
   "outputs": [
    {
     "data": {
      "text/html": [
       "<table border=\"1\" class=\"dataframe\">\n",
       "    <thead>\n",
       "        <tr>\n",
       "            <th>Gain</th> <th>Source</th>\n",
       "        </tr>\n",
       "    </thead>\n",
       "    <tbody>\n",
       "        <tr>\n",
       "            <td>118 </td> <td>Beef  </td>\n",
       "        </tr>\n",
       "        <tr>\n",
       "            <td>117 </td> <td>Beef  </td>\n",
       "        </tr>\n",
       "        <tr>\n",
       "            <td>111 </td> <td>Beef  </td>\n",
       "        </tr>\n",
       "        <tr>\n",
       "            <td>107 </td> <td>Beef  </td>\n",
       "        </tr>\n",
       "        <tr>\n",
       "            <td>104 </td> <td>Beef  </td>\n",
       "        </tr>\n",
       "        <tr>\n",
       "            <td>102 </td> <td>Beef  </td>\n",
       "        </tr>\n",
       "        <tr>\n",
       "            <td>100 </td> <td>Beef  </td>\n",
       "        </tr>\n",
       "        <tr>\n",
       "            <td>95  </td> <td>Beef  </td>\n",
       "        </tr>\n",
       "        <tr>\n",
       "            <td>90  </td> <td>Beef  </td>\n",
       "        </tr>\n",
       "        <tr>\n",
       "            <td>90  </td> <td>Beef  </td>\n",
       "        </tr>\n",
       "    </tbody>\n",
       "</table>\n",
       "<p>... (10 rows omitted)</p>"
      ],
      "text/plain": [
       "Gain | Source\n",
       "118  | Beef\n",
       "117  | Beef\n",
       "111  | Beef\n",
       "107  | Beef\n",
       "104  | Beef\n",
       "102  | Beef\n",
       "100  | Beef\n",
       "95   | Beef\n",
       "90   | Beef\n",
       "90   | Beef\n",
       "... (10 rows omitted)"
      ]
     },
     "execution_count": 173,
     "metadata": {},
     "output_type": "execute_result"
    }
   ],
   "source": [
    "Beef_Rats = Rat_Weight.where('Source', 'Beef')\n",
    "Beef_Rats"
   ]
  },
  {
   "cell_type": "code",
   "execution_count": 176,
   "metadata": {},
   "outputs": [
    {
     "data": {
      "text/plain": [
       "array([89.8, 81.8, 83.4, ..., 96. , 81. , 88.4])"
      ]
     },
     "execution_count": 176,
     "metadata": {},
     "output_type": "execute_result"
    }
   ],
   "source": [
    "average_gains = make_array()\n",
    "\n",
    "for i in np.arange(5000):\n",
    "    average_gain = np.mean(Beef_Rats.sample(5, with_replacement = True).column('Gain'))\n",
    "    average_gains = np.append(average_gains, average_gain)\n",
    "\n",
    "average_gains"
   ]
  },
  {
   "cell_type": "code",
   "execution_count": 177,
   "metadata": {},
   "outputs": [
    {
     "data": {
      "text/plain": [
       "(74.4, 104.0)"
      ]
     },
     "execution_count": 177,
     "metadata": {},
     "output_type": "execute_result"
    }
   ],
   "source": [
    "lower_bound = percentile(2.5, average_gains)\n",
    "upper_bound = percentile(97.5, average_gains)\n",
    "lower_bound, upper_bound"
   ]
  },
  {
   "cell_type": "markdown",
   "metadata": {},
   "source": [
    "## 4.2 (6 Points)"
   ]
  },
  {
   "cell_type": "markdown",
   "metadata": {},
   "source": [
    "Construct a 95% confidence interval to predict the average weight gain of rats who were fed protein from **Pork**. Then\n",
    "\n",
    "**To receive full credit you should:**\n",
    "\n",
    "1. First subset the sample to only include rats who ate protein from pork\n",
    "\n",
    "2. Take bootstrap samples from the original sample, find your bootstrap statistic, and repeat at least 1000 times\n",
    "\n",
    "3. Determine the upper and lower bounds of the 95% confidence interval\n",
    "\n",
    "4. Print out the confidence interval as a tuple: lower_bound, upper_bound\n",
    "\n",
    "You may do this in as many lines as needed, and may add cells as well. You can (should) use functions that we have used in class, homework, labs, or from the text! "
   ]
  },
  {
   "cell_type": "code",
   "execution_count": 178,
   "metadata": {},
   "outputs": [
    {
     "data": {
      "text/html": [
       "<table border=\"1\" class=\"dataframe\">\n",
       "    <thead>\n",
       "        <tr>\n",
       "            <th>Gain</th> <th>Source</th>\n",
       "        </tr>\n",
       "    </thead>\n",
       "    <tbody>\n",
       "        <tr>\n",
       "            <td>120 </td> <td>Pork  </td>\n",
       "        </tr>\n",
       "        <tr>\n",
       "            <td>108 </td> <td>Pork  </td>\n",
       "        </tr>\n",
       "        <tr>\n",
       "            <td>106 </td> <td>Pork  </td>\n",
       "        </tr>\n",
       "        <tr>\n",
       "            <td>105 </td> <td>Pork  </td>\n",
       "        </tr>\n",
       "        <tr>\n",
       "            <td>102 </td> <td>Pork  </td>\n",
       "        </tr>\n",
       "        <tr>\n",
       "            <td>102 </td> <td>Pork  </td>\n",
       "        </tr>\n",
       "        <tr>\n",
       "            <td>98  </td> <td>Pork  </td>\n",
       "        </tr>\n",
       "        <tr>\n",
       "            <td>97  </td> <td>Pork  </td>\n",
       "        </tr>\n",
       "        <tr>\n",
       "            <td>96  </td> <td>Pork  </td>\n",
       "        </tr>\n",
       "        <tr>\n",
       "            <td>94  </td> <td>Pork  </td>\n",
       "        </tr>\n",
       "    </tbody>\n",
       "</table>\n",
       "<p>... (10 rows omitted)</p>"
      ],
      "text/plain": [
       "Gain | Source\n",
       "120  | Pork\n",
       "108  | Pork\n",
       "106  | Pork\n",
       "105  | Pork\n",
       "102  | Pork\n",
       "102  | Pork\n",
       "98   | Pork\n",
       "97   | Pork\n",
       "96   | Pork\n",
       "94   | Pork\n",
       "... (10 rows omitted)"
      ]
     },
     "execution_count": 178,
     "metadata": {},
     "output_type": "execute_result"
    }
   ],
   "source": [
    "Pork_Rats = Rat_Weight.where('Source', 'Pork')\n",
    "Pork_Rats"
   ]
  },
  {
   "cell_type": "code",
   "execution_count": 179,
   "metadata": {},
   "outputs": [
    {
     "data": {
      "text/plain": [
       "array([97.2, 98.4, 90.6, ..., 90.6, 85.2, 95.8])"
      ]
     },
     "execution_count": 179,
     "metadata": {},
     "output_type": "execute_result"
    }
   ],
   "source": [
    "average_gains_2 = make_array()\n",
    "\n",
    "for i in np.arange(5000):\n",
    "    average_gain_2 = np.mean(Pork_Rats.sample(5, with_replacement = True).column('Gain'))\n",
    "    average_gains_2 = np.append(average_gains_2, average_gain_2)\n",
    "\n",
    "average_gains_2"
   ]
  },
  {
   "cell_type": "code",
   "execution_count": 181,
   "metadata": {},
   "outputs": [
    {
     "data": {
      "text/plain": [
       "(73.2, 103.0)"
      ]
     },
     "execution_count": 181,
     "metadata": {},
     "output_type": "execute_result"
    }
   ],
   "source": [
    "lower_bound = percentile(2.5, average_gains_2)\n",
    "upper_bound = percentile(97.5, average_gains_2)\n",
    "lower_bound, upper_bound"
   ]
  },
  {
   "cell_type": "markdown",
   "metadata": {},
   "source": [
    "## 4.3 (2 Points)\n",
    "Do you think we can say that the average weight gain for rats is different between rats who are fed protein from beef and rats who are fed protein from pork? Why or why not? Use your confidence intervals in the previous two questions to justify your answer. Write in complete sentences."
   ]
  },
  {
   "cell_type": "markdown",
   "metadata": {},
   "source": [
    "*I do not think that we are able to say that the average weight gain for rats is different between eats who are fed protein from beef and rats who are fed protein from pork. The confidence intervals for both groups are too similar to say that there is any real difference between the average weight gains.*"
   ]
  }
 ],
 "metadata": {
  "kernelspec": {
   "display_name": "Python 3",
   "language": "python",
   "name": "python3"
  },
  "language_info": {
   "codemirror_mode": {
    "name": "ipython",
    "version": 3
   },
   "file_extension": ".py",
   "mimetype": "text/x-python",
   "name": "python",
   "nbconvert_exporter": "python",
   "pygments_lexer": "ipython3",
   "version": "3.8.8"
  }
 },
 "nbformat": 4,
 "nbformat_minor": 4
}
