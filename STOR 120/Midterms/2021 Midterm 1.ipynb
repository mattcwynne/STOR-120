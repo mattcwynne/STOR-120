{
 "cells": [
  {
   "cell_type": "markdown",
   "metadata": {},
   "source": [
    "# STOR 120: Midterm 1\n",
    "\n",
    "**Due:** Friday, September 17, 10:10 am on Gradescope\n",
    "  \n",
    "**Directions:** The exam is open book, notes, course materials, internet, and all things that are not direct communication with others. Just as with all course assignments, you will submit exams to Gradescope as Jupyter Notebooks with the ipynb file extension. To receive full credit, you should show all of your code used to answer each question."
   ]
  },
  {
   "cell_type": "markdown",
   "metadata": {},
   "source": [
    "**Data:** The dataset used on this exam contains information on the number of students that majored in different topics of study at universities in the United States in 2019 and is broken down by age group, sex, and state. The original source of the data is the US Census Bureau, but this dataset was found on [Kaggle.com](https://www.kaggle.com/tjkyner/bachelor-degree-majors-by-age-sex-and-state)"
   ]
  },
  {
   "cell_type": "markdown",
   "metadata": {},
   "source": [
    "**Run the cell below to import the dataset.**"
   ]
  },
  {
   "cell_type": "code",
   "execution_count": 7,
   "metadata": {},
   "outputs": [
    {
     "data": {
      "text/html": [
       "<table border=\"1\" class=\"dataframe\">\n",
       "    <thead>\n",
       "        <tr>\n",
       "            <th>State</th> <th>Sex</th> <th>Age Group</th> <th>Bachelor's Degree Holders</th> <th>Science and Engineering</th> <th>Science and Engineering Related Fields</th> <th>Business</th> <th>Education</th> <th>Arts, Humanities and Others</th>\n",
       "        </tr>\n",
       "    </thead>\n",
       "    <tbody>\n",
       "        <tr>\n",
       "            <td>Alabama</td> <td>Total</td> <td>25 and older</td> <td>885,357                  </td> <td>263,555                </td> <td>98,445                                </td> <td>210,147 </td> <td>141,071  </td> <td>172,139                    </td>\n",
       "        </tr>\n",
       "        <tr>\n",
       "            <td>Alabama</td> <td>Total</td> <td>25 to 39    </td> <td>268,924                  </td> <td>90,736                 </td> <td>32,378                                </td> <td>58,515  </td> <td>29,342   </td> <td>57,953                     </td>\n",
       "        </tr>\n",
       "        <tr>\n",
       "            <td>Alabama</td> <td>Total</td> <td>40 to 64    </td> <td>418,480                  </td> <td>115,762                </td> <td>46,724                                </td> <td>112,271 </td> <td>63,875   </td> <td>79,848                     </td>\n",
       "        </tr>\n",
       "        <tr>\n",
       "            <td>Alabama</td> <td>Total</td> <td>65 and older</td> <td>197,953                  </td> <td>57,057                 </td> <td>19,343                                </td> <td>39,361  </td> <td>47,854   </td> <td>34,338                     </td>\n",
       "        </tr>\n",
       "        <tr>\n",
       "            <td>Alabama</td> <td>Male </td> <td>25 and older</td> <td>405,618                  </td> <td>159,366                </td> <td>26,004                                </td> <td>113,909 </td> <td>29,490   </td> <td>76,849                     </td>\n",
       "        </tr>\n",
       "        <tr>\n",
       "            <td>Alabama</td> <td>Male </td> <td>25 to 39    </td> <td>117,794                  </td> <td>50,188                 </td> <td>7,712                                 </td> <td>29,859  </td> <td>6,357    </td> <td>23,678                     </td>\n",
       "        </tr>\n",
       "        <tr>\n",
       "            <td>Alabama</td> <td>Male </td> <td>40 to 64    </td> <td>184,328                  </td> <td>67,977                 </td> <td>12,331                                </td> <td>54,931  </td> <td>12,820   </td> <td>36,269                     </td>\n",
       "        </tr>\n",
       "    </tbody>\n",
       "</table>"
      ],
      "text/plain": [
       "State   | Sex   | Age Group    | Bachelor's Degree Holders | Science and Engineering | Science and Engineering Related Fields | Business | Education | Arts, Humanities and Others\n",
       "Alabama | Total | 25 and older | 885,357                   | 263,555                 | 98,445                                 | 210,147  | 141,071   | 172,139\n",
       "Alabama | Total | 25 to 39     | 268,924                   | 90,736                  | 32,378                                 | 58,515   | 29,342    | 57,953\n",
       "Alabama | Total | 40 to 64     | 418,480                   | 115,762                 | 46,724                                 | 112,271  | 63,875    | 79,848\n",
       "Alabama | Total | 65 and older | 197,953                   | 57,057                  | 19,343                                 | 39,361   | 47,854    | 34,338\n",
       "Alabama | Male  | 25 and older | 405,618                   | 159,366                 | 26,004                                 | 113,909  | 29,490    | 76,849\n",
       "Alabama | Male  | 25 to 39     | 117,794                   | 50,188                  | 7,712                                  | 29,859   | 6,357     | 23,678\n",
       "Alabama | Male  | 40 to 64     | 184,328                   | 67,977                  | 12,331                                 | 54,931   | 12,820    | 36,269"
      ]
     },
     "execution_count": 7,
     "metadata": {},
     "output_type": "execute_result"
    }
   ],
   "source": [
    "from datascience import *\n",
    "import numpy as np\n",
    "\n",
    "%matplotlib inline\n",
    "import matplotlib.pyplot as plots\n",
    "plots.style.use('fivethirtyeight')\n",
    "\n",
    "import warnings\n",
    "warnings.simplefilter('ignore', FutureWarning)\n",
    "\n",
    "edu = Table.read_table('Bachelor_Degree_Majors.csv')\n",
    "edu.take(0,1,2,3,4,5,6)"
   ]
  },
  {
   "cell_type": "markdown",
   "metadata": {},
   "source": [
    "## Question 1 (5 Points)"
   ]
  },
  {
   "cell_type": "markdown",
   "metadata": {},
   "source": [
    "The first thing we need to do is clean the data. I want you to start by creating a new table named **edu_clean** with the following changes:\n",
    "- Rename the variables\n",
    "    - \"Bachelor's Degree Holders\" should become \"Total\"\n",
    "    - \"Science and Engineering\" should become \"ScEn\"\n",
    "    - \"Science and Engineering Related Fields should become \"ScEn Rel\"\n",
    "    - \"Arts, Humanities, and Others\" should become \"Other\"\n",
    "- Remove all observations where *Sex* is equal to *Total*"
   ]
  },
  {
   "cell_type": "code",
   "execution_count": 115,
   "metadata": {},
   "outputs": [
    {
     "data": {
      "text/html": [
       "<table border=\"1\" class=\"dataframe\">\n",
       "    <thead>\n",
       "        <tr>\n",
       "            <th>State</th> <th>Sex</th> <th>Age Group</th> <th>Total</th> <th>ScEn</th> <th>ScEn Rel</th> <th>Business</th> <th>Education</th> <th>Other</th>\n",
       "        </tr>\n",
       "    </thead>\n",
       "    <tbody>\n",
       "        <tr>\n",
       "            <td>Alabama</td> <td>Male  </td> <td>25 and older</td> <td>405,618</td> <td>159,366</td> <td>26,004  </td> <td>113,909 </td> <td>29,490   </td> <td>76,849</td>\n",
       "        </tr>\n",
       "        <tr>\n",
       "            <td>Alabama</td> <td>Male  </td> <td>25 to 39    </td> <td>117,794</td> <td>50,188 </td> <td>7,712   </td> <td>29,859  </td> <td>6,357    </td> <td>23,678</td>\n",
       "        </tr>\n",
       "        <tr>\n",
       "            <td>Alabama</td> <td>Male  </td> <td>40 to 64    </td> <td>184,328</td> <td>67,977 </td> <td>12,331  </td> <td>54,931  </td> <td>12,820   </td> <td>36,269</td>\n",
       "        </tr>\n",
       "        <tr>\n",
       "            <td>Alabama</td> <td>Male  </td> <td>65 and older</td> <td>103,496</td> <td>41,201 </td> <td>5,961   </td> <td>29,119  </td> <td>10,313   </td> <td>16,902</td>\n",
       "        </tr>\n",
       "        <tr>\n",
       "            <td>Alabama</td> <td>Female</td> <td>25 and older</td> <td>479,739</td> <td>104,189</td> <td>72,441  </td> <td>96,238  </td> <td>111,581  </td> <td>95,290</td>\n",
       "        </tr>\n",
       "        <tr>\n",
       "            <td>Alabama</td> <td>Female</td> <td>25 to 39    </td> <td>151,130</td> <td>40,548 </td> <td>24,666  </td> <td>28,656  </td> <td>22,985   </td> <td>34,275</td>\n",
       "        </tr>\n",
       "        <tr>\n",
       "            <td>Alabama</td> <td>Female</td> <td>40 to 64    </td> <td>234,152</td> <td>47,785 </td> <td>34,393  </td> <td>57,340  </td> <td>51,055   </td> <td>43,579</td>\n",
       "        </tr>\n",
       "        <tr>\n",
       "            <td>Alabama</td> <td>Female</td> <td>65 and older</td> <td>94,457 </td> <td>15,856 </td> <td>13,382  </td> <td>10,242  </td> <td>37,541   </td> <td>17,436</td>\n",
       "        </tr>\n",
       "        <tr>\n",
       "            <td>Alaska </td> <td>Male  </td> <td>25 and older</td> <td>65,820 </td> <td>30,952 </td> <td>3,713   </td> <td>11,869  </td> <td>4,418    </td> <td>14,868</td>\n",
       "        </tr>\n",
       "        <tr>\n",
       "            <td>Alaska </td> <td>Male  </td> <td>25 to 39    </td> <td>19,873 </td> <td>8,235  </td> <td>1,205   </td> <td>4,133   </td> <td>638      </td> <td>5,662 </td>\n",
       "        </tr>\n",
       "    </tbody>\n",
       "</table>\n",
       "<p>... (398 rows omitted)</p>"
      ],
      "text/plain": [
       "State   | Sex    | Age Group    | Total   | ScEn    | ScEn Rel | Business | Education | Other\n",
       "Alabama | Male   | 25 and older | 405,618 | 159,366 | 26,004   | 113,909  | 29,490    | 76,849\n",
       "Alabama | Male   | 25 to 39     | 117,794 | 50,188  | 7,712    | 29,859   | 6,357     | 23,678\n",
       "Alabama | Male   | 40 to 64     | 184,328 | 67,977  | 12,331   | 54,931   | 12,820    | 36,269\n",
       "Alabama | Male   | 65 and older | 103,496 | 41,201  | 5,961    | 29,119   | 10,313    | 16,902\n",
       "Alabama | Female | 25 and older | 479,739 | 104,189 | 72,441   | 96,238   | 111,581   | 95,290\n",
       "Alabama | Female | 25 to 39     | 151,130 | 40,548  | 24,666   | 28,656   | 22,985    | 34,275\n",
       "Alabama | Female | 40 to 64     | 234,152 | 47,785  | 34,393   | 57,340   | 51,055    | 43,579\n",
       "Alabama | Female | 65 and older | 94,457  | 15,856  | 13,382   | 10,242   | 37,541    | 17,436\n",
       "Alaska  | Male   | 25 and older | 65,820  | 30,952  | 3,713    | 11,869   | 4,418     | 14,868\n",
       "Alaska  | Male   | 25 to 39     | 19,873  | 8,235   | 1,205    | 4,133    | 638       | 5,662\n",
       "... (398 rows omitted)"
      ]
     },
     "execution_count": 115,
     "metadata": {},
     "output_type": "execute_result"
    }
   ],
   "source": [
    "edu_clean = edu.relabeled(\n",
    "    ['Bachelor\\'s Degree Holders', 'Science and Engineering', 'Science and Engineering Related Fields', 'Arts, Humanities and Others'],\n",
    "    ['Total', 'ScEn', 'ScEn Rel', 'Other']\n",
    ").where('Sex', are.not_equal_to('Total'))\n",
    "\n",
    "edu_clean #Do Not Change this Line"
   ]
  },
  {
   "cell_type": "markdown",
   "metadata": {},
   "source": [
    "## Question 2 (10 Points)"
   ]
  },
  {
   "cell_type": "markdown",
   "metadata": {},
   "source": [
    "Currently, there is a problem. We have several variables in our dataset that are numeric, but the presence of commas will prevent us from answering key questions about the data. Notice the following python code which can convert the string \"1,030,452\" to an integer."
   ]
  },
  {
   "cell_type": "code",
   "execution_count": 53,
   "metadata": {},
   "outputs": [
    {
     "data": {
      "text/plain": [
       "1030452"
      ]
     },
     "execution_count": 53,
     "metadata": {},
     "output_type": "execute_result"
    }
   ],
   "source": [
    "int(str.replace(\"1,030,452\",\",\",\"\"))"
   ]
  },
  {
   "cell_type": "markdown",
   "metadata": {},
   "source": [
    "In the next two code blocks, I want you to first create a function named **str_to_int** and then use the method **apply** to overwrite the last 6 variables of the data in **edu_clean**. Create a new table named **edu_clean_int** that is similar to the table above except the last six variables are *int* arrays and not *str* arrays. You will not get full credit if you do not create a function or do not use the **apply** method."
   ]
  },
  {
   "cell_type": "code",
   "execution_count": 54,
   "metadata": {},
   "outputs": [],
   "source": [
    "# Put your function here\n",
    "def str_to_int(string):\n",
    "    return int(string.replace(',' ,''))"
   ]
  },
  {
   "cell_type": "code",
   "execution_count": 116,
   "metadata": {},
   "outputs": [
    {
     "data": {
      "text/html": [
       "<table border=\"1\" class=\"dataframe\">\n",
       "    <thead>\n",
       "        <tr>\n",
       "            <th>State</th> <th>Sex</th> <th>Age Group</th> <th>Total</th> <th>ScEn</th> <th>ScEn Rel</th> <th>Business</th> <th>Education</th> <th>Other</th>\n",
       "        </tr>\n",
       "    </thead>\n",
       "    <tbody>\n",
       "        <tr>\n",
       "            <td>Alabama</td> <td>Male  </td> <td>25 and older</td> <td>405618</td> <td>159366</td> <td>26004   </td> <td>113909  </td> <td>29490    </td> <td>76849</td>\n",
       "        </tr>\n",
       "        <tr>\n",
       "            <td>Alabama</td> <td>Male  </td> <td>25 to 39    </td> <td>117794</td> <td>50188 </td> <td>7712    </td> <td>29859   </td> <td>6357     </td> <td>23678</td>\n",
       "        </tr>\n",
       "        <tr>\n",
       "            <td>Alabama</td> <td>Male  </td> <td>40 to 64    </td> <td>184328</td> <td>67977 </td> <td>12331   </td> <td>54931   </td> <td>12820    </td> <td>36269</td>\n",
       "        </tr>\n",
       "        <tr>\n",
       "            <td>Alabama</td> <td>Male  </td> <td>65 and older</td> <td>103496</td> <td>41201 </td> <td>5961    </td> <td>29119   </td> <td>10313    </td> <td>16902</td>\n",
       "        </tr>\n",
       "        <tr>\n",
       "            <td>Alabama</td> <td>Female</td> <td>25 and older</td> <td>479739</td> <td>104189</td> <td>72441   </td> <td>96238   </td> <td>111581   </td> <td>95290</td>\n",
       "        </tr>\n",
       "        <tr>\n",
       "            <td>Alabama</td> <td>Female</td> <td>25 to 39    </td> <td>151130</td> <td>40548 </td> <td>24666   </td> <td>28656   </td> <td>22985    </td> <td>34275</td>\n",
       "        </tr>\n",
       "        <tr>\n",
       "            <td>Alabama</td> <td>Female</td> <td>40 to 64    </td> <td>234152</td> <td>47785 </td> <td>34393   </td> <td>57340   </td> <td>51055    </td> <td>43579</td>\n",
       "        </tr>\n",
       "        <tr>\n",
       "            <td>Alabama</td> <td>Female</td> <td>65 and older</td> <td>94457 </td> <td>15856 </td> <td>13382   </td> <td>10242   </td> <td>37541    </td> <td>17436</td>\n",
       "        </tr>\n",
       "        <tr>\n",
       "            <td>Alaska </td> <td>Male  </td> <td>25 and older</td> <td>65820 </td> <td>30952 </td> <td>3713    </td> <td>11869   </td> <td>4418     </td> <td>14868</td>\n",
       "        </tr>\n",
       "        <tr>\n",
       "            <td>Alaska </td> <td>Male  </td> <td>25 to 39    </td> <td>19873 </td> <td>8235  </td> <td>1205    </td> <td>4133    </td> <td>638      </td> <td>5662 </td>\n",
       "        </tr>\n",
       "    </tbody>\n",
       "</table>\n",
       "<p>... (398 rows omitted)</p>"
      ],
      "text/plain": [
       "State   | Sex    | Age Group    | Total  | ScEn   | ScEn Rel | Business | Education | Other\n",
       "Alabama | Male   | 25 and older | 405618 | 159366 | 26004    | 113909   | 29490     | 76849\n",
       "Alabama | Male   | 25 to 39     | 117794 | 50188  | 7712     | 29859    | 6357      | 23678\n",
       "Alabama | Male   | 40 to 64     | 184328 | 67977  | 12331    | 54931    | 12820     | 36269\n",
       "Alabama | Male   | 65 and older | 103496 | 41201  | 5961     | 29119    | 10313     | 16902\n",
       "Alabama | Female | 25 and older | 479739 | 104189 | 72441    | 96238    | 111581    | 95290\n",
       "Alabama | Female | 25 to 39     | 151130 | 40548  | 24666    | 28656    | 22985     | 34275\n",
       "Alabama | Female | 40 to 64     | 234152 | 47785  | 34393    | 57340    | 51055     | 43579\n",
       "Alabama | Female | 65 and older | 94457  | 15856  | 13382    | 10242    | 37541     | 17436\n",
       "Alaska  | Male   | 25 and older | 65820  | 30952  | 3713     | 11869    | 4418      | 14868\n",
       "Alaska  | Male   | 25 to 39     | 19873  | 8235   | 1205     | 4133     | 638       | 5662\n",
       "... (398 rows omitted)"
      ]
     },
     "execution_count": 116,
     "metadata": {},
     "output_type": "execute_result"
    }
   ],
   "source": [
    "# Apply your function here\n",
    "edu_clean_int = edu_clean.with_columns(\n",
    "    'Total', edu_clean.apply(str_to_int, 'Total'),\n",
    "    'ScEn', edu_clean.apply(str_to_int, 'ScEn'),\n",
    "    'ScEn Rel', edu_clean.apply(str_to_int, 'ScEn Rel'),\n",
    "    'Business', edu_clean.apply(str_to_int, 'Business'),\n",
    "    'Education', edu_clean.apply(str_to_int, 'Education'),\n",
    "    'Other', edu_clean.apply(str_to_int, 'Other')\n",
    ")\n",
    "\n",
    "edu_clean_int #Do Not Change this Line"
   ]
  },
  {
   "cell_type": "code",
   "execution_count": 20,
   "metadata": {},
   "outputs": [],
   "source": [
    "# If you cannot figure out how to do this, run this code.\n",
    "# This code will load the cleaned version of the file.\n",
    "# You will need this to work if you want to complete the exam.\n",
    "# The rest of the exam depends on getting this part correct.\n",
    "# Only do this if you cannot figure this part out.\n",
    "# Uncomment the next two lines (remove # sign) and run code.\n",
    "\n",
    "\n",
    "#edu_clean_int = Table.read_table('Bachelors_Clean.csv')\n",
    "#edu_clean_int"
   ]
  },
  {
   "cell_type": "markdown",
   "metadata": {},
   "source": [
    "## Question 3 (14 Points)\n",
    "\n",
    "#### 3.1 (6 Points)\n",
    "Create a table called **Bachelors_by_Sex** based off **edu_clean_int** which has only two variables labeled \"Male (Millions)\" and \"Female (Millions)\". Each row in this table should contain the total number of bachelor's degrees in millions based on people 25 and older for males and females for each state. In other words, every row is for a different state, but the name of the state should not be in **Bachelors_by_Sex**. Sort this table by \"Female (Millions)\" in descending order."
   ]
  },
  {
   "cell_type": "code",
   "execution_count": 161,
   "metadata": {},
   "outputs": [
    {
     "data": {
      "text/html": [
       "<table border=\"1\" class=\"dataframe\">\n",
       "    <thead>\n",
       "        <tr>\n",
       "            <th>Male (Millions)</th> <th>Female (Millions)</th>\n",
       "        </tr>\n",
       "    </thead>\n",
       "    <tbody>\n",
       "        <tr>\n",
       "            <td>0.405618       </td> <td>0.479739         </td>\n",
       "        </tr>\n",
       "        <tr>\n",
       "            <td>0.06582        </td> <td>0.080337         </td>\n",
       "        </tr>\n",
       "        <tr>\n",
       "            <td>0.724089       </td> <td>0.768069         </td>\n",
       "        </tr>\n",
       "        <tr>\n",
       "            <td>0.215284       </td> <td>0.260083         </td>\n",
       "        </tr>\n",
       "        <tr>\n",
       "            <td>4.55996        </td> <td>4.86852          </td>\n",
       "        </tr>\n",
       "        <tr>\n",
       "            <td>0.828932       </td> <td>0.86667          </td>\n",
       "        </tr>\n",
       "        <tr>\n",
       "            <td>0.46705        </td> <td>0.527498         </td>\n",
       "        </tr>\n",
       "        <tr>\n",
       "            <td>0.106244       </td> <td>0.121955         </td>\n",
       "        </tr>\n",
       "        <tr>\n",
       "            <td>0.143674       </td> <td>0.157755         </td>\n",
       "        </tr>\n",
       "        <tr>\n",
       "            <td>2.26783        </td> <td>2.4858           </td>\n",
       "        </tr>\n",
       "    </tbody>\n",
       "</table>\n",
       "<p>... (41 rows omitted)</p>"
      ],
      "text/plain": [
       "Male (Millions) | Female (Millions)\n",
       "0.405618        | 0.479739\n",
       "0.06582         | 0.080337\n",
       "0.724089        | 0.768069\n",
       "0.215284        | 0.260083\n",
       "4.55996         | 4.86852\n",
       "0.828932        | 0.86667\n",
       "0.46705         | 0.527498\n",
       "0.106244        | 0.121955\n",
       "0.143674        | 0.157755\n",
       "2.26783         | 2.4858\n",
       "... (41 rows omitted)"
      ]
     },
     "execution_count": 161,
     "metadata": {},
     "output_type": "execute_result"
    }
   ],
   "source": [
    "Bachelors_by_Sex = Table().with_columns(\n",
    "    'Male (Millions)', edu_clean_int.where('Age Group', '25 and older').select(0, 1, 3).pivot('Sex', 'State', 'Total', int).column('Male') / 1000000,\n",
    "    'Female (Millions)', edu_clean_int.where('Age Group', '25 and older').select(0, 1, 3).pivot('Sex', 'State', 'Total', int).column('Female') / 1000000\n",
    ")\n",
    "\n",
    "Bachelors_by_Sex #Do Not Change this Line"
   ]
  },
  {
   "cell_type": "markdown",
   "metadata": {},
   "source": [
    "#### 3.2 (4 Points)\n",
    "Create a scatter plot that shows the relationship between the two numeric variables in **Bachelors_by_Sex**. Add a title to the plot called \"Total Bachelor's Degrees\"."
   ]
  },
  {
   "cell_type": "code",
   "execution_count": 87,
   "metadata": {},
   "outputs": [
    {
     "data": {
      "image/png": "[encoded data removed]",
      "text/plain": [
       "<Figure size 360x360 with 1 Axes>"
      ]
     },
     "metadata": {},
     "output_type": "display_data"
    }
   ],
   "source": [
    "Bachelors_by_Sex.scatter('Male (Millions)')\n",
    "plots.title('Total Bachelor\\'s Degrees');"
   ]
  },
  {
   "cell_type": "markdown",
   "metadata": {},
   "source": [
    "#### 3.3 (4 Points)\n",
    "In the scatterplot, you will notice that there is one state that has an unusually large amount of people with bachelor's degrees. Use the table methods you learned in class on the table **edu_clean_int** to identify this state and print out a table below that only shows this one state and the total number of bachelor's degrees for male and female based on people 25 and older (Female and Male). This table should contain one state and two rows. I don't care if you include all of the variables from the table **edu_clean_int**."
   ]
  },
  {
   "cell_type": "code",
   "execution_count": 92,
   "metadata": {},
   "outputs": [
    {
     "data": {
      "text/html": [
       "<table border=\"1\" class=\"dataframe\">\n",
       "    <thead>\n",
       "        <tr>\n",
       "            <th>State</th> <th>Sex</th> <th>Age Group</th> <th>Total</th> <th>ScEn</th> <th>ScEn Rel</th> <th>Business</th> <th>Education</th> <th>Other</th>\n",
       "        </tr>\n",
       "    </thead>\n",
       "    <tbody>\n",
       "        <tr>\n",
       "            <td>California</td> <td>Female</td> <td>25 and older</td> <td>4868520</td> <td>1653732</td> <td>538515  </td> <td>806195  </td> <td>440910   </td> <td>1429168</td>\n",
       "        </tr>\n",
       "        <tr>\n",
       "            <td>California</td> <td>Male  </td> <td>25 and older</td> <td>4559964</td> <td>2275829</td> <td>242881  </td> <td>914899  </td> <td>139456   </td> <td>986899 </td>\n",
       "        </tr>\n",
       "    </tbody>\n",
       "</table>"
      ],
      "text/plain": [
       "State      | Sex    | Age Group    | Total   | ScEn    | ScEn Rel | Business | Education | Other\n",
       "California | Female | 25 and older | 4868520 | 1653732 | 538515   | 806195   | 440910    | 1429168\n",
       "California | Male   | 25 and older | 4559964 | 2275829 | 242881   | 914899   | 139456    | 986899"
      ]
     },
     "execution_count": 92,
     "metadata": {},
     "output_type": "execute_result"
    }
   ],
   "source": [
    "edu_clean_int.sort('Total', descending = True).take(0, 1)"
   ]
  },
  {
   "cell_type": "markdown",
   "metadata": {},
   "source": [
    "## Question 4 (14 Points)\n",
    "\n",
    "#### 4.1 (6 Points)\n",
    "In order to make comparisons across states, it may be helpful to convert our counts to proportions. We want to compare states based on the percentage of bachelor's degrees that are \"ScEn\" and \"ScEn Rel\" for people in the \"25 to 39\" age group. Create a table named **young_prop** based on **edu_clean_int** by subsetting the data based off the mentioned age group, removing the variables named \"Age Group\", \"Business\", \"Education\", and \"Other\", creating a new variable called \"STEM\" which calculates the percentage of total bachelor's degrees that are either \"ScEn\" or \"ScEn Rel\" for Males and Femals and finally, removing the variables \"Total\", \"ScEn\" and \"ScEn Rel\". Your final table named **young_prop** should contain three variables: \"State\", \"Sex\", and \"STEM\"."
   ]
  },
  {
   "cell_type": "code",
   "execution_count": 117,
   "metadata": {},
   "outputs": [
    {
     "data": {
      "text/html": [
       "<table border=\"1\" class=\"dataframe\">\n",
       "    <thead>\n",
       "        <tr>\n",
       "            <th>State</th> <th>Sex</th> <th>STEM</th>\n",
       "        </tr>\n",
       "    </thead>\n",
       "    <tbody>\n",
       "        <tr>\n",
       "            <td>Alabama   </td> <td>Male  </td> <td>0.491536</td>\n",
       "        </tr>\n",
       "        <tr>\n",
       "            <td>Alabama   </td> <td>Female</td> <td>0.431509</td>\n",
       "        </tr>\n",
       "        <tr>\n",
       "            <td>Alaska    </td> <td>Male  </td> <td>0.475016</td>\n",
       "        </tr>\n",
       "        <tr>\n",
       "            <td>Alaska    </td> <td>Female</td> <td>0.496761</td>\n",
       "        </tr>\n",
       "        <tr>\n",
       "            <td>Arizona   </td> <td>Male  </td> <td>0.52622 </td>\n",
       "        </tr>\n",
       "        <tr>\n",
       "            <td>Arizona   </td> <td>Female</td> <td>0.465594</td>\n",
       "        </tr>\n",
       "        <tr>\n",
       "            <td>Arkansas  </td> <td>Male  </td> <td>0.501112</td>\n",
       "        </tr>\n",
       "        <tr>\n",
       "            <td>Arkansas  </td> <td>Female</td> <td>0.435061</td>\n",
       "        </tr>\n",
       "        <tr>\n",
       "            <td>California</td> <td>Male  </td> <td>0.554143</td>\n",
       "        </tr>\n",
       "        <tr>\n",
       "            <td>California</td> <td>Female</td> <td>0.492849</td>\n",
       "        </tr>\n",
       "    </tbody>\n",
       "</table>\n",
       "<p>... (92 rows omitted)</p>"
      ],
      "text/plain": [
       "State      | Sex    | STEM\n",
       "Alabama    | Male   | 0.491536\n",
       "Alabama    | Female | 0.431509\n",
       "Alaska     | Male   | 0.475016\n",
       "Alaska     | Female | 0.496761\n",
       "Arizona    | Male   | 0.52622\n",
       "Arizona    | Female | 0.465594\n",
       "Arkansas   | Male   | 0.501112\n",
       "Arkansas   | Female | 0.435061\n",
       "California | Male   | 0.554143\n",
       "California | Female | 0.492849\n",
       "... (92 rows omitted)"
      ]
     },
     "execution_count": 117,
     "metadata": {},
     "output_type": "execute_result"
    }
   ],
   "source": [
    "from_25_to_39 = edu_clean_int.where('Age Group', '25 to 39')\n",
    "percentages = (from_25_to_39.column('ScEn') + from_25_to_39.column('ScEn Rel')) / from_25_to_39.column('Total')\n",
    "\n",
    "young_prop = from_25_to_39.select('State', 'Sex').with_column('STEM', percentages)\n",
    "young_prop #Do Not Change this Line"
   ]
  },
  {
   "cell_type": "markdown",
   "metadata": {},
   "source": [
    "#### 4.2 (4 Points)\n",
    "I want you to create a histogram of the variable \"STEM\" for females and males separately. In these plots, I want you to specify the unit of \"STEM\" as \"Proportion\" and I want you to add the line of code \"*plots.xlim([0.3,0.7]);*\". The word \"Proportion\" reminds people that the values on the x-axis represent the proportion of bachelor's degrees that are STEM degrees. The additional line of code ensures that we can easily compare the histogram for females to the one for males."
   ]
  },
  {
   "cell_type": "code",
   "execution_count": 113,
   "metadata": {},
   "outputs": [
    {
     "data": {
      "image/png": "[encoded data removed]",
      "text/plain": [
       "<Figure size 432x288 with 1 Axes>"
      ]
     },
     "metadata": {},
     "output_type": "display_data"
    }
   ],
   "source": [
    "# Put the histogram for females here\n",
    "young_prop.where('Sex', 'Female').hist('STEM', unit = 'Proportion')\n",
    "plots.xlim([0.3,0.7]);"
   ]
  },
  {
   "cell_type": "code",
   "execution_count": 114,
   "metadata": {},
   "outputs": [
    {
     "data": {
      "image/png": "[encoded data removed]",
      "text/plain": [
       "<Figure size 432x288 with 1 Axes>"
      ]
     },
     "metadata": {},
     "output_type": "display_data"
    }
   ],
   "source": [
    "# Put the histogram for males here\n",
    "young_prop.where('Sex', 'Male').hist('STEM', unit = 'Proportion')\n",
    "plots.xlim([0.3,0.7]);"
   ]
  },
  {
   "cell_type": "markdown",
   "metadata": {},
   "source": [
    "#### 4.3 (4 Points)\n",
    "\n",
    "From the two histograms above, what do you learn about the difference between males and females in the \"25 to 39\" age group? Cite your reason(s) for your conclusion using properties of the histograms above."
   ]
  },
  {
   "cell_type": "markdown",
   "metadata": {},
   "source": [
    "*In the 25 to 39 age group, a larger proportion of males have STEM degrees when compared to females. This can be seen in the histograms above, where the maximum and minimum proportions for males are around 0.60 and 0.43, while the maximum and minimum proportions for females are around 0.55 and 0.40.*"
   ]
  },
  {
   "cell_type": "markdown",
   "metadata": {},
   "source": [
    "## Question 5\n",
    "\n",
    "#### 5.1 (4 Points)\n",
    "Starting with **edu_clean_int**, I want you to use the **group** method to count the total number of business degrees for females and males across all age groups and states. I only care about business degrees in this problem. Then, I want you to create a horizontal bar plot summarizing the information about business degrees. You can do this in multiple steps. I just want to see the bar plot. If you don't use the **group** method, you will not get full credit."
   ]
  },
  {
   "cell_type": "code",
   "execution_count": 146,
   "metadata": {},
   "outputs": [
    {
     "data": {
      "image/png": "[encoded data removed]",
      "text/plain": [
       "<Figure size 432x288 with 1 Axes>"
      ]
     },
     "metadata": {},
     "output_type": "display_data"
    }
   ],
   "source": [
    "edu_clean_int.where('Age Group', '25 and older').group('Sex', sum).relabeled('Business sum', 'Business Degrees').barh('Sex', 'Business Degrees')"
   ]
  },
  {
   "cell_type": "markdown",
   "metadata": {},
   "source": [
    "#### 5.2 (4 Points)\n",
    "\n",
    "This question is similar to the previous question except we want to consider age group here. Use the **pivot** method to count the total number of business degrees for every combination between \"Sex\" and \"Age Group\". I want the categories of \"Sex\" to be on the two rows and the categories of \"Age Group\" to be on the columns. Since the \"25 and older\" category contains all ages, remove it from consideration. Save this pivot table to an object named **Sex_Age_Business**."
   ]
  },
  {
   "cell_type": "code",
   "execution_count": 162,
   "metadata": {},
   "outputs": [
    {
     "data": {
      "text/html": [
       "<table border=\"1\" class=\"dataframe\">\n",
       "    <thead>\n",
       "        <tr>\n",
       "            <th>Sex</th> <th>25 to 39</th> <th>40 to 64</th> <th>65 and older</th>\n",
       "        </tr>\n",
       "    </thead>\n",
       "    <tbody>\n",
       "        <tr>\n",
       "            <td>Female</td> <td>2296595 </td> <td>3814992 </td> <td>706630      </td>\n",
       "        </tr>\n",
       "        <tr>\n",
       "            <td>Male  </td> <td>2516308 </td> <td>3979550 </td> <td>1766633     </td>\n",
       "        </tr>\n",
       "    </tbody>\n",
       "</table>"
      ],
      "text/plain": [
       "Sex    | 25 to 39 | 40 to 64 | 65 and older\n",
       "Female | 2296595  | 3814992  | 706630\n",
       "Male   | 2516308  | 3979550  | 1766633"
      ]
     },
     "execution_count": 162,
     "metadata": {},
     "output_type": "execute_result"
    }
   ],
   "source": [
    "Sex_Age_Business = edu_clean_int.where('Age Group', are.not_equal_to('25 and older')).group(['Sex', 'Age Group'], sum).pivot('Age Group', 'Sex', 'Business sum', int)\n",
    "\n",
    "Sex_Age_Business #Do Not Change this Line\""
   ]
  },
  {
   "cell_type": "markdown",
   "metadata": {},
   "source": [
    "#### 5.3 (4 Points)\n",
    "\n",
    "Then, create a horizontal bar plot of the total number of business degrees for every combination between \"Sex\" and \"Age Group\" (excluding \"25 and older\"). Use your table created in the previous question. The barplot should have the two \"Sex\" categories on the vertical axis, and the three \"Age Group\" categories should be in the legend. Give this plot a title called \"Number of Business Degrees\"."
   ]
  },
  {
   "cell_type": "code",
   "execution_count": 168,
   "metadata": {},
   "outputs": [
    {
     "data": {
      "image/png": "[encoded data removed]",
      "text/plain": [
       "<Figure size 432x288 with 1 Axes>"
      ]
     },
     "metadata": {},
     "output_type": "display_data"
    }
   ],
   "source": [
    "Sex_Age_Business.barh('Sex')\n",
    "plots.title('Number of Business Degrees');"
   ]
  }
 ],
 "metadata": {
  "kernelspec": {
   "display_name": "Python 3",
   "language": "python",
   "name": "python3"
  },
  "language_info": {
   "codemirror_mode": {
    "name": "ipython",
    "version": 3
   },
   "file_extension": ".py",
   "mimetype": "text/x-python",
   "name": "python",
   "nbconvert_exporter": "python",
   "pygments_lexer": "ipython3",
   "version": "3.8.8"
  }
 },
 "nbformat": 4,
 "nbformat_minor": 4
}
