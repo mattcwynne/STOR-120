{
 "cells": [
  {
   "cell_type": "markdown",
   "metadata": {},
   "source": [
    "# Homework 4: Functions, Groups, and Joins"
   ]
  },
  {
   "cell_type": "markdown",
   "metadata": {},
   "source": [
    "**Reading**: \n",
    "\n",
    "* [Visualizing Numerical Distributions](https://inferentialthinking.com/chapters/07/2/Visualizing_Numerical_Distributions.html) \n",
    "* [Functions and Tables](https://inferentialthinking.com/chapters/08/Functions_and_Tables.html)"
   ]
  },
  {
   "cell_type": "markdown",
   "metadata": {},
   "source": [
    "**Throughout this homework and all future ones, please be sure to not re-assign variables throughout the notebook!** For example, if you use `max_temperature` in your answer to one question, do not reassign it later on. Moreover, please be sure to only put your written answers in the provided cells. \n",
    "\n",
    "\n",
    "**Deadline:**\n",
    "\n",
    "This assignment is due Wednesday, September 15 at 5:00 PM. Late work will penalized as stated in the syllabus."
   ]
  },
  {
   "cell_type": "code",
   "execution_count": 1,
   "metadata": {},
   "outputs": [],
   "source": [
    "# Don't change this cell; just run it. \n",
    "\n",
    "import numpy as np\n",
    "from datascience import *\n",
    "\n",
    "# These lines do some fancy plotting magic.\n",
    "\n",
    "import matplotlib\n",
    "%matplotlib inline\n",
    "import matplotlib.pyplot as plt\n",
    "plt.style.use('fivethirtyeight')"
   ]
  },
  {
   "cell_type": "markdown",
   "metadata": {},
   "source": [
    "## 1. Burrito-ful San Diego"
   ]
  },
  {
   "cell_type": "markdown",
   "metadata": {},
   "source": [
    "Tam, Margaret and Winifred are trying to use Data Science to find the best burritos in San Diego! Their friends Irene and Maya provided them with two comprehensive datasets on many burrito establishments in the San Diego area taken from (and cleaned from): https://www.kaggle.com/srcole/burritos-in-san-diego/data"
   ]
  },
  {
   "cell_type": "markdown",
   "metadata": {},
   "source": [
    "The following cell reads in a table called `ratings` which contains names of burrito restaurants, their Yelp rating, Google rating, as well as their Overall rating. It also reads in a table called `burritos_types` which contains names of burrito restaurants, their menu items, and the cost of the respective menu item at the restaurant."
   ]
  },
  {
   "cell_type": "code",
   "execution_count": 5,
   "metadata": {
    "editable": false
   },
   "outputs": [
    {
     "data": {
      "text/html": [
       "<table border=\"1\" class=\"dataframe\">\n",
       "    <thead>\n",
       "        <tr>\n",
       "            <th>Name</th> <th>Yelp</th> <th>Google</th> <th>Overall</th>\n",
       "        </tr>\n",
       "    </thead>\n",
       "    <tbody>\n",
       "        <tr>\n",
       "            <td>Albertacos                </td> <td>3.5 </td> <td>3.9   </td> <td>3.45   </td>\n",
       "        </tr>\n",
       "        <tr>\n",
       "            <td>Burrito Factory           </td> <td>4.5 </td> <td>4.8   </td> <td>3.5    </td>\n",
       "        </tr>\n",
       "        <tr>\n",
       "            <td>Burros and Fries          </td> <td>3.5 </td> <td>4.1   </td> <td>3.575  </td>\n",
       "        </tr>\n",
       "        <tr>\n",
       "            <td>Caliente Mexican Food     </td> <td>3.5 </td> <td>4.4   </td> <td>3.25   </td>\n",
       "        </tr>\n",
       "        <tr>\n",
       "            <td>California Burrito Company</td> <td>3.5 </td> <td>4.4   </td> <td>3.2    </td>\n",
       "        </tr>\n",
       "    </tbody>\n",
       "</table>\n",
       "<p>... (77 rows omitted)</p>"
      ],
      "text/plain": [
       "<IPython.core.display.HTML object>"
      ]
     },
     "metadata": {},
     "output_type": "display_data"
    },
    {
     "data": {
      "text/html": [
       "<table border=\"1\" class=\"dataframe\">\n",
       "    <thead>\n",
       "        <tr>\n",
       "            <th>Name</th> <th>Menu_Item</th> <th>Cost</th>\n",
       "        </tr>\n",
       "    </thead>\n",
       "    <tbody>\n",
       "        <tr>\n",
       "            <td>Albertacos                                         </td> <td>California          </td> <td>5.7 </td>\n",
       "        </tr>\n",
       "        <tr>\n",
       "            <td>Albertacos                                         </td> <td>Carne asada         </td> <td>5.25</td>\n",
       "        </tr>\n",
       "        <tr>\n",
       "            <td>Alberto's 623 N Escondido Blvd, Escondido, CA 92025</td> <td>Carne Asada         </td> <td>4.59</td>\n",
       "        </tr>\n",
       "        <tr>\n",
       "            <td>Burrito Box                                        </td> <td>Steak with guacamole</td> <td>11.5</td>\n",
       "        </tr>\n",
       "        <tr>\n",
       "            <td>Burrito Factory                                    </td> <td>Steak everything    </td> <td>7.35</td>\n",
       "        </tr>\n",
       "    </tbody>\n",
       "</table>\n",
       "<p>... (244 rows omitted)</p>"
      ],
      "text/plain": [
       "<IPython.core.display.HTML object>"
      ]
     },
     "metadata": {},
     "output_type": "display_data"
    }
   ],
   "source": [
    "#Just run this cell\n",
    "ratings = Table.read_table(\"ratings.csv\")\n",
    "ratings.show(5)\n",
    "burritos_types = Table.read_table(\"burritos_types.csv\")\n",
    "burritos_types.show(5)"
   ]
  },
  {
   "cell_type": "markdown",
   "metadata": {},
   "source": [
    "**Question 1.1.** It would be easier if we could combine the information in both tables. Assign `burritos` to the result of joining the two tables together.\n",
    "\n",
    "<!--\n",
    "BEGIN QUESTION\n",
    "name: q1_1\n",
    "-->"
   ]
  },
  {
   "cell_type": "code",
   "execution_count": 6,
   "metadata": {
    "scrolled": true
   },
   "outputs": [
    {
     "data": {
      "text/html": [
       "<table border=\"1\" class=\"dataframe\">\n",
       "    <thead>\n",
       "        <tr>\n",
       "            <th>Name</th> <th>Yelp</th> <th>Google</th> <th>Overall</th> <th>Menu_Item</th> <th>Cost</th>\n",
       "        </tr>\n",
       "    </thead>\n",
       "    <tbody>\n",
       "        <tr>\n",
       "            <td>Albertacos      </td> <td>3.5 </td> <td>3.9   </td> <td>3.45   </td> <td>California       </td> <td>5.7 </td>\n",
       "        </tr>\n",
       "        <tr>\n",
       "            <td>Albertacos      </td> <td>3.5 </td> <td>3.9   </td> <td>3.45   </td> <td>Carne asada      </td> <td>5.25</td>\n",
       "        </tr>\n",
       "        <tr>\n",
       "            <td>Burrito Factory </td> <td>4.5 </td> <td>4.8   </td> <td>3.5    </td> <td>Steak everything </td> <td>7.35</td>\n",
       "        </tr>\n",
       "        <tr>\n",
       "            <td>Burros and Fries</td> <td>3.5 </td> <td>4.1   </td> <td>3.575  </td> <td>California       </td> <td>7.19</td>\n",
       "        </tr>\n",
       "        <tr>\n",
       "            <td>Burros and Fries</td> <td>3.5 </td> <td>4.1   </td> <td>3.575  </td> <td>Carne asada      </td> <td>6.89</td>\n",
       "        </tr>\n",
       "    </tbody>\n",
       "</table>\n",
       "<p>... (207 rows omitted)</p>"
      ],
      "text/plain": [
       "<IPython.core.display.HTML object>"
      ]
     },
     "metadata": {},
     "output_type": "display_data"
    }
   ],
   "source": [
    "burritos = ratings.join('Name', burritos_types, 'Name')\n",
    "burritos.show(5)"
   ]
  },
  {
   "cell_type": "markdown",
   "metadata": {},
   "source": [
    "**Question 1.2.** Let's look at how the Yelp scores compare to the Google scores in the `burritos` table. First, assign `yelp_and_google` to a table only containing the columns `Yelp` and `Google`. Then, make a scatter plot with Yelp scores on the y-axis and the Google scores on the x-axis. \n",
    "\n",
    "<!--\n",
    "BEGIN QUESTION\n",
    "name: q1_2\n",
    "manual: True\n",
    "-->\n",
    "<!-- EXPORT TO PDF -->"
   ]
  },
  {
   "cell_type": "code",
   "execution_count": 7,
   "metadata": {
    "export_pdf": true
   },
   "outputs": [
    {
     "data": {
      "image/png": "[encoded data removed]",
      "text/plain": [
       "<Figure size 360x360 with 1 Axes>"
      ]
     },
     "metadata": {},
     "output_type": "display_data"
    }
   ],
   "source": [
    "yelp_and_google = burritos.select('Yelp',  'Google')\n",
    "yelp_and_google.scatter('Google', 'Yelp')\n",
    "# Don't change/edit/remove the following line.\n",
    "# To help you make conclusions, we have plotted a straight line on the graph (y=x)\n",
    "plt.plot(np.arange(2.5,5,.5), np.arange(2.5,5,.5));"
   ]
  },
  {
   "cell_type": "markdown",
   "metadata": {},
   "source": [
    "**Question 1.3.** Looking at the scatter plot you just made in Question 1.2, do you notice any pattern(s) (i.e. is one of the two types of scores consistently higher than the other one)? If so, describe them **briefly** in the cell below.\n",
    "\n",
    "<!--\n",
    "BEGIN QUESTION\n",
    "name: q1_3\n",
    "manual: True\n",
    "-->\n",
    "<!-- EXPORT TO PDF -->"
   ]
  },
  {
   "cell_type": "markdown",
   "metadata": {
    "export_pdf": true
   },
   "source": [
    "*The Google rating tends to be higher than the Yelp rating.*"
   ]
  },
  {
   "cell_type": "markdown",
   "metadata": {},
   "source": [
    "**Question 1.4**. Winifred thinks California `burritos` are the best type of burritos, and wants to see the overall rating for all restaurants that sell any type of California burritos (i.e. California, California Chicken, oaxocalifornia, etc...). Create a table that has two columns: the name of the restaurants that sell any type of California burrito (only one row per restaurant) and the overall rating for that restaurant.\n",
    "\n",
    "*Tip: Revisit the burritos table to see how all types of California burritos are represented.*\n",
    "\n",
    "*Note: you can break up the solution into multiple lines, as long as you assign the final output table to `california_burritos`! \n",
    "\n",
    "<!--\n",
    "BEGIN QUESTION\n",
    "name: q1_4\n",
    "-->"
   ]
  },
  {
   "cell_type": "code",
   "execution_count": 25,
   "metadata": {},
   "outputs": [
    {
     "data": {
      "text/html": [
       "<table border=\"1\" class=\"dataframe\">\n",
       "    <thead>\n",
       "        <tr>\n",
       "            <th>Name</th> <th>Overall</th>\n",
       "        </tr>\n",
       "    </thead>\n",
       "    <tbody>\n",
       "        <tr>\n",
       "            <td>Albertacos                </td> <td>3.45   </td>\n",
       "        </tr>\n",
       "        <tr>\n",
       "            <td>Burros and Fries          </td> <td>3.575  </td>\n",
       "        </tr>\n",
       "        <tr>\n",
       "            <td>Caliente Mexican Food     </td> <td>3.25   </td>\n",
       "        </tr>\n",
       "        <tr>\n",
       "            <td>California Burrito Company</td> <td>3.2    </td>\n",
       "        </tr>\n",
       "        <tr>\n",
       "            <td>California Burritos       </td> <td>4.1    </td>\n",
       "        </tr>\n",
       "        <tr>\n",
       "            <td>Cancun Mexican & Seafood  </td> <td>4.1    </td>\n",
       "        </tr>\n",
       "        <tr>\n",
       "            <td>Cortez Mexican Food       </td> <td>3.2    </td>\n",
       "        </tr>\n",
       "        <tr>\n",
       "            <td>Cotixan                   </td> <td>3.6    </td>\n",
       "        </tr>\n",
       "        <tr>\n",
       "            <td>Don Carlos Taco Shop      </td> <td>3.3    </td>\n",
       "        </tr>\n",
       "        <tr>\n",
       "            <td>Donato's taco shop        </td> <td>3.8    </td>\n",
       "        </tr>\n",
       "    </tbody>\n",
       "</table>\n",
       "<p>... (44 rows omitted)</p>"
      ],
      "text/plain": [
       "Name                       | Overall\n",
       "Albertacos                 | 3.45\n",
       "Burros and Fries           | 3.575\n",
       "Caliente Mexican Food      | 3.25\n",
       "California Burrito Company | 3.2\n",
       "California Burritos        | 4.1\n",
       "Cancun Mexican & Seafood   | 4.1\n",
       "Cortez Mexican Food        | 3.2\n",
       "Cotixan                    | 3.6\n",
       "Don Carlos Taco Shop       | 3.3\n",
       "Donato's taco shop         | 3.8\n",
       "... (44 rows omitted)"
      ]
     },
     "execution_count": 25,
     "metadata": {},
     "output_type": "execute_result"
    }
   ],
   "source": [
    "california_burritos = burritos.with_column('Menu_Item', np.char.lower(burritos.column('Menu_Item'))).where('Menu_Item', are.containing('california')).group(['Name', 'Overall']).select('Name', 'Overall')\n",
    "california_burritos"
   ]
  },
  {
   "cell_type": "markdown",
   "metadata": {},
   "source": [
    "**Question 1.5**. Given this new table `california_burritos`, Winifred can figure out the name of the restaurant with the highest overall rating that sells any type of California burritos! Assign `best_restaurant` to a line of code that evaluates to a string that corresponds to the name of the restaurant with the highest overall rating that sells any type of California burritos.\n",
    "\n",
    "<!--\n",
    "BEGIN QUESTION\n",
    "name: q1_5\n",
    "-->"
   ]
  },
  {
   "cell_type": "code",
   "execution_count": 20,
   "metadata": {},
   "outputs": [
    {
     "data": {
      "text/plain": [
       "'Mikes Taco Club'"
      ]
     },
     "execution_count": 20,
     "metadata": {},
     "output_type": "execute_result"
    }
   ],
   "source": [
    "best_restaurant = california_burritos.sort('Overall', descending = True).column('Name').item(0)\n",
    "best_restaurant"
   ]
  },
  {
   "cell_type": "markdown",
   "metadata": {},
   "source": [
    "## 2. Faculty salaries\n"
   ]
  },
  {
   "cell_type": "markdown",
   "metadata": {},
   "source": [
    "This exercise is designed to give you practice using the Table methods `pivot` and `group`. "
   ]
  },
  {
   "cell_type": "markdown",
   "metadata": {},
   "source": [
    "In the next cell, we load a dataset created by the [Daily Cal](http://projects.dailycal.org/paychecker/) which contains Berkeley faculty, their departments, their positions, and their gross salaries in 2015."
   ]
  },
  {
   "cell_type": "code",
   "execution_count": 2,
   "metadata": {},
   "outputs": [
    {
     "data": {
      "text/html": [
       "<table border=\"1\" class=\"dataframe\">\n",
       "    <thead>\n",
       "        <tr>\n",
       "            <th>name</th> <th>department</th> <th>position</th> <th>gross_salary</th>\n",
       "        </tr>\n",
       "    </thead>\n",
       "    <tbody>\n",
       "        <tr>\n",
       "            <td>CYNTHIA ABAN   </td> <td>South & Southeast Asian Studies</td> <td>lecturer           </td> <td>64450       </td>\n",
       "        </tr>\n",
       "        <tr>\n",
       "            <td>PIETER ABBEEL  </td> <td>Computer Science               </td> <td>associate professor</td> <td>184998      </td>\n",
       "        </tr>\n",
       "        <tr>\n",
       "            <td>SALLY ABEL     </td> <td>Law                            </td> <td>lecturer           </td> <td>3466        </td>\n",
       "        </tr>\n",
       "        <tr>\n",
       "            <td>ELIZABETH ABEL </td> <td>English                        </td> <td>professor          </td> <td>138775      </td>\n",
       "        </tr>\n",
       "        <tr>\n",
       "            <td>DOR ABRAHAMSON </td> <td>Education                      </td> <td>associate professor</td> <td>100300      </td>\n",
       "        </tr>\n",
       "        <tr>\n",
       "            <td>KATHRYN ABRAMS </td> <td>Law                            </td> <td>professor          </td> <td>319693      </td>\n",
       "        </tr>\n",
       "        <tr>\n",
       "            <td>BARBARA ABRAMS </td> <td>Public Health                  </td> <td>professor          </td> <td>191162      </td>\n",
       "        </tr>\n",
       "        <tr>\n",
       "            <td>SARAH ACCOMAZZO</td> <td>Social Welfare                 </td> <td>lecturer           </td> <td>14779       </td>\n",
       "        </tr>\n",
       "        <tr>\n",
       "            <td>CHARISMA ACEY  </td> <td>City and Regional Planning     </td> <td>assistant professor</td> <td>101567      </td>\n",
       "        </tr>\n",
       "        <tr>\n",
       "            <td>DAVID ACKERLY  </td> <td>Biology                        </td> <td>professor          </td> <td>182288      </td>\n",
       "        </tr>\n",
       "    </tbody>\n",
       "</table>\n",
       "<p>... (2049 rows omitted)</p>"
      ],
      "text/plain": [
       "name            | department                      | position            | gross_salary\n",
       "CYNTHIA ABAN    | South & Southeast Asian Studies | lecturer            | 64450\n",
       "PIETER ABBEEL   | Computer Science                | associate professor | 184998\n",
       "SALLY ABEL      | Law                             | lecturer            | 3466\n",
       "ELIZABETH ABEL  | English                         | professor           | 138775\n",
       "DOR ABRAHAMSON  | Education                       | associate professor | 100300\n",
       "KATHRYN ABRAMS  | Law                             | professor           | 319693\n",
       "BARBARA ABRAMS  | Public Health                   | professor           | 191162\n",
       "SARAH ACCOMAZZO | Social Welfare                  | lecturer            | 14779\n",
       "CHARISMA ACEY   | City and Regional Planning      | assistant professor | 101567\n",
       "DAVID ACKERLY   | Biology                         | professor           | 182288\n",
       "... (2049 rows omitted)"
      ]
     },
     "execution_count": 2,
     "metadata": {},
     "output_type": "execute_result"
    }
   ],
   "source": [
    "raw_profs = Table.read_table(\"faculty.csv\").where(\"year\", are.equal_to(2015)).drop(\"year\", \"title\")\n",
    "profs = raw_profs.relabeled(\"title_category\", \"position\")\n",
    "profs"
   ]
  },
  {
   "cell_type": "markdown",
   "metadata": {},
   "source": [
    "**Question 2.1.** Set `prof_names` to a table with two columns. The first column should be called `position` and have the name of every position once, and the second column should be called `faculty` with each row in that second column containing an *array* of the names of all faculty members in that position. \n",
    "\n",
    "*Hint:* Think about how ```group``` works: it collects values into an array and then applies a function to that array. We have defined two functions below for you, and you will need to use one of them in your call to ```group```.\n",
    "\n",
    "<!--\n",
    "BEGIN QUESTION\n",
    "name: q2_1\n",
    "-->"
   ]
  },
  {
   "cell_type": "code",
   "execution_count": 29,
   "metadata": {},
   "outputs": [
    {
     "data": {
      "text/html": [
       "<table border=\"1\" class=\"dataframe\">\n",
       "    <thead>\n",
       "        <tr>\n",
       "            <th>position</th> <th>faculty</th>\n",
       "        </tr>\n",
       "    </thead>\n",
       "    <tbody>\n",
       "        <tr>\n",
       "            <td>assistant professor</td> <td>['CHARISMA ACEY' 'HILLEL ADESNIK' 'MOHAMMAD-REZA ALAM' ' ...</td>\n",
       "        </tr>\n",
       "        <tr>\n",
       "            <td>associate professor</td> <td>['PIETER ABBEEL' 'DOR ABRAHAMSON' 'SABRINA AGARWAL' 'JEN ...</td>\n",
       "        </tr>\n",
       "        <tr>\n",
       "            <td>lecturer           </td> <td>['CYNTHIA ABAN' 'SALLY ABEL' 'SARAH ACCOMAZZO' 'ANINDITA ...</td>\n",
       "        </tr>\n",
       "        <tr>\n",
       "            <td>professor          </td> <td>['ELIZABETH ABEL' 'KATHRYN ABRAMS' 'BARBARA ABRAMS' 'DAV ...</td>\n",
       "        </tr>\n",
       "    </tbody>\n",
       "</table>"
      ],
      "text/plain": [
       "position            | faculty\n",
       "assistant professor | ['CHARISMA ACEY' 'HILLEL ADESNIK' 'MOHAMMAD-REZA ALAM' ' ...\n",
       "associate professor | ['PIETER ABBEEL' 'DOR ABRAHAMSON' 'SABRINA AGARWAL' 'JEN ...\n",
       "lecturer            | ['CYNTHIA ABAN' 'SALLY ABEL' 'SARAH ACCOMAZZO' 'ANINDITA ...\n",
       "professor           | ['ELIZABETH ABEL' 'KATHRYN ABRAMS' 'BARBARA ABRAMS' 'DAV ..."
      ]
     },
     "execution_count": 29,
     "metadata": {},
     "output_type": "execute_result"
    }
   ],
   "source": [
    "# Pick one of the two functions defined below in your call to group.\n",
    "def identity(array):\n",
    "    '''Returns the array that is passed through'''\n",
    "    return array \n",
    "\n",
    "def first(array):\n",
    "    '''Returns the first item'''\n",
    "    return array.item(0)\n",
    "\n",
    "# Make a call to group using one of the functions above when you define prof_names\n",
    "\n",
    "prof_names = Table().with_columns(\n",
    "    'position', profs.group('position').column('position'),\n",
    "    'faculty', profs.group('position', identity).column('name identity')\n",
    ")\n",
    "prof_names"
   ]
  },
  {
   "cell_type": "markdown",
   "metadata": {},
   "source": [
    "**Question 2.2.** Set `department_averages` to a table containing departments as the rows, and the position as the columns. The values in the rows should correspond to the average salary for each position in that department. \n",
    "\n",
    "\n",
    "<!--\n",
    "BEGIN QUESTION\n",
    "name: q2_3\n",
    "manual: false\n",
    "-->"
   ]
  },
  {
   "cell_type": "code",
   "execution_count": 49,
   "metadata": {},
   "outputs": [
    {
     "data": {
      "text/html": [
       "<table border=\"1\" class=\"dataframe\">\n",
       "    <thead>\n",
       "        <tr>\n",
       "            <th>department</th> <th>assistant professor</th> <th>associate professor</th> <th>lecturer</th> <th>professor</th>\n",
       "        </tr>\n",
       "    </thead>\n",
       "    <tbody>\n",
       "        <tr>\n",
       "            <td>African American Studies                      </td> <td>81667              </td> <td>112473             </td> <td>50814.5 </td> <td>160600   </td>\n",
       "        </tr>\n",
       "        <tr>\n",
       "            <td>Agricultural and Resource Economics and Policy</td> <td>0                  </td> <td>0                  </td> <td>16062   </td> <td>224717   </td>\n",
       "        </tr>\n",
       "        <tr>\n",
       "            <td>Anthroplogy                                   </td> <td>82853.3            </td> <td>103638             </td> <td>22395.5 </td> <td>179707   </td>\n",
       "        </tr>\n",
       "        <tr>\n",
       "            <td>Architecture                                  </td> <td>106775             </td> <td>119617             </td> <td>21712.6 </td> <td>135233   </td>\n",
       "        </tr>\n",
       "        <tr>\n",
       "            <td>Art History                                   </td> <td>67757.5            </td> <td>111002             </td> <td>39497.5 </td> <td>145254   </td>\n",
       "        </tr>\n",
       "        <tr>\n",
       "            <td>Art Practice                                  </td> <td>145758             </td> <td>102823             </td> <td>27953.3 </td> <td>153850   </td>\n",
       "        </tr>\n",
       "        <tr>\n",
       "            <td>Astronomy                                     </td> <td>144746             </td> <td>162346             </td> <td>14826   </td> <td>225148   </td>\n",
       "        </tr>\n",
       "        <tr>\n",
       "            <td>Bioengineering                                </td> <td>143346             </td> <td>153478             </td> <td>103840  </td> <td>190724   </td>\n",
       "        </tr>\n",
       "        <tr>\n",
       "            <td>Biology                                       </td> <td>144972             </td> <td>140522             </td> <td>60914.9 </td> <td>191715   </td>\n",
       "        </tr>\n",
       "        <tr>\n",
       "            <td>Buddhist Studies                              </td> <td>0                  </td> <td>0                  </td> <td>53555   </td> <td>0        </td>\n",
       "        </tr>\n",
       "    </tbody>\n",
       "</table>\n",
       "<p>... (61 rows omitted)</p>"
      ],
      "text/plain": [
       "department                                     | assistant professor | associate professor | lecturer | professor\n",
       "African American Studies                       | 81667               | 112473              | 50814.5  | 160600\n",
       "Agricultural and Resource Economics and Policy | 0                   | 0                   | 16062    | 224717\n",
       "Anthroplogy                                    | 82853.3             | 103638              | 22395.5  | 179707\n",
       "Architecture                                   | 106775              | 119617              | 21712.6  | 135233\n",
       "Art History                                    | 67757.5             | 111002              | 39497.5  | 145254\n",
       "Art Practice                                   | 145758              | 102823              | 27953.3  | 153850\n",
       "Astronomy                                      | 144746              | 162346              | 14826    | 225148\n",
       "Bioengineering                                 | 143346              | 153478              | 103840   | 190724\n",
       "Biology                                        | 144972              | 140522              | 60914.9  | 191715\n",
       "Buddhist Studies                               | 0                   | 0                   | 53555    | 0\n",
       "... (61 rows omitted)"
      ]
     },
     "execution_count": 49,
     "metadata": {},
     "output_type": "execute_result"
    }
   ],
   "source": [
    "department_averages = profs.pivot('position', 'department', values = 'gross_salary', collect = np.mean)\n",
    "department_averages"
   ]
  }
 ],
 "metadata": {
  "kernelspec": {
   "display_name": "Python 3",
   "language": "python",
   "name": "python3"
  },
  "language_info": {
   "codemirror_mode": {
    "name": "ipython",
    "version": 3
   },
   "file_extension": ".py",
   "mimetype": "text/x-python",
   "name": "python",
   "nbconvert_exporter": "python",
   "pygments_lexer": "ipython3",
   "version": "3.8.8"
  }
 },
 "nbformat": 4,
 "nbformat_minor": 4
}
