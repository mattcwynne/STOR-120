{
 "cells": [
  {
   "cell_type": "markdown",
   "metadata": {},
   "source": [
    "# Lab 0: Getting Started\n",
    "\n",
    "Welcome to STOR 120: *Foundations of Statistics and Data Science*!  Most weeks you will complete a lab assignment. You can't learn technical subjects without hands-on practice, so labs are an important part of the course.\n",
    "\n",
    "Collaborating on labs is more than okay -- it's encouraged! You should rarely remain stuck for more than a few minutes on questions in labs, so ask a classmate or an instructor for help. (Explaining things is beneficial, too -- the best way to solidify your knowledge of a subject is to explain it.) Please don't just share answers, though.\n",
    "\n",
    "#### Today's lab\n",
    "\n",
    "In today's lab, you'll learn how to:\n",
    "\n",
    "1. Install the JupyterLab software needed for the course;\n",
    "2. open your first Jupyter notebook (like this one);\n",
    "3. run one *cell* to install a needed package;\n",
    "4. change one *cell* of the notebook;\n",
    "5. save your notebook; and\n",
    "6. submit your notebook to Gradescope."
   ]
  },
  {
   "cell_type": "markdown",
   "metadata": {},
   "source": [
    "**Question 1.** Run the *cell* below to install the needed package"
   ]
  },
  {
   "cell_type": "code",
   "execution_count": 1,
   "metadata": {},
   "outputs": [
    {
     "name": "stdout",
     "output_type": "stream",
     "text": [
      "Collecting datascience\n",
      "  Downloading datascience-0.17.0.tar.gz (721 kB)\n",
      "\u001b[K     |████████████████████████████████| 721 kB 1.9 MB/s eta 0:00:01\n",
      "\u001b[?25hCollecting folium>=0.9.1\n",
      "  Downloading folium-0.12.1-py2.py3-none-any.whl (94 kB)\n",
      "\u001b[K     |████████████████████████████████| 94 kB 6.7 MB/s  eta 0:00:01\n",
      "\u001b[?25hRequirement already satisfied: sphinx in /Users/mattcwynne/opt/anaconda3/lib/python3.8/site-packages (from datascience) (4.0.1)\n",
      "Requirement already satisfied: setuptools in /Users/mattcwynne/opt/anaconda3/lib/python3.8/site-packages (from datascience) (52.0.0.post20210125)\n",
      "Requirement already satisfied: matplotlib>=3.0.0 in /Users/mattcwynne/opt/anaconda3/lib/python3.8/site-packages (from datascience) (3.3.4)\n",
      "Requirement already satisfied: pandas in /Users/mattcwynne/opt/anaconda3/lib/python3.8/site-packages (from datascience) (1.2.4)\n",
      "Requirement already satisfied: scipy in /Users/mattcwynne/opt/anaconda3/lib/python3.8/site-packages (from datascience) (1.6.2)\n",
      "Requirement already satisfied: numpy in /Users/mattcwynne/opt/anaconda3/lib/python3.8/site-packages (from datascience) (1.20.1)\n",
      "Requirement already satisfied: ipython in /Users/mattcwynne/opt/anaconda3/lib/python3.8/site-packages (from datascience) (7.22.0)\n",
      "Collecting plotly\n",
      "  Downloading plotly-5.2.1-py2.py3-none-any.whl (21.8 MB)\n",
      "\u001b[K     |████████████████████████████████| 21.8 MB 26.0 MB/s eta 0:00:01\n",
      "\u001b[?25hCollecting branca\n",
      "  Downloading branca-0.4.2-py3-none-any.whl (24 kB)\n",
      "Collecting nbsphinx\n",
      "  Downloading nbsphinx-0.8.7-py3-none-any.whl (25 kB)\n",
      "Requirement already satisfied: pytest in /Users/mattcwynne/opt/anaconda3/lib/python3.8/site-packages (from datascience) (6.2.3)\n",
      "Collecting coverage\n",
      "  Downloading coverage-5.5-cp38-cp38-macosx_10_9_x86_64.whl (207 kB)\n",
      "\u001b[K     |████████████████████████████████| 207 kB 49.4 MB/s eta 0:00:01\n",
      "\u001b[?25hCollecting coveralls\n",
      "  Downloading coveralls-3.2.0-py2.py3-none-any.whl (14 kB)\n",
      "Requirement already satisfied: bokeh in /Users/mattcwynne/opt/anaconda3/lib/python3.8/site-packages (from datascience) (2.3.2)\n",
      "Requirement already satisfied: jinja2>=2.9 in /Users/mattcwynne/opt/anaconda3/lib/python3.8/site-packages (from folium>=0.9.1->datascience) (2.11.3)\n",
      "Requirement already satisfied: requests in /Users/mattcwynne/opt/anaconda3/lib/python3.8/site-packages (from folium>=0.9.1->datascience) (2.25.1)\n",
      "Requirement already satisfied: MarkupSafe>=0.23 in /Users/mattcwynne/opt/anaconda3/lib/python3.8/site-packages (from jinja2>=2.9->folium>=0.9.1->datascience) (1.1.1)\n",
      "Requirement already satisfied: pillow>=6.2.0 in /Users/mattcwynne/opt/anaconda3/lib/python3.8/site-packages (from matplotlib>=3.0.0->datascience) (8.2.0)\n",
      "Requirement already satisfied: python-dateutil>=2.1 in /Users/mattcwynne/opt/anaconda3/lib/python3.8/site-packages (from matplotlib>=3.0.0->datascience) (2.8.1)\n",
      "Requirement already satisfied: pyparsing!=2.0.4,!=2.1.2,!=2.1.6,>=2.0.3 in /Users/mattcwynne/opt/anaconda3/lib/python3.8/site-packages (from matplotlib>=3.0.0->datascience) (2.4.7)\n",
      "Requirement already satisfied: kiwisolver>=1.0.1 in /Users/mattcwynne/opt/anaconda3/lib/python3.8/site-packages (from matplotlib>=3.0.0->datascience) (1.3.1)\n",
      "Requirement already satisfied: cycler>=0.10 in /Users/mattcwynne/opt/anaconda3/lib/python3.8/site-packages (from matplotlib>=3.0.0->datascience) (0.10.0)\n",
      "Requirement already satisfied: six in /Users/mattcwynne/opt/anaconda3/lib/python3.8/site-packages (from cycler>=0.10->matplotlib>=3.0.0->datascience) (1.15.0)\n",
      "Requirement already satisfied: packaging>=16.8 in /Users/mattcwynne/opt/anaconda3/lib/python3.8/site-packages (from bokeh->datascience) (20.9)\n",
      "Requirement already satisfied: tornado>=5.1 in /Users/mattcwynne/opt/anaconda3/lib/python3.8/site-packages (from bokeh->datascience) (6.1)\n",
      "Requirement already satisfied: typing-extensions>=3.7.4 in /Users/mattcwynne/opt/anaconda3/lib/python3.8/site-packages (from bokeh->datascience) (3.7.4.3)\n",
      "Requirement already satisfied: PyYAML>=3.10 in /Users/mattcwynne/opt/anaconda3/lib/python3.8/site-packages (from bokeh->datascience) (5.4.1)\n",
      "Collecting docopt>=0.6.1\n",
      "  Downloading docopt-0.6.2.tar.gz (25 kB)\n",
      "Requirement already satisfied: chardet<5,>=3.0.2 in /Users/mattcwynne/opt/anaconda3/lib/python3.8/site-packages (from requests->folium>=0.9.1->datascience) (4.0.0)\n",
      "Requirement already satisfied: idna<3,>=2.5 in /Users/mattcwynne/opt/anaconda3/lib/python3.8/site-packages (from requests->folium>=0.9.1->datascience) (2.10)\n",
      "Requirement already satisfied: urllib3<1.27,>=1.21.1 in /Users/mattcwynne/opt/anaconda3/lib/python3.8/site-packages (from requests->folium>=0.9.1->datascience) (1.26.4)\n",
      "Requirement already satisfied: certifi>=2017.4.17 in /Users/mattcwynne/opt/anaconda3/lib/python3.8/site-packages (from requests->folium>=0.9.1->datascience) (2020.12.5)\n",
      "Requirement already satisfied: prompt-toolkit!=3.0.0,!=3.0.1,<3.1.0,>=2.0.0 in /Users/mattcwynne/opt/anaconda3/lib/python3.8/site-packages (from ipython->datascience) (3.0.17)\n",
      "Requirement already satisfied: pygments in /Users/mattcwynne/opt/anaconda3/lib/python3.8/site-packages (from ipython->datascience) (2.8.1)\n",
      "Requirement already satisfied: appnope in /Users/mattcwynne/opt/anaconda3/lib/python3.8/site-packages (from ipython->datascience) (0.1.2)\n",
      "Requirement already satisfied: jedi>=0.16 in /Users/mattcwynne/opt/anaconda3/lib/python3.8/site-packages (from ipython->datascience) (0.17.2)\n",
      "Requirement already satisfied: pexpect>4.3 in /Users/mattcwynne/opt/anaconda3/lib/python3.8/site-packages (from ipython->datascience) (4.8.0)\n",
      "Requirement already satisfied: backcall in /Users/mattcwynne/opt/anaconda3/lib/python3.8/site-packages (from ipython->datascience) (0.2.0)\n",
      "Requirement already satisfied: traitlets>=4.2 in /Users/mattcwynne/opt/anaconda3/lib/python3.8/site-packages (from ipython->datascience) (5.0.5)\n",
      "Requirement already satisfied: pickleshare in /Users/mattcwynne/opt/anaconda3/lib/python3.8/site-packages (from ipython->datascience) (0.7.5)\n",
      "Requirement already satisfied: decorator in /Users/mattcwynne/opt/anaconda3/lib/python3.8/site-packages (from ipython->datascience) (5.0.6)\n",
      "Requirement already satisfied: parso<0.8.0,>=0.7.0 in /Users/mattcwynne/opt/anaconda3/lib/python3.8/site-packages (from jedi>=0.16->ipython->datascience) (0.7.0)\n",
      "Requirement already satisfied: ptyprocess>=0.5 in /Users/mattcwynne/opt/anaconda3/lib/python3.8/site-packages (from pexpect>4.3->ipython->datascience) (0.7.0)\n",
      "Requirement already satisfied: wcwidth in /Users/mattcwynne/opt/anaconda3/lib/python3.8/site-packages (from prompt-toolkit!=3.0.0,!=3.0.1,<3.1.0,>=2.0.0->ipython->datascience) (0.2.5)\n",
      "Requirement already satisfied: ipython-genutils in /Users/mattcwynne/opt/anaconda3/lib/python3.8/site-packages (from traitlets>=4.2->ipython->datascience) (0.2.0)\n",
      "Requirement already satisfied: docutils in /Users/mattcwynne/opt/anaconda3/lib/python3.8/site-packages (from nbsphinx->datascience) (0.17)\n",
      "Requirement already satisfied: nbconvert!=5.4 in /Users/mattcwynne/opt/anaconda3/lib/python3.8/site-packages (from nbsphinx->datascience) (6.0.7)\n",
      "Requirement already satisfied: nbformat in /Users/mattcwynne/opt/anaconda3/lib/python3.8/site-packages (from nbsphinx->datascience) (5.1.3)\n",
      "Requirement already satisfied: pandocfilters>=1.4.1 in /Users/mattcwynne/opt/anaconda3/lib/python3.8/site-packages (from nbconvert!=5.4->nbsphinx->datascience) (1.4.3)\n",
      "Requirement already satisfied: entrypoints>=0.2.2 in /Users/mattcwynne/opt/anaconda3/lib/python3.8/site-packages (from nbconvert!=5.4->nbsphinx->datascience) (0.3)\n",
      "Requirement already satisfied: testpath in /Users/mattcwynne/opt/anaconda3/lib/python3.8/site-packages (from nbconvert!=5.4->nbsphinx->datascience) (0.4.4)\n",
      "Requirement already satisfied: bleach in /Users/mattcwynne/opt/anaconda3/lib/python3.8/site-packages (from nbconvert!=5.4->nbsphinx->datascience) (3.3.0)\n",
      "Requirement already satisfied: jupyter-core in /Users/mattcwynne/opt/anaconda3/lib/python3.8/site-packages (from nbconvert!=5.4->nbsphinx->datascience) (4.7.1)\n",
      "Requirement already satisfied: jupyterlab-pygments in /Users/mattcwynne/opt/anaconda3/lib/python3.8/site-packages (from nbconvert!=5.4->nbsphinx->datascience) (0.1.2)\n",
      "Requirement already satisfied: mistune<2,>=0.8.1 in /Users/mattcwynne/opt/anaconda3/lib/python3.8/site-packages (from nbconvert!=5.4->nbsphinx->datascience) (0.8.4)\n",
      "Requirement already satisfied: defusedxml in /Users/mattcwynne/opt/anaconda3/lib/python3.8/site-packages (from nbconvert!=5.4->nbsphinx->datascience) (0.7.1)\n",
      "Requirement already satisfied: nbclient<0.6.0,>=0.5.0 in /Users/mattcwynne/opt/anaconda3/lib/python3.8/site-packages (from nbconvert!=5.4->nbsphinx->datascience) (0.5.3)\n",
      "Requirement already satisfied: jupyter-client>=6.1.5 in /Users/mattcwynne/opt/anaconda3/lib/python3.8/site-packages (from nbclient<0.6.0,>=0.5.0->nbconvert!=5.4->nbsphinx->datascience) (6.1.12)\n",
      "Requirement already satisfied: async-generator in /Users/mattcwynne/opt/anaconda3/lib/python3.8/site-packages (from nbclient<0.6.0,>=0.5.0->nbconvert!=5.4->nbsphinx->datascience) (1.10)\n",
      "Requirement already satisfied: nest-asyncio in /Users/mattcwynne/opt/anaconda3/lib/python3.8/site-packages (from nbclient<0.6.0,>=0.5.0->nbconvert!=5.4->nbsphinx->datascience) (1.5.1)\n",
      "Requirement already satisfied: pyzmq>=13 in /Users/mattcwynne/opt/anaconda3/lib/python3.8/site-packages (from jupyter-client>=6.1.5->nbclient<0.6.0,>=0.5.0->nbconvert!=5.4->nbsphinx->datascience) (20.0.0)\n",
      "Requirement already satisfied: jsonschema!=2.5.0,>=2.4 in /Users/mattcwynne/opt/anaconda3/lib/python3.8/site-packages (from nbformat->nbsphinx->datascience) (3.2.0)\n",
      "Requirement already satisfied: pyrsistent>=0.14.0 in /Users/mattcwynne/opt/anaconda3/lib/python3.8/site-packages (from jsonschema!=2.5.0,>=2.4->nbformat->nbsphinx->datascience) (0.17.3)\n",
      "Requirement already satisfied: attrs>=17.4.0 in /Users/mattcwynne/opt/anaconda3/lib/python3.8/site-packages (from jsonschema!=2.5.0,>=2.4->nbformat->nbsphinx->datascience) (20.3.0)\n",
      "Requirement already satisfied: sphinxcontrib-applehelp in /Users/mattcwynne/opt/anaconda3/lib/python3.8/site-packages (from sphinx->datascience) (1.0.2)\n",
      "Requirement already satisfied: alabaster<0.8,>=0.7 in /Users/mattcwynne/opt/anaconda3/lib/python3.8/site-packages (from sphinx->datascience) (0.7.12)\n",
      "Requirement already satisfied: sphinxcontrib-devhelp in /Users/mattcwynne/opt/anaconda3/lib/python3.8/site-packages (from sphinx->datascience) (1.0.2)\n",
      "Requirement already satisfied: sphinxcontrib-serializinghtml in /Users/mattcwynne/opt/anaconda3/lib/python3.8/site-packages (from sphinx->datascience) (1.1.4)\n",
      "Requirement already satisfied: sphinxcontrib-qthelp in /Users/mattcwynne/opt/anaconda3/lib/python3.8/site-packages (from sphinx->datascience) (1.0.3)\n",
      "Requirement already satisfied: snowballstemmer>=1.1 in /Users/mattcwynne/opt/anaconda3/lib/python3.8/site-packages (from sphinx->datascience) (2.1.0)\n",
      "Requirement already satisfied: sphinxcontrib-htmlhelp in /Users/mattcwynne/opt/anaconda3/lib/python3.8/site-packages (from sphinx->datascience) (1.0.3)\n",
      "Requirement already satisfied: sphinxcontrib-jsmath in /Users/mattcwynne/opt/anaconda3/lib/python3.8/site-packages (from sphinx->datascience) (1.0.1)\n",
      "Requirement already satisfied: imagesize in /Users/mattcwynne/opt/anaconda3/lib/python3.8/site-packages (from sphinx->datascience) (1.2.0)\n",
      "Requirement already satisfied: babel>=1.3 in /Users/mattcwynne/opt/anaconda3/lib/python3.8/site-packages (from sphinx->datascience) (2.9.0)\n",
      "Requirement already satisfied: pytz>=2015.7 in /Users/mattcwynne/opt/anaconda3/lib/python3.8/site-packages (from babel>=1.3->sphinx->datascience) (2021.1)\n",
      "Requirement already satisfied: webencodings in /Users/mattcwynne/opt/anaconda3/lib/python3.8/site-packages (from bleach->nbconvert!=5.4->nbsphinx->datascience) (0.5.1)\n",
      "Collecting tenacity>=6.2.0\n",
      "  Downloading tenacity-8.0.1-py3-none-any.whl (24 kB)\n",
      "Requirement already satisfied: iniconfig in /Users/mattcwynne/opt/anaconda3/lib/python3.8/site-packages (from pytest->datascience) (1.1.1)\n",
      "Requirement already satisfied: pluggy<1.0.0a1,>=0.12 in /Users/mattcwynne/opt/anaconda3/lib/python3.8/site-packages (from pytest->datascience) (0.13.1)\n",
      "Requirement already satisfied: py>=1.8.2 in /Users/mattcwynne/opt/anaconda3/lib/python3.8/site-packages (from pytest->datascience) (1.10.0)\n",
      "Requirement already satisfied: toml in /Users/mattcwynne/opt/anaconda3/lib/python3.8/site-packages (from pytest->datascience) (0.10.2)\n",
      "Building wheels for collected packages: datascience, docopt\n",
      "  Building wheel for datascience (setup.py) ... \u001b[?25ldone\n",
      "\u001b[?25h  Created wheel for datascience: filename=datascience-0.17.0-py3-none-any.whl size=726850 sha256=cb23f0783dfa52fb8ff8126770b95026f02fa701455b280c3436ec708ecedca4\n",
      "  Stored in directory: /Users/mattcwynne/Library/Caches/pip/wheels/9e/4a/ff/8e6d811fde4e6317745d7b7da087a381a2c2ebb882f69d4f39\n",
      "  Building wheel for docopt (setup.py) ... \u001b[?25ldone\n",
      "\u001b[?25h  Created wheel for docopt: filename=docopt-0.6.2-py2.py3-none-any.whl size=13705 sha256=adf1fa6e99c30813e6c03e0efaeb5e388d346cb82169be48890ed007178008cf\n",
      "  Stored in directory: /Users/mattcwynne/Library/Caches/pip/wheels/56/ea/58/ead137b087d9e326852a851351d1debf4ada529b6ac0ec4e8c\n",
      "Successfully built datascience docopt\n",
      "Installing collected packages: tenacity, docopt, coverage, branca, plotly, nbsphinx, folium, coveralls, datascience\n",
      "Successfully installed branca-0.4.2 coverage-5.5 coveralls-3.2.0 datascience-0.17.0 docopt-0.6.2 folium-0.12.1 nbsphinx-0.8.7 plotly-5.2.1 tenacity-8.0.1\n",
      "Note: you may need to restart the kernel to use updated packages.\n"
     ]
    }
   ],
   "source": [
    "pip install datascience"
   ]
  },
  {
   "cell_type": "markdown",
   "metadata": {},
   "source": [
    "**Question 2.** In the *cell* below type your preferred name and pronouns."
   ]
  },
  {
   "cell_type": "markdown",
   "metadata": {},
   "source": [
    "Matthew Wynne; he/him"
   ]
  },
  {
   "cell_type": "markdown",
   "metadata": {},
   "source": [
    "You're done with Lab 0! \n",
    "\n",
    "Make sure to save your Notebook and submit the .ipynb file to Gradescope."
   ]
  }
 ],
 "metadata": {
  "kernelspec": {
   "display_name": "Python 3",
   "language": "python",
   "name": "python3"
  },
  "language_info": {
   "codemirror_mode": {
    "name": "ipython",
    "version": 3
   },
   "file_extension": ".py",
   "mimetype": "text/x-python",
   "name": "python",
   "nbconvert_exporter": "python",
   "pygments_lexer": "ipython3",
   "version": "3.8.8"
  }
 },
 "nbformat": 4,
 "nbformat_minor": 4
}
