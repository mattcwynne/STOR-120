{
 "cells": [
  {
   "cell_type": "markdown",
   "metadata": {},
   "source": [
    "# Lab 2: Table operations, Data Types, and Arrays (oh my)\n",
    "\n",
    "Welcome to Lab 2!  This week, we'll learn how to import a module and practice table operations! You'll then see how to represent and manipulate another fundamental type of data: text. A piece of text is called a *string* in Python. You'll also see how to work with *arrays* of data, such as all the numbers between 0 and 100 or all the words in the chapter of a book. Lastly, you'll create tables and practice analyzing them with your knowledge of table operations. This lab is a bit looooong, so make sure you begin early!\n",
    "\n",
    "Recommended Reading:\n",
    " * [Introduction to tables](https://www.inferentialthinking.com/chapters/03/4/Introduction_to_Tables)\n",
    "\n",
    "First run the cell below."
   ]
  },
  {
   "cell_type": "code",
   "execution_count": 1,
   "metadata": {},
   "outputs": [],
   "source": [
    "# Just run this cell\n",
    "\n",
    "import numpy as np\n",
    "from datascience import *"
   ]
  },
  {
   "cell_type": "markdown",
   "metadata": {},
   "source": [
    "# 1. Importing code\n",
    "\n",
    "![imports](https://external-preview.redd.it/ZVPjiFo_Ubl4JeiU63SaTjdIoq5zveSnNZimKpgn2I8.png?auto=webp&s=bf32c94b630befa121075c1ae99b2599af6dedc5) \n",
    "\n",
    "[source](https://www.reddit.com/r/ProgrammerHumor/comments/cgtk7s/theres_no_need_to_reinvent_the_wheel_oc/)\n",
    "\n",
    "Most programming involves work that is very similar to work that has been done before.  Since writing code is time-consuming, it's good to rely on others' published code when you can.  Rather than copy-pasting, Python allows us to **import modules**. A module is a file with Python code that has defined variables and functions. By importing a module, we are able to use its code in our own notebook.\n",
    "\n",
    "Python includes many useful modules that are just an `import` away.  We'll look at the `math` module as a first example. The `math` module is extremely useful in computing mathematical expressions in Python. \n",
    "\n",
    "Suppose we want to very accurately compute the area of a circle with a radius of 5 meters.  For that, we need the constant $\\pi$, which is roughly 3.14.  Conveniently, the `math` module has `pi` defined for us:"
   ]
  },
  {
   "cell_type": "code",
   "execution_count": 3,
   "metadata": {},
   "outputs": [
    {
     "data": {
      "text/plain": [
       "78.53981633974483"
      ]
     },
     "execution_count": 3,
     "metadata": {},
     "output_type": "execute_result"
    }
   ],
   "source": [
    "import math\n",
    "radius = 5\n",
    "area_of_circle = radius**2 * math.pi\n",
    "area_of_circle"
   ]
  },
  {
   "cell_type": "markdown",
   "metadata": {},
   "source": [
    "In the code above, the line `import math` imports the math module. This statement creates a module and then assigns the name `math` to that module. We are now able to access any variables or functions defined within `math` by typing the name of the module followed by a dot, then followed by the name of the variable or function we want.\n",
    "\n",
    "    <module name>.<name>"
   ]
  },
  {
   "cell_type": "markdown",
   "metadata": {},
   "source": [
    "**Question 1.1.** The module `math` also provides the name `e` for the base of the natural logarithm, which is roughly 2.71. Compute $(e^{\\pi}-\\pi)^2$, giving it the name `near_400`.\n",
    "\n",
    "*Remember: You can access `pi` from the `math` module as well!*\n",
    "\n",
    "<!--\n",
    "BEGIN QUESTION\n",
    "name: q11\n",
    "-->"
   ]
  },
  {
   "cell_type": "code",
   "execution_count": 5,
   "metadata": {},
   "outputs": [
    {
     "data": {
      "text/plain": [
       "399.96399997761625"
      ]
     },
     "execution_count": 5,
     "metadata": {},
     "output_type": "execute_result"
    }
   ],
   "source": [
    "near_400 = ((math.e ** math.pi) - math.pi) ** 2\n",
    "near_400"
   ]
  },
  {
   "cell_type": "markdown",
   "metadata": {},
   "source": [
    "## 1.1. Accessing functions\n",
    "\n",
    "In the question above, you accessed variables within the `math` module. \n",
    "\n",
    "**Modules** also define **functions**.  For example, `math` provides the name `log` for the natural log function. Having imported `math` already, we can write `math.log(3)` to compute the natural log of 3. "
   ]
  },
  {
   "cell_type": "markdown",
   "metadata": {},
   "source": [
    "For your reference, below are some more examples of functions from the `math` module.\n",
    "\n",
    "Notice how different functions take in different numbers of arguments. Often, the [documentation](https://docs.python.org/3/library/math.html) of the module will provide information on how many arguments are required for each function.\n",
    "\n",
    "*Hint: If you press `shift+tab` while next to the function call, the documentation for that function will appear*"
   ]
  },
  {
   "cell_type": "code",
   "execution_count": 6,
   "metadata": {},
   "outputs": [
    {
     "data": {
      "text/plain": [
       "3.0"
      ]
     },
     "execution_count": 6,
     "metadata": {},
     "output_type": "execute_result"
    }
   ],
   "source": [
    "# Calculating logarithms (the logarithm of 8 in base 2).\n",
    "# The result is 3 because 2 to the power of 3 is 8.\n",
    "math.log(8, 2)"
   ]
  },
  {
   "cell_type": "code",
   "execution_count": 7,
   "metadata": {},
   "outputs": [
    {
     "data": {
      "text/plain": [
       "2.23606797749979"
      ]
     },
     "execution_count": 7,
     "metadata": {},
     "output_type": "execute_result"
    }
   ],
   "source": [
    "# Calculating square roots.\n",
    "math.sqrt(5)"
   ]
  },
  {
   "cell_type": "markdown",
   "metadata": {},
   "source": [
    "There are various ways to import and access code from outside sources. The method we used above — `import <module_name>` — imports the entire module and requires that we use `<module_name>.<name>` to access its code. \n",
    "\n",
    "We can also import a specific constant or function instead of the entire module. Notice that you don't have to use the module name beforehand to reference that particular value. However, you do have to be careful about reassigning the names of the constants or functions to other values!"
   ]
  },
  {
   "cell_type": "code",
   "execution_count": 8,
   "metadata": {},
   "outputs": [
    {
     "name": "stdout",
     "output_type": "stream",
     "text": [
      "-1.0\n"
     ]
    },
    {
     "data": {
      "text/plain": [
       "1.1447298858494002"
      ]
     },
     "execution_count": 8,
     "metadata": {},
     "output_type": "execute_result"
    }
   ],
   "source": [
    "# Importing just cos and pi from math.\n",
    "# We don't have to use `math.` in front of cos or pi\n",
    "from math import cos, pi\n",
    "print(cos(pi))\n",
    "\n",
    "# We do have to use it in front of other functions from math, though\n",
    "math.log(pi)"
   ]
  },
  {
   "cell_type": "markdown",
   "metadata": {},
   "source": [
    "Or we can import every function and value from the entire module."
   ]
  },
  {
   "cell_type": "code",
   "execution_count": 9,
   "metadata": {},
   "outputs": [
    {
     "data": {
      "text/plain": [
       "1.1447298858494002"
      ]
     },
     "execution_count": 9,
     "metadata": {},
     "output_type": "execute_result"
    }
   ],
   "source": [
    "# Lastly, we can import everything from math using the *\n",
    "# Once again, we don't have to use 'math.' beforehand \n",
    "from math import *\n",
    "log(pi)"
   ]
  },
  {
   "cell_type": "markdown",
   "metadata": {},
   "source": [
    "Don't worry too much about which type of import to use. It's often a coding style choice left up to each programmer. In this course, you'll always import the necessary modules when you run the setup cell (like the first code cell in this lab).\n",
    "\n",
    "Let's move on to practicing some of the table operations you've learned in lecture!"
   ]
  },
  {
   "cell_type": "markdown",
   "metadata": {},
   "source": [
    "# 2. Table operations\n",
    "\n",
    "The table `farmers_markets.csv` contains data on farmers' markets in the United States. Each row represents one such market.\n",
    "\n",
    "Run the next cell to load the `farmers_markets` table."
   ]
  },
  {
   "cell_type": "code",
   "execution_count": 10,
   "metadata": {},
   "outputs": [],
   "source": [
    "# Just run this cell\n",
    "\n",
    "farmers_markets = Table.read_table('farmers_markets.csv')"
   ]
  },
  {
   "cell_type": "markdown",
   "metadata": {},
   "source": [
    "Let's examine our table to see what data it contains.\n",
    "\n",
    "**Question 2.1** Use the method `show` to display the first 15 rows of `farmers_markets`. \n",
    "\n",
    "*Note:* The terms \"method\" and \"function\" are technically not the same thing, but for the purposes of this course, we will use them interchangeably.\n",
    "\n",
    "**Hint:** `tbl.show(3)` will show the first 3 rows of `tbl`. Additionally, make sure not to call `.show()` without an argument, as this will crash your kernel!\n"
   ]
  },
  {
   "cell_type": "code",
   "execution_count": 11,
   "metadata": {},
   "outputs": [
    {
     "data": {
      "text/html": [
       "<table border=\"1\" class=\"dataframe\">\n",
       "    <thead>\n",
       "        <tr>\n",
       "            <th>FMID</th> <th>MarketName</th> <th>street</th> <th>city</th> <th>County</th> <th>State</th> <th>zip</th> <th>x</th> <th>y</th> <th>Website</th> <th>Facebook</th> <th>Twitter</th> <th>Youtube</th> <th>OtherMedia</th> <th>Organic</th> <th>Tofu</th> <th>Bakedgoods</th> <th>Cheese</th> <th>Crafts</th> <th>Flowers</th> <th>Eggs</th> <th>Seafood</th> <th>Herbs</th> <th>Vegetables</th> <th>Honey</th> <th>Jams</th> <th>Maple</th> <th>Meat</th> <th>Nursery</th> <th>Nuts</th> <th>Plants</th> <th>Poultry</th> <th>Prepared</th> <th>Soap</th> <th>Trees</th> <th>Wine</th> <th>Coffee</th> <th>Beans</th> <th>Fruits</th> <th>Grains</th> <th>Juices</th> <th>Mushrooms</th> <th>PetFood</th> <th>WildHarvested</th> <th>updateTime</th> <th>Location</th> <th>Credit</th> <th>WIC</th> <th>WICcash</th> <th>SFMNP</th> <th>SNAP</th> <th>Season1Date</th> <th>Season1Time</th> <th>Season2Date</th> <th>Season2Time</th> <th>Season3Date</th> <th>Season3Time</th> <th>Season4Date</th> <th>Season4Time</th>\n",
       "        </tr>\n",
       "    </thead>\n",
       "    <tbody>\n",
       "        <tr>\n",
       "            <td>1012063</td> <td> Caledonia Farmers Market Association - Danville</td> <td>nan                                                     </td> <td>Danville    </td> <td>Caledonia           </td> <td>Vermont             </td> <td>05828</td> <td>-72.1403</td> <td>44.411 </td> <td>https://sites.google.com/site/caledoniafarmersmarket/       </td> <td>https://www.facebook.com/Danville.VT.Farmers.Market/        </td> <td>nan                                </td> <td>nan    </td> <td>nan                                                         </td> <td>Y      </td> <td>N   </td> <td>Y         </td> <td>Y     </td> <td>Y     </td> <td>Y      </td> <td>Y   </td> <td>N      </td> <td>Y    </td> <td>Y         </td> <td>Y    </td> <td>Y   </td> <td>Y    </td> <td>Y   </td> <td>N      </td> <td>N   </td> <td>Y     </td> <td>Y      </td> <td>Y       </td> <td>Y   </td> <td>Y    </td> <td>N   </td> <td>Y     </td> <td>Y    </td> <td>Y     </td> <td>N     </td> <td>Y     </td> <td>N        </td> <td>Y      </td> <td>N            </td> <td>6/28/2016 12:10:09 PM</td> <td>nan                                                         </td> <td>Y     </td> <td>Y   </td> <td>N      </td> <td>Y    </td> <td>N   </td> <td>06/08/2016 to 10/12/2016</td> <td>Wed: 9:00 AM-1:00 PM;                       </td> <td>nan        </td> <td>nan        </td> <td>nan        </td> <td>nan        </td> <td>nan        </td> <td>nan        </td>\n",
       "        </tr>\n",
       "        <tr>\n",
       "            <td>1011871</td> <td> Stearns Homestead Farmers' Market              </td> <td>6975 Ridge Road                                         </td> <td>Parma       </td> <td>Cuyahoga            </td> <td>Ohio                </td> <td>44130</td> <td>-81.7286</td> <td>41.3751</td> <td>http://Stearnshomestead.com                                 </td> <td>nan                                                         </td> <td>nan                                </td> <td>nan    </td> <td>nan                                                         </td> <td>-      </td> <td>N   </td> <td>Y         </td> <td>N     </td> <td>N     </td> <td>Y      </td> <td>Y   </td> <td>N      </td> <td>Y    </td> <td>Y         </td> <td>Y    </td> <td>Y   </td> <td>Y    </td> <td>Y   </td> <td>N      </td> <td>N   </td> <td>Y     </td> <td>N      </td> <td>N       </td> <td>N   </td> <td>N    </td> <td>N   </td> <td>N     </td> <td>N    </td> <td>Y     </td> <td>N     </td> <td>N     </td> <td>N        </td> <td>Y      </td> <td>N            </td> <td>4/9/2016 8:05:17 PM  </td> <td>nan                                                         </td> <td>Y     </td> <td>Y   </td> <td>N      </td> <td>Y    </td> <td>Y   </td> <td>06/25/2016 to 10/01/2016</td> <td>Sat: 9:00 AM-1:00 PM;                       </td> <td>nan        </td> <td>nan        </td> <td>nan        </td> <td>nan        </td> <td>nan        </td> <td>nan        </td>\n",
       "        </tr>\n",
       "        <tr>\n",
       "            <td>1011878</td> <td>100 Mile Market                                 </td> <td>507 Harrison St                                         </td> <td>Kalamazoo   </td> <td>Kalamazoo           </td> <td>Michigan            </td> <td>49007</td> <td>-85.5749</td> <td>42.296 </td> <td>http://www.pfcmarkets.com                                   </td> <td>https://www.facebook.com/100MileMarket/?fref=ts             </td> <td>nan                                </td> <td>nan    </td> <td>https://www.instagram.com/100milemarket/                    </td> <td>N      </td> <td>N   </td> <td>Y         </td> <td>Y     </td> <td>N     </td> <td>Y      </td> <td>Y   </td> <td>N      </td> <td>Y    </td> <td>Y         </td> <td>Y    </td> <td>Y   </td> <td>Y    </td> <td>Y   </td> <td>N      </td> <td>N   </td> <td>N     </td> <td>Y      </td> <td>Y       </td> <td>Y   </td> <td>N    </td> <td>Y   </td> <td>N     </td> <td>N    </td> <td>Y     </td> <td>Y     </td> <td>N     </td> <td>N        </td> <td>N      </td> <td>N            </td> <td>4/16/2016 12:37:56 PM</td> <td>nan                                                         </td> <td>Y     </td> <td>Y   </td> <td>N      </td> <td>Y    </td> <td>Y   </td> <td>05/04/2016 to 10/12/2016</td> <td>Wed: 3:00 PM-7:00 PM;                       </td> <td>nan        </td> <td>nan        </td> <td>nan        </td> <td>nan        </td> <td>nan        </td> <td>nan        </td>\n",
       "        </tr>\n",
       "        <tr>\n",
       "            <td>1009364</td> <td>106 S. Main Street Farmers Market               </td> <td>106 S. Main Street                                      </td> <td>Six Mile    </td> <td>nan                 </td> <td>South Carolina      </td> <td>29682</td> <td>-82.8187</td> <td>34.8042</td> <td>http://thetownofsixmile.wordpress.com/                      </td> <td>nan                                                         </td> <td>nan                                </td> <td>nan    </td> <td>nan                                                         </td> <td>-      </td> <td>N   </td> <td>N         </td> <td>N     </td> <td>N     </td> <td>N      </td> <td>N   </td> <td>N      </td> <td>N    </td> <td>N         </td> <td>N    </td> <td>N   </td> <td>N    </td> <td>N   </td> <td>N      </td> <td>N   </td> <td>N     </td> <td>N      </td> <td>N       </td> <td>N   </td> <td>N    </td> <td>N   </td> <td>N     </td> <td>N    </td> <td>N     </td> <td>N     </td> <td>N     </td> <td>N        </td> <td>N      </td> <td>N            </td> <td>2013                 </td> <td>nan                                                         </td> <td>Y     </td> <td>N   </td> <td>N      </td> <td>N    </td> <td>N   </td> <td>nan                     </td> <td>nan                                         </td> <td>nan        </td> <td>nan        </td> <td>nan        </td> <td>nan        </td> <td>nan        </td> <td>nan        </td>\n",
       "        </tr>\n",
       "        <tr>\n",
       "            <td>1010691</td> <td>10th Steet Community Farmers Market             </td> <td>10th Street and Poplar                                  </td> <td>Lamar       </td> <td>Barton              </td> <td>Missouri            </td> <td>64759</td> <td>-94.2746</td> <td>37.4956</td> <td>nan                                                         </td> <td>nan                                                         </td> <td>nan                                </td> <td>nan    </td> <td>http://agrimissouri.com/mo-grown/grodetail.php?type=mo-g ...</td> <td>-      </td> <td>N   </td> <td>Y         </td> <td>N     </td> <td>Y     </td> <td>N      </td> <td>Y   </td> <td>N      </td> <td>Y    </td> <td>Y         </td> <td>Y    </td> <td>Y   </td> <td>N    </td> <td>Y   </td> <td>N      </td> <td>N   </td> <td>Y     </td> <td>Y      </td> <td>Y       </td> <td>Y   </td> <td>N    </td> <td>N   </td> <td>N     </td> <td>N    </td> <td>Y     </td> <td>N     </td> <td>N     </td> <td>N        </td> <td>N      </td> <td>N            </td> <td>10/28/2014 9:49:46 AM</td> <td>nan                                                         </td> <td>Y     </td> <td>N   </td> <td>N      </td> <td>N    </td> <td>N   </td> <td>04/02/2014 to 11/30/2014</td> <td>Wed: 3:00 PM-6:00 PM;Sat: 8:00 AM-1:00 PM;  </td> <td>nan        </td> <td>nan        </td> <td>nan        </td> <td>nan        </td> <td>nan        </td> <td>nan        </td>\n",
       "        </tr>\n",
       "        <tr>\n",
       "            <td>1002454</td> <td>112st Madison Avenue                            </td> <td>112th Madison Avenue                                    </td> <td>New York    </td> <td>New York            </td> <td>New York            </td> <td>10029</td> <td>-73.9493</td> <td>40.7939</td> <td>nan                                                         </td> <td>nan                                                         </td> <td>nan                                </td> <td>nan    </td> <td>nan                                                         </td> <td>-      </td> <td>N   </td> <td>Y         </td> <td>N     </td> <td>Y     </td> <td>Y      </td> <td>N   </td> <td>N      </td> <td>Y    </td> <td>Y         </td> <td>Y    </td> <td>Y   </td> <td>N    </td> <td>N   </td> <td>N      </td> <td>Y   </td> <td>N     </td> <td>N      </td> <td>Y       </td> <td>Y   </td> <td>N    </td> <td>N   </td> <td>N     </td> <td>N    </td> <td>N     </td> <td>N     </td> <td>N     </td> <td>N        </td> <td>N      </td> <td>N            </td> <td>3/1/2012 10:38:22 AM </td> <td>Private business parking lot                                </td> <td>N     </td> <td>N   </td> <td>Y      </td> <td>Y    </td> <td>N   </td> <td>July to November        </td> <td>Tue:8:00 am - 5:00 pm;Sat:8:00 am - 8:00 pm;</td> <td>nan        </td> <td>nan        </td> <td>nan        </td> <td>nan        </td> <td>nan        </td> <td>nan        </td>\n",
       "        </tr>\n",
       "        <tr>\n",
       "            <td>1011100</td> <td>12 South Farmers Market                         </td> <td>3000 Granny White Pike                                  </td> <td>Nashville   </td> <td>Davidson            </td> <td>Tennessee           </td> <td>37204</td> <td>-86.7907</td> <td>36.1184</td> <td>http://www.12southfarmersmarket.com                         </td> <td>12_South_Farmers_Market                                     </td> <td>@12southfrmsmkt                    </td> <td>nan    </td> <td>@12southfrmsmkt                                             </td> <td>Y      </td> <td>N   </td> <td>Y         </td> <td>Y     </td> <td>N     </td> <td>Y      </td> <td>Y   </td> <td>N      </td> <td>Y    </td> <td>Y         </td> <td>Y    </td> <td>Y   </td> <td>Y    </td> <td>Y   </td> <td>N      </td> <td>N   </td> <td>N     </td> <td>Y      </td> <td>Y       </td> <td>Y   </td> <td>N    </td> <td>N   </td> <td>Y     </td> <td>N    </td> <td>Y     </td> <td>N     </td> <td>Y     </td> <td>Y        </td> <td>Y      </td> <td>N            </td> <td>5/1/2015 10:40:56 AM </td> <td>nan                                                         </td> <td>Y     </td> <td>N   </td> <td>N      </td> <td>N    </td> <td>Y   </td> <td>05/05/2015 to 10/27/2015</td> <td>Tue: 3:30 PM-6:30 PM;                       </td> <td>nan        </td> <td>nan        </td> <td>nan        </td> <td>nan        </td> <td>nan        </td> <td>nan        </td>\n",
       "        </tr>\n",
       "        <tr>\n",
       "            <td>1009845</td> <td>125th Street Fresh Connect Farmers' Market      </td> <td>163 West 125th Street and Adam Clayton Powell, Jr. Blvd.</td> <td>New York    </td> <td>New York            </td> <td>New York            </td> <td>10027</td> <td>-73.9482</td> <td>40.809 </td> <td>http://www.125thStreetFarmersMarket.com                     </td> <td>https://www.facebook.com/125thStreetFarmersMarket           </td> <td>https://twitter.com/FarmMarket125th</td> <td>nan    </td> <td>Instagram--> 125thStreetFarmersMarket                       </td> <td>Y      </td> <td>N   </td> <td>Y         </td> <td>Y     </td> <td>Y     </td> <td>Y      </td> <td>Y   </td> <td>N      </td> <td>Y    </td> <td>Y         </td> <td>Y    </td> <td>Y   </td> <td>Y    </td> <td>Y   </td> <td>N      </td> <td>Y   </td> <td>N     </td> <td>Y      </td> <td>Y       </td> <td>Y   </td> <td>N    </td> <td>Y   </td> <td>Y     </td> <td>N    </td> <td>Y     </td> <td>N     </td> <td>Y     </td> <td>N        </td> <td>N      </td> <td>N            </td> <td>4/7/2014 4:32:01 PM  </td> <td>Federal/State government building grounds                   </td> <td>Y     </td> <td>Y   </td> <td>N      </td> <td>Y    </td> <td>Y   </td> <td>06/10/2014 to 11/25/2014</td> <td>Tue: 10:00 AM-7:00 PM;                      </td> <td>nan        </td> <td>nan        </td> <td>nan        </td> <td>nan        </td> <td>nan        </td> <td>nan        </td>\n",
       "        </tr>\n",
       "        <tr>\n",
       "            <td>1005586</td> <td>12th & Brandywine Urban Farm Market             </td> <td>12th & Brandywine Streets                               </td> <td>Wilmington  </td> <td>New Castle          </td> <td>Delaware            </td> <td>19801</td> <td>-75.5345</td> <td>39.7421</td> <td>nan                                                         </td> <td>https://www.facebook.com/pages/12th-Brandywine-Urban-Far ...</td> <td>nan                                </td> <td>nan    </td> <td>https://www.facebook.com/delawareurbanfarmcoalition         </td> <td>N      </td> <td>N   </td> <td>N         </td> <td>N     </td> <td>N     </td> <td>N      </td> <td>N   </td> <td>N      </td> <td>Y    </td> <td>Y         </td> <td>N    </td> <td>N   </td> <td>N    </td> <td>N   </td> <td>N      </td> <td>N   </td> <td>N     </td> <td>N      </td> <td>N       </td> <td>N   </td> <td>N    </td> <td>N   </td> <td>N     </td> <td>N    </td> <td>Y     </td> <td>N     </td> <td>N     </td> <td>N        </td> <td>N      </td> <td>N            </td> <td>4/3/2014 3:43:31 PM  </td> <td>On a farm from: a barn, a greenhouse, a tent, a stand, etc  </td> <td>N     </td> <td>N   </td> <td>N      </td> <td>N    </td> <td>Y   </td> <td>05/16/2014 to 10/17/2014</td> <td>Fri: 8:00 AM-11:00 AM;                      </td> <td>nan        </td> <td>nan        </td> <td>nan        </td> <td>nan        </td> <td>nan        </td> <td>nan        </td>\n",
       "        </tr>\n",
       "        <tr>\n",
       "            <td>1008071</td> <td>14&U Farmers' Market                            </td> <td>1400 U Street NW                                        </td> <td>Washington  </td> <td>District of Columbia</td> <td>District of Columbia</td> <td>20009</td> <td>-77.0321</td> <td>38.917 </td> <td>nan                                                         </td> <td>https://www.facebook.com/14UFarmersMarket                   </td> <td>https://twitter.com/14UFarmersMkt  </td> <td>nan    </td> <td>nan                                                         </td> <td>Y      </td> <td>N   </td> <td>Y         </td> <td>Y     </td> <td>N     </td> <td>Y      </td> <td>Y   </td> <td>N      </td> <td>Y    </td> <td>Y         </td> <td>Y    </td> <td>Y   </td> <td>N    </td> <td>Y   </td> <td>N      </td> <td>Y   </td> <td>Y     </td> <td>Y      </td> <td>N       </td> <td>N   </td> <td>N    </td> <td>N   </td> <td>N     </td> <td>Y    </td> <td>Y     </td> <td>Y     </td> <td>Y     </td> <td>N        </td> <td>N      </td> <td>N            </td> <td>4/5/2014 1:49:04 PM  </td> <td>Other                                                       </td> <td>Y     </td> <td>Y   </td> <td>Y      </td> <td>Y    </td> <td>Y   </td> <td>05/03/2014 to 11/22/2014</td> <td>Sat: 9:00 AM-1:00 PM;                       </td> <td>nan        </td> <td>nan        </td> <td>nan        </td> <td>nan        </td> <td>nan        </td> <td>nan        </td>\n",
       "        </tr>\n",
       "        <tr>\n",
       "            <td>1010284</td> <td>175th Street Greenmarket                        </td> <td>175th Street at Wadsworth Ave                           </td> <td>New York    </td> <td>New York            </td> <td>New York            </td> <td>10033</td> <td>-73.9378</td> <td>40.846 </td> <td>http://www.grownyc.org/ourmarkets                           </td> <td>nan                                                         </td> <td>nan                                </td> <td>nan    </td> <td>nan                                                         </td> <td>-      </td> <td>N   </td> <td>Y         </td> <td>N     </td> <td>N     </td> <td>N      </td> <td>N   </td> <td>Y      </td> <td>N    </td> <td>Y         </td> <td>N    </td> <td>N   </td> <td>N    </td> <td>N   </td> <td>N      </td> <td>N   </td> <td>Y     </td> <td>N      </td> <td>N       </td> <td>N   </td> <td>N    </td> <td>N   </td> <td>N     </td> <td>N    </td> <td>Y     </td> <td>N     </td> <td>N     </td> <td>N        </td> <td>N      </td> <td>N            </td> <td>6/3/2014 12:38:54 PM </td> <td>Closed-off public street                                    </td> <td>Y     </td> <td>Y   </td> <td>Y      </td> <td>Y    </td> <td>Y   </td> <td>06/26/2014 to 11/20/2014</td> <td>Thu: 8:00 AM-5:00 PM;                       </td> <td>nan        </td> <td>nan        </td> <td>nan        </td> <td>nan        </td> <td>nan        </td> <td>nan        </td>\n",
       "        </tr>\n",
       "        <tr>\n",
       "            <td>1003877</td> <td>17th Ave Market                                 </td> <td>1622 6th St NE                                          </td> <td>Minneapolis </td> <td>Hennepin            </td> <td>Minnesota           </td> <td>55413</td> <td>-93.2591</td> <td>45.0044</td> <td>http://www.iatp.org/minimarkets                             </td> <td>nan                                                         </td> <td>nan                                </td> <td>nan    </td> <td>nan                                                         </td> <td>-      </td> <td>N   </td> <td>N         </td> <td>N     </td> <td>N     </td> <td>N      </td> <td>N   </td> <td>N      </td> <td>Y    </td> <td>N         </td> <td>N    </td> <td>N   </td> <td>N    </td> <td>N   </td> <td>N      </td> <td>N   </td> <td>N     </td> <td>N      </td> <td>N       </td> <td>N   </td> <td>N    </td> <td>N   </td> <td>N     </td> <td>N    </td> <td>N     </td> <td>N     </td> <td>N     </td> <td>N        </td> <td>N      </td> <td>N            </td> <td>4/28/2011 2:33:54 PM </td> <td>Faith-based institution (e.g., church, mosque, synagogue ...</td> <td>N     </td> <td>Y   </td> <td>Y      </td> <td>Y    </td> <td>N   </td> <td>June to September       </td> <td>Wed:3:00 pm - 7:00 pm;                      </td> <td>nan        </td> <td>nan        </td> <td>nan        </td> <td>nan        </td> <td>nan        </td> <td>nan        </td>\n",
       "        </tr>\n",
       "        <tr>\n",
       "            <td>1002619</td> <td>17th Street Farmers Market                      </td> <td>17th & Main Streets                                     </td> <td>Richmond    </td> <td>Henrico             </td> <td>Virginia            </td> <td>23219</td> <td>-77.4886</td> <td>37.5583</td> <td>http://www.17thstreetfarmersmarket.com                      </td> <td>nan                                                         </td> <td>nan                                </td> <td>nan    </td> <td>nan                                                         </td> <td>-      </td> <td>N   </td> <td>N         </td> <td>N     </td> <td>N     </td> <td>N      </td> <td>N   </td> <td>N      </td> <td>N    </td> <td>N         </td> <td>N    </td> <td>N   </td> <td>N    </td> <td>N   </td> <td>N      </td> <td>N   </td> <td>N     </td> <td>N      </td> <td>N       </td> <td>N   </td> <td>N    </td> <td>N   </td> <td>N     </td> <td>N    </td> <td>N     </td> <td>N     </td> <td>N     </td> <td>N        </td> <td>N      </td> <td>N            </td> <td>2009                 </td> <td>nan                                                         </td> <td>N     </td> <td>N   </td> <td>N      </td> <td>N    </td> <td>N   </td> <td>nan                     </td> <td>nan                                         </td> <td>nan        </td> <td>nan        </td> <td>nan        </td> <td>nan        </td> <td>nan        </td> <td>nan        </td>\n",
       "        </tr>\n",
       "        <tr>\n",
       "            <td>1010968</td> <td>18th and Christian Farmers' Market              </td> <td>18th Street and Christian Street                        </td> <td>Philadelphia</td> <td>Philadelphia        </td> <td>Pennsylvania        </td> <td>19146</td> <td>-75.1734</td> <td>39.9409</td> <td>http://thefoodtrust.org/farmers-markets/market/18th-Chri ...</td> <td>nan                                                         </td> <td>nan                                </td> <td>nan    </td> <td>nan                                                         </td> <td>N      </td> <td>N   </td> <td>N         </td> <td>N     </td> <td>N     </td> <td>N      </td> <td>N   </td> <td>N      </td> <td>N    </td> <td>Y         </td> <td>N    </td> <td>N   </td> <td>N    </td> <td>N   </td> <td>N      </td> <td>N   </td> <td>N     </td> <td>N      </td> <td>N       </td> <td>N   </td> <td>N    </td> <td>N   </td> <td>N     </td> <td>N    </td> <td>Y     </td> <td>N     </td> <td>N     </td> <td>N        </td> <td>N      </td> <td>N            </td> <td>3/24/2015 3:33:48 PM </td> <td>nan                                                         </td> <td>Y     </td> <td>Y   </td> <td>N      </td> <td>Y    </td> <td>Y   </td> <td>06/01/2015 to 11/15/2015</td> <td>Thu: 3:00 PM-7:00 PM;                       </td> <td>nan        </td> <td>nan        </td> <td>nan        </td> <td>nan        </td> <td>nan        </td> <td>nan        </td>\n",
       "        </tr>\n",
       "        <tr>\n",
       "            <td>1009994</td> <td>18th Street Farmer's Market                     </td> <td>18th and Broadway                                       </td> <td>Scottsbluff </td> <td>Scotts Bluff        </td> <td>Nebraska            </td> <td>69361</td> <td>-103.663</td> <td>41.8643</td> <td>nan                                                         </td> <td>https://www.facebook.com/ScottsbluffFarmersMarket           </td> <td>nan                                </td> <td>nan    </td> <td>nan                                                         </td> <td>Y      </td> <td>N   </td> <td>Y         </td> <td>Y     </td> <td>Y     </td> <td>Y      </td> <td>Y   </td> <td>N      </td> <td>Y    </td> <td>Y         </td> <td>Y    </td> <td>N   </td> <td>N    </td> <td>Y   </td> <td>N      </td> <td>N   </td> <td>Y     </td> <td>Y      </td> <td>Y       </td> <td>N   </td> <td>N    </td> <td>N   </td> <td>Y     </td> <td>Y    </td> <td>Y     </td> <td>N     </td> <td>N     </td> <td>N        </td> <td>N      </td> <td>N            </td> <td>6/29/2016 4:32:46 PM </td> <td>nan                                                         </td> <td>Y     </td> <td>N   </td> <td>N      </td> <td>N    </td> <td>N   </td> <td>06/07/2014 to 09/27/2014</td> <td>Sat: 8:00 AM-11:00 AM;                      </td> <td>nan        </td> <td>nan        </td> <td>nan        </td> <td>nan        </td> <td>nan        </td> <td>nan        </td>\n",
       "        </tr>\n",
       "    </tbody>\n",
       "</table>\n",
       "<p>... (8531 rows omitted)</p>"
      ],
      "text/plain": [
       "<IPython.core.display.HTML object>"
      ]
     },
     "metadata": {},
     "output_type": "display_data"
    }
   ],
   "source": [
    "farmers_markets.show(15)"
   ]
  },
  {
   "cell_type": "markdown",
   "metadata": {},
   "source": [
    "Notice that some of the values in this table are missing, as denoted by \"nan.\" This means either that the value is not available (e.g. if we don’t know the market’s street address) or not applicable (e.g. if the market doesn’t have a street address). You'll also notice that the table has a large number of columns in it!\n",
    "\n",
    "### `num_columns`\n",
    "\n",
    "The table property `num_columns` returns the number of columns in a table. (A \"property\" is just a method that doesn't need to be called by adding parentheses.)\n",
    "\n",
    "Example call: `<tbl>.num_columns`\n",
    "\n",
    "**Question 2.2.** Use `num_columns` to find the number of columns in our farmers' markets dataset.\n",
    "\n",
    "Assign the number of columns to `num_farmers_markets_columns`.\n",
    "\n",
    "<!--\n",
    "BEGIN QUESTION\n",
    "name: q22\n",
    "-->"
   ]
  },
  {
   "cell_type": "code",
   "execution_count": 12,
   "metadata": {},
   "outputs": [
    {
     "name": "stdout",
     "output_type": "stream",
     "text": [
      "The table has 59 columns in it!\n"
     ]
    }
   ],
   "source": [
    "num_farmers_markets_columns = farmers_markets.num_columns\n",
    "print(\"The table has\", num_farmers_markets_columns, \"columns in it!\")"
   ]
  },
  {
   "cell_type": "markdown",
   "metadata": {},
   "source": [
    "### `select`\n",
    "\n",
    "Most of the columns are about particular products -- whether the market sells tofu, pet food, etc.  If we're not interested in that information, it just makes the table difficult to read.  This comes up more than you might think, because people who collect and publish data may not know ahead of time what people will want to do with it.\n",
    "\n",
    "In such situations, we can use the table method `select` to choose only the columns that we want in a particular table. It takes any number of arguments. Each should be the name of a column in the table. It returns a new table with only those columns in it. The columns are in the order *in which they were listed as arguments*.\n",
    "\n",
    "For example, the value of `farmers_markets.select(\"MarketName\", \"State\")` is a table with only the name and the state of each farmers' market in `farmers_markets`.\n",
    "\n",
    "\n",
    "\n",
    "**Question 2.3.** Use `select` to create a table with only the name, city, state, latitude (`y`), and longitude (`x`) of each market.  Call that new table `farmers_markets_locations`.\n",
    "\n",
    "*Hint:* Make sure to be exact when using column names with `select`; double-check capitalization!\n",
    "\n",
    "<!--\n",
    "BEGIN QUESTION\n",
    "name: q23\n",
    "-->"
   ]
  },
  {
   "cell_type": "code",
   "execution_count": 14,
   "metadata": {},
   "outputs": [
    {
     "data": {
      "text/html": [
       "<table border=\"1\" class=\"dataframe\">\n",
       "    <thead>\n",
       "        <tr>\n",
       "            <th>MarketName</th> <th>city</th> <th>State</th> <th>x</th> <th>y</th>\n",
       "        </tr>\n",
       "    </thead>\n",
       "    <tbody>\n",
       "        <tr>\n",
       "            <td> Caledonia Farmers Market Association - Danville</td> <td>Danville  </td> <td>Vermont             </td> <td>-72.1403</td> <td>44.411 </td>\n",
       "        </tr>\n",
       "        <tr>\n",
       "            <td> Stearns Homestead Farmers' Market              </td> <td>Parma     </td> <td>Ohio                </td> <td>-81.7286</td> <td>41.3751</td>\n",
       "        </tr>\n",
       "        <tr>\n",
       "            <td>100 Mile Market                                 </td> <td>Kalamazoo </td> <td>Michigan            </td> <td>-85.5749</td> <td>42.296 </td>\n",
       "        </tr>\n",
       "        <tr>\n",
       "            <td>106 S. Main Street Farmers Market               </td> <td>Six Mile  </td> <td>South Carolina      </td> <td>-82.8187</td> <td>34.8042</td>\n",
       "        </tr>\n",
       "        <tr>\n",
       "            <td>10th Steet Community Farmers Market             </td> <td>Lamar     </td> <td>Missouri            </td> <td>-94.2746</td> <td>37.4956</td>\n",
       "        </tr>\n",
       "        <tr>\n",
       "            <td>112st Madison Avenue                            </td> <td>New York  </td> <td>New York            </td> <td>-73.9493</td> <td>40.7939</td>\n",
       "        </tr>\n",
       "        <tr>\n",
       "            <td>12 South Farmers Market                         </td> <td>Nashville </td> <td>Tennessee           </td> <td>-86.7907</td> <td>36.1184</td>\n",
       "        </tr>\n",
       "        <tr>\n",
       "            <td>125th Street Fresh Connect Farmers' Market      </td> <td>New York  </td> <td>New York            </td> <td>-73.9482</td> <td>40.809 </td>\n",
       "        </tr>\n",
       "        <tr>\n",
       "            <td>12th & Brandywine Urban Farm Market             </td> <td>Wilmington</td> <td>Delaware            </td> <td>-75.5345</td> <td>39.7421</td>\n",
       "        </tr>\n",
       "        <tr>\n",
       "            <td>14&U Farmers' Market                            </td> <td>Washington</td> <td>District of Columbia</td> <td>-77.0321</td> <td>38.917 </td>\n",
       "        </tr>\n",
       "    </tbody>\n",
       "</table>\n",
       "<p>... (8536 rows omitted)</p>"
      ],
      "text/plain": [
       "MarketName                                       | city       | State                | x        | y\n",
       " Caledonia Farmers Market Association - Danville | Danville   | Vermont              | -72.1403 | 44.411\n",
       " Stearns Homestead Farmers' Market               | Parma      | Ohio                 | -81.7286 | 41.3751\n",
       "100 Mile Market                                  | Kalamazoo  | Michigan             | -85.5749 | 42.296\n",
       "106 S. Main Street Farmers Market                | Six Mile   | South Carolina       | -82.8187 | 34.8042\n",
       "10th Steet Community Farmers Market              | Lamar      | Missouri             | -94.2746 | 37.4956\n",
       "112st Madison Avenue                             | New York   | New York             | -73.9493 | 40.7939\n",
       "12 South Farmers Market                          | Nashville  | Tennessee            | -86.7907 | 36.1184\n",
       "125th Street Fresh Connect Farmers' Market       | New York   | New York             | -73.9482 | 40.809\n",
       "12th & Brandywine Urban Farm Market              | Wilmington | Delaware             | -75.5345 | 39.7421\n",
       "14&U Farmers' Market                             | Washington | District of Columbia | -77.0321 | 38.917\n",
       "... (8536 rows omitted)"
      ]
     },
     "execution_count": 14,
     "metadata": {},
     "output_type": "execute_result"
    }
   ],
   "source": [
    "farmers_markets_locations = farmers_markets.select('MarketName', 'city', 'State', 'x', 'y')\n",
    "farmers_markets_locations"
   ]
  },
  {
   "cell_type": "markdown",
   "metadata": {},
   "source": [
    "### `drop`\n",
    "\n",
    "`drop` serves the same purpose as `select`, but it takes away the columns that you provide rather than the ones that you don't provide. Like `select`, `drop` returns a new table.\n",
    "\n",
    "**Question 2.4.** Suppose you just didn't want the `FMID` and `updateTime` columns in `farmers_markets`.  Create a table that's a copy of `farmers_markets` but doesn't include those columns.  Call that table `farmers_markets_without_fmid`.\n",
    "\n",
    "<!--\n",
    "BEGIN QUESTION\n",
    "name: q24\n",
    "-->"
   ]
  },
  {
   "cell_type": "code",
   "execution_count": 15,
   "metadata": {},
   "outputs": [
    {
     "data": {
      "text/html": [
       "<table border=\"1\" class=\"dataframe\">\n",
       "    <thead>\n",
       "        <tr>\n",
       "            <th>MarketName</th> <th>street</th> <th>city</th> <th>County</th> <th>State</th> <th>zip</th> <th>x</th> <th>y</th> <th>Website</th> <th>Facebook</th> <th>Twitter</th> <th>Youtube</th> <th>OtherMedia</th> <th>Organic</th> <th>Tofu</th> <th>Bakedgoods</th> <th>Cheese</th> <th>Crafts</th> <th>Flowers</th> <th>Eggs</th> <th>Seafood</th> <th>Herbs</th> <th>Vegetables</th> <th>Honey</th> <th>Jams</th> <th>Maple</th> <th>Meat</th> <th>Nursery</th> <th>Nuts</th> <th>Plants</th> <th>Poultry</th> <th>Prepared</th> <th>Soap</th> <th>Trees</th> <th>Wine</th> <th>Coffee</th> <th>Beans</th> <th>Fruits</th> <th>Grains</th> <th>Juices</th> <th>Mushrooms</th> <th>PetFood</th> <th>WildHarvested</th> <th>Location</th> <th>Credit</th> <th>WIC</th> <th>WICcash</th> <th>SFMNP</th> <th>SNAP</th> <th>Season1Date</th> <th>Season1Time</th> <th>Season2Date</th> <th>Season2Time</th> <th>Season3Date</th> <th>Season3Time</th> <th>Season4Date</th> <th>Season4Time</th>\n",
       "        </tr>\n",
       "    </thead>\n",
       "    <tbody>\n",
       "        <tr>\n",
       "            <td> Caledonia Farmers Market Association - Danville</td> <td>nan                                                     </td> <td>Danville  </td> <td>Caledonia           </td> <td>Vermont             </td> <td>05828</td> <td>-72.1403</td> <td>44.411 </td> <td>https://sites.google.com/site/caledoniafarmersmarket/</td> <td>https://www.facebook.com/Danville.VT.Farmers.Market/        </td> <td>nan                                </td> <td>nan    </td> <td>nan                                                         </td> <td>Y      </td> <td>N   </td> <td>Y         </td> <td>Y     </td> <td>Y     </td> <td>Y      </td> <td>Y   </td> <td>N      </td> <td>Y    </td> <td>Y         </td> <td>Y    </td> <td>Y   </td> <td>Y    </td> <td>Y   </td> <td>N      </td> <td>N   </td> <td>Y     </td> <td>Y      </td> <td>Y       </td> <td>Y   </td> <td>Y    </td> <td>N   </td> <td>Y     </td> <td>Y    </td> <td>Y     </td> <td>N     </td> <td>Y     </td> <td>N        </td> <td>Y      </td> <td>N            </td> <td>nan                                                       </td> <td>Y     </td> <td>Y   </td> <td>N      </td> <td>Y    </td> <td>N   </td> <td>06/08/2016 to 10/12/2016</td> <td>Wed: 9:00 AM-1:00 PM;                       </td> <td>nan        </td> <td>nan        </td> <td>nan        </td> <td>nan        </td> <td>nan        </td> <td>nan        </td>\n",
       "        </tr>\n",
       "        <tr>\n",
       "            <td> Stearns Homestead Farmers' Market              </td> <td>6975 Ridge Road                                         </td> <td>Parma     </td> <td>Cuyahoga            </td> <td>Ohio                </td> <td>44130</td> <td>-81.7286</td> <td>41.3751</td> <td>http://Stearnshomestead.com                          </td> <td>nan                                                         </td> <td>nan                                </td> <td>nan    </td> <td>nan                                                         </td> <td>-      </td> <td>N   </td> <td>Y         </td> <td>N     </td> <td>N     </td> <td>Y      </td> <td>Y   </td> <td>N      </td> <td>Y    </td> <td>Y         </td> <td>Y    </td> <td>Y   </td> <td>Y    </td> <td>Y   </td> <td>N      </td> <td>N   </td> <td>Y     </td> <td>N      </td> <td>N       </td> <td>N   </td> <td>N    </td> <td>N   </td> <td>N     </td> <td>N    </td> <td>Y     </td> <td>N     </td> <td>N     </td> <td>N        </td> <td>Y      </td> <td>N            </td> <td>nan                                                       </td> <td>Y     </td> <td>Y   </td> <td>N      </td> <td>Y    </td> <td>Y   </td> <td>06/25/2016 to 10/01/2016</td> <td>Sat: 9:00 AM-1:00 PM;                       </td> <td>nan        </td> <td>nan        </td> <td>nan        </td> <td>nan        </td> <td>nan        </td> <td>nan        </td>\n",
       "        </tr>\n",
       "        <tr>\n",
       "            <td>100 Mile Market                                 </td> <td>507 Harrison St                                         </td> <td>Kalamazoo </td> <td>Kalamazoo           </td> <td>Michigan            </td> <td>49007</td> <td>-85.5749</td> <td>42.296 </td> <td>http://www.pfcmarkets.com                            </td> <td>https://www.facebook.com/100MileMarket/?fref=ts             </td> <td>nan                                </td> <td>nan    </td> <td>https://www.instagram.com/100milemarket/                    </td> <td>N      </td> <td>N   </td> <td>Y         </td> <td>Y     </td> <td>N     </td> <td>Y      </td> <td>Y   </td> <td>N      </td> <td>Y    </td> <td>Y         </td> <td>Y    </td> <td>Y   </td> <td>Y    </td> <td>Y   </td> <td>N      </td> <td>N   </td> <td>N     </td> <td>Y      </td> <td>Y       </td> <td>Y   </td> <td>N    </td> <td>Y   </td> <td>N     </td> <td>N    </td> <td>Y     </td> <td>Y     </td> <td>N     </td> <td>N        </td> <td>N      </td> <td>N            </td> <td>nan                                                       </td> <td>Y     </td> <td>Y   </td> <td>N      </td> <td>Y    </td> <td>Y   </td> <td>05/04/2016 to 10/12/2016</td> <td>Wed: 3:00 PM-7:00 PM;                       </td> <td>nan        </td> <td>nan        </td> <td>nan        </td> <td>nan        </td> <td>nan        </td> <td>nan        </td>\n",
       "        </tr>\n",
       "        <tr>\n",
       "            <td>106 S. Main Street Farmers Market               </td> <td>106 S. Main Street                                      </td> <td>Six Mile  </td> <td>nan                 </td> <td>South Carolina      </td> <td>29682</td> <td>-82.8187</td> <td>34.8042</td> <td>http://thetownofsixmile.wordpress.com/               </td> <td>nan                                                         </td> <td>nan                                </td> <td>nan    </td> <td>nan                                                         </td> <td>-      </td> <td>N   </td> <td>N         </td> <td>N     </td> <td>N     </td> <td>N      </td> <td>N   </td> <td>N      </td> <td>N    </td> <td>N         </td> <td>N    </td> <td>N   </td> <td>N    </td> <td>N   </td> <td>N      </td> <td>N   </td> <td>N     </td> <td>N      </td> <td>N       </td> <td>N   </td> <td>N    </td> <td>N   </td> <td>N     </td> <td>N    </td> <td>N     </td> <td>N     </td> <td>N     </td> <td>N        </td> <td>N      </td> <td>N            </td> <td>nan                                                       </td> <td>Y     </td> <td>N   </td> <td>N      </td> <td>N    </td> <td>N   </td> <td>nan                     </td> <td>nan                                         </td> <td>nan        </td> <td>nan        </td> <td>nan        </td> <td>nan        </td> <td>nan        </td> <td>nan        </td>\n",
       "        </tr>\n",
       "        <tr>\n",
       "            <td>10th Steet Community Farmers Market             </td> <td>10th Street and Poplar                                  </td> <td>Lamar     </td> <td>Barton              </td> <td>Missouri            </td> <td>64759</td> <td>-94.2746</td> <td>37.4956</td> <td>nan                                                  </td> <td>nan                                                         </td> <td>nan                                </td> <td>nan    </td> <td>http://agrimissouri.com/mo-grown/grodetail.php?type=mo-g ...</td> <td>-      </td> <td>N   </td> <td>Y         </td> <td>N     </td> <td>Y     </td> <td>N      </td> <td>Y   </td> <td>N      </td> <td>Y    </td> <td>Y         </td> <td>Y    </td> <td>Y   </td> <td>N    </td> <td>Y   </td> <td>N      </td> <td>N   </td> <td>Y     </td> <td>Y      </td> <td>Y       </td> <td>Y   </td> <td>N    </td> <td>N   </td> <td>N     </td> <td>N    </td> <td>Y     </td> <td>N     </td> <td>N     </td> <td>N        </td> <td>N      </td> <td>N            </td> <td>nan                                                       </td> <td>Y     </td> <td>N   </td> <td>N      </td> <td>N    </td> <td>N   </td> <td>04/02/2014 to 11/30/2014</td> <td>Wed: 3:00 PM-6:00 PM;Sat: 8:00 AM-1:00 PM;  </td> <td>nan        </td> <td>nan        </td> <td>nan        </td> <td>nan        </td> <td>nan        </td> <td>nan        </td>\n",
       "        </tr>\n",
       "        <tr>\n",
       "            <td>112st Madison Avenue                            </td> <td>112th Madison Avenue                                    </td> <td>New York  </td> <td>New York            </td> <td>New York            </td> <td>10029</td> <td>-73.9493</td> <td>40.7939</td> <td>nan                                                  </td> <td>nan                                                         </td> <td>nan                                </td> <td>nan    </td> <td>nan                                                         </td> <td>-      </td> <td>N   </td> <td>Y         </td> <td>N     </td> <td>Y     </td> <td>Y      </td> <td>N   </td> <td>N      </td> <td>Y    </td> <td>Y         </td> <td>Y    </td> <td>Y   </td> <td>N    </td> <td>N   </td> <td>N      </td> <td>Y   </td> <td>N     </td> <td>N      </td> <td>Y       </td> <td>Y   </td> <td>N    </td> <td>N   </td> <td>N     </td> <td>N    </td> <td>N     </td> <td>N     </td> <td>N     </td> <td>N        </td> <td>N      </td> <td>N            </td> <td>Private business parking lot                              </td> <td>N     </td> <td>N   </td> <td>Y      </td> <td>Y    </td> <td>N   </td> <td>July to November        </td> <td>Tue:8:00 am - 5:00 pm;Sat:8:00 am - 8:00 pm;</td> <td>nan        </td> <td>nan        </td> <td>nan        </td> <td>nan        </td> <td>nan        </td> <td>nan        </td>\n",
       "        </tr>\n",
       "        <tr>\n",
       "            <td>12 South Farmers Market                         </td> <td>3000 Granny White Pike                                  </td> <td>Nashville </td> <td>Davidson            </td> <td>Tennessee           </td> <td>37204</td> <td>-86.7907</td> <td>36.1184</td> <td>http://www.12southfarmersmarket.com                  </td> <td>12_South_Farmers_Market                                     </td> <td>@12southfrmsmkt                    </td> <td>nan    </td> <td>@12southfrmsmkt                                             </td> <td>Y      </td> <td>N   </td> <td>Y         </td> <td>Y     </td> <td>N     </td> <td>Y      </td> <td>Y   </td> <td>N      </td> <td>Y    </td> <td>Y         </td> <td>Y    </td> <td>Y   </td> <td>Y    </td> <td>Y   </td> <td>N      </td> <td>N   </td> <td>N     </td> <td>Y      </td> <td>Y       </td> <td>Y   </td> <td>N    </td> <td>N   </td> <td>Y     </td> <td>N    </td> <td>Y     </td> <td>N     </td> <td>Y     </td> <td>Y        </td> <td>Y      </td> <td>N            </td> <td>nan                                                       </td> <td>Y     </td> <td>N   </td> <td>N      </td> <td>N    </td> <td>Y   </td> <td>05/05/2015 to 10/27/2015</td> <td>Tue: 3:30 PM-6:30 PM;                       </td> <td>nan        </td> <td>nan        </td> <td>nan        </td> <td>nan        </td> <td>nan        </td> <td>nan        </td>\n",
       "        </tr>\n",
       "        <tr>\n",
       "            <td>125th Street Fresh Connect Farmers' Market      </td> <td>163 West 125th Street and Adam Clayton Powell, Jr. Blvd.</td> <td>New York  </td> <td>New York            </td> <td>New York            </td> <td>10027</td> <td>-73.9482</td> <td>40.809 </td> <td>http://www.125thStreetFarmersMarket.com              </td> <td>https://www.facebook.com/125thStreetFarmersMarket           </td> <td>https://twitter.com/FarmMarket125th</td> <td>nan    </td> <td>Instagram--> 125thStreetFarmersMarket                       </td> <td>Y      </td> <td>N   </td> <td>Y         </td> <td>Y     </td> <td>Y     </td> <td>Y      </td> <td>Y   </td> <td>N      </td> <td>Y    </td> <td>Y         </td> <td>Y    </td> <td>Y   </td> <td>Y    </td> <td>Y   </td> <td>N      </td> <td>Y   </td> <td>N     </td> <td>Y      </td> <td>Y       </td> <td>Y   </td> <td>N    </td> <td>Y   </td> <td>Y     </td> <td>N    </td> <td>Y     </td> <td>N     </td> <td>Y     </td> <td>N        </td> <td>N      </td> <td>N            </td> <td>Federal/State government building grounds                 </td> <td>Y     </td> <td>Y   </td> <td>N      </td> <td>Y    </td> <td>Y   </td> <td>06/10/2014 to 11/25/2014</td> <td>Tue: 10:00 AM-7:00 PM;                      </td> <td>nan        </td> <td>nan        </td> <td>nan        </td> <td>nan        </td> <td>nan        </td> <td>nan        </td>\n",
       "        </tr>\n",
       "        <tr>\n",
       "            <td>12th & Brandywine Urban Farm Market             </td> <td>12th & Brandywine Streets                               </td> <td>Wilmington</td> <td>New Castle          </td> <td>Delaware            </td> <td>19801</td> <td>-75.5345</td> <td>39.7421</td> <td>nan                                                  </td> <td>https://www.facebook.com/pages/12th-Brandywine-Urban-Far ...</td> <td>nan                                </td> <td>nan    </td> <td>https://www.facebook.com/delawareurbanfarmcoalition         </td> <td>N      </td> <td>N   </td> <td>N         </td> <td>N     </td> <td>N     </td> <td>N      </td> <td>N   </td> <td>N      </td> <td>Y    </td> <td>Y         </td> <td>N    </td> <td>N   </td> <td>N    </td> <td>N   </td> <td>N      </td> <td>N   </td> <td>N     </td> <td>N      </td> <td>N       </td> <td>N   </td> <td>N    </td> <td>N   </td> <td>N     </td> <td>N    </td> <td>Y     </td> <td>N     </td> <td>N     </td> <td>N        </td> <td>N      </td> <td>N            </td> <td>On a farm from: a barn, a greenhouse, a tent, a stand, etc</td> <td>N     </td> <td>N   </td> <td>N      </td> <td>N    </td> <td>Y   </td> <td>05/16/2014 to 10/17/2014</td> <td>Fri: 8:00 AM-11:00 AM;                      </td> <td>nan        </td> <td>nan        </td> <td>nan        </td> <td>nan        </td> <td>nan        </td> <td>nan        </td>\n",
       "        </tr>\n",
       "        <tr>\n",
       "            <td>14&U Farmers' Market                            </td> <td>1400 U Street NW                                        </td> <td>Washington</td> <td>District of Columbia</td> <td>District of Columbia</td> <td>20009</td> <td>-77.0321</td> <td>38.917 </td> <td>nan                                                  </td> <td>https://www.facebook.com/14UFarmersMarket                   </td> <td>https://twitter.com/14UFarmersMkt  </td> <td>nan    </td> <td>nan                                                         </td> <td>Y      </td> <td>N   </td> <td>Y         </td> <td>Y     </td> <td>N     </td> <td>Y      </td> <td>Y   </td> <td>N      </td> <td>Y    </td> <td>Y         </td> <td>Y    </td> <td>Y   </td> <td>N    </td> <td>Y   </td> <td>N      </td> <td>Y   </td> <td>Y     </td> <td>Y      </td> <td>N       </td> <td>N   </td> <td>N    </td> <td>N   </td> <td>N     </td> <td>Y    </td> <td>Y     </td> <td>Y     </td> <td>Y     </td> <td>N        </td> <td>N      </td> <td>N            </td> <td>Other                                                     </td> <td>Y     </td> <td>Y   </td> <td>Y      </td> <td>Y    </td> <td>Y   </td> <td>05/03/2014 to 11/22/2014</td> <td>Sat: 9:00 AM-1:00 PM;                       </td> <td>nan        </td> <td>nan        </td> <td>nan        </td> <td>nan        </td> <td>nan        </td> <td>nan        </td>\n",
       "        </tr>\n",
       "    </tbody>\n",
       "</table>\n",
       "<p>... (8536 rows omitted)</p>"
      ],
      "text/plain": [
       "MarketName                                       | street                                                   | city       | County               | State                | zip   | x        | y       | Website                                               | Facebook                                                     | Twitter                             | Youtube | OtherMedia                                                   | Organic | Tofu | Bakedgoods | Cheese | Crafts | Flowers | Eggs | Seafood | Herbs | Vegetables | Honey | Jams | Maple | Meat | Nursery | Nuts | Plants | Poultry | Prepared | Soap | Trees | Wine | Coffee | Beans | Fruits | Grains | Juices | Mushrooms | PetFood | WildHarvested | Location                                                   | Credit | WIC  | WICcash | SFMNP | SNAP | Season1Date              | Season1Time                                  | Season2Date | Season2Time | Season3Date | Season3Time | Season4Date | Season4Time\n",
       " Caledonia Farmers Market Association - Danville | nan                                                      | Danville   | Caledonia            | Vermont              | 05828 | -72.1403 | 44.411  | https://sites.google.com/site/caledoniafarmersmarket/ | https://www.facebook.com/Danville.VT.Farmers.Market/         | nan                                 | nan     | nan                                                          | Y       | N    | Y          | Y      | Y      | Y       | Y    | N       | Y     | Y          | Y     | Y    | Y     | Y    | N       | N    | Y      | Y       | Y        | Y    | Y     | N    | Y      | Y     | Y      | N      | Y      | N         | Y       | N             | nan                                                        | Y      | Y    | N       | Y     | N    | 06/08/2016 to 10/12/2016 | Wed: 9:00 AM-1:00 PM;                        | nan         | nan         | nan         | nan         | nan         | nan\n",
       " Stearns Homestead Farmers' Market               | 6975 Ridge Road                                          | Parma      | Cuyahoga             | Ohio                 | 44130 | -81.7286 | 41.3751 | http://Stearnshomestead.com                           | nan                                                          | nan                                 | nan     | nan                                                          | -       | N    | Y          | N      | N      | Y       | Y    | N       | Y     | Y          | Y     | Y    | Y     | Y    | N       | N    | Y      | N       | N        | N    | N     | N    | N      | N     | Y      | N      | N      | N         | Y       | N             | nan                                                        | Y      | Y    | N       | Y     | Y    | 06/25/2016 to 10/01/2016 | Sat: 9:00 AM-1:00 PM;                        | nan         | nan         | nan         | nan         | nan         | nan\n",
       "100 Mile Market                                  | 507 Harrison St                                          | Kalamazoo  | Kalamazoo            | Michigan             | 49007 | -85.5749 | 42.296  | http://www.pfcmarkets.com                             | https://www.facebook.com/100MileMarket/?fref=ts              | nan                                 | nan     | https://www.instagram.com/100milemarket/                     | N       | N    | Y          | Y      | N      | Y       | Y    | N       | Y     | Y          | Y     | Y    | Y     | Y    | N       | N    | N      | Y       | Y        | Y    | N     | Y    | N      | N     | Y      | Y      | N      | N         | N       | N             | nan                                                        | Y      | Y    | N       | Y     | Y    | 05/04/2016 to 10/12/2016 | Wed: 3:00 PM-7:00 PM;                        | nan         | nan         | nan         | nan         | nan         | nan\n",
       "106 S. Main Street Farmers Market                | 106 S. Main Street                                       | Six Mile   | nan                  | South Carolina       | 29682 | -82.8187 | 34.8042 | http://thetownofsixmile.wordpress.com/                | nan                                                          | nan                                 | nan     | nan                                                          | -       | N    | N          | N      | N      | N       | N    | N       | N     | N          | N     | N    | N     | N    | N       | N    | N      | N       | N        | N    | N     | N    | N      | N     | N      | N      | N      | N         | N       | N             | nan                                                        | Y      | N    | N       | N     | N    | nan                      | nan                                          | nan         | nan         | nan         | nan         | nan         | nan\n",
       "10th Steet Community Farmers Market              | 10th Street and Poplar                                   | Lamar      | Barton               | Missouri             | 64759 | -94.2746 | 37.4956 | nan                                                   | nan                                                          | nan                                 | nan     | http://agrimissouri.com/mo-grown/grodetail.php?type=mo-g ... | -       | N    | Y          | N      | Y      | N       | Y    | N       | Y     | Y          | Y     | Y    | N     | Y    | N       | N    | Y      | Y       | Y        | Y    | N     | N    | N      | N     | Y      | N      | N      | N         | N       | N             | nan                                                        | Y      | N    | N       | N     | N    | 04/02/2014 to 11/30/2014 | Wed: 3:00 PM-6:00 PM;Sat: 8:00 AM-1:00 PM;   | nan         | nan         | nan         | nan         | nan         | nan\n",
       "112st Madison Avenue                             | 112th Madison Avenue                                     | New York   | New York             | New York             | 10029 | -73.9493 | 40.7939 | nan                                                   | nan                                                          | nan                                 | nan     | nan                                                          | -       | N    | Y          | N      | Y      | Y       | N    | N       | Y     | Y          | Y     | Y    | N     | N    | N       | Y    | N      | N       | Y        | Y    | N     | N    | N      | N     | N      | N      | N      | N         | N       | N             | Private business parking lot                               | N      | N    | Y       | Y     | N    | July to November         | Tue:8:00 am - 5:00 pm;Sat:8:00 am - 8:00 pm; | nan         | nan         | nan         | nan         | nan         | nan\n",
       "12 South Farmers Market                          | 3000 Granny White Pike                                   | Nashville  | Davidson             | Tennessee            | 37204 | -86.7907 | 36.1184 | http://www.12southfarmersmarket.com                   | 12_South_Farmers_Market                                      | @12southfrmsmkt                     | nan     | @12southfrmsmkt                                              | Y       | N    | Y          | Y      | N      | Y       | Y    | N       | Y     | Y          | Y     | Y    | Y     | Y    | N       | N    | N      | Y       | Y        | Y    | N     | N    | Y      | N     | Y      | N      | Y      | Y         | Y       | N             | nan                                                        | Y      | N    | N       | N     | Y    | 05/05/2015 to 10/27/2015 | Tue: 3:30 PM-6:30 PM;                        | nan         | nan         | nan         | nan         | nan         | nan\n",
       "125th Street Fresh Connect Farmers' Market       | 163 West 125th Street and Adam Clayton Powell, Jr. Blvd. | New York   | New York             | New York             | 10027 | -73.9482 | 40.809  | http://www.125thStreetFarmersMarket.com               | https://www.facebook.com/125thStreetFarmersMarket            | https://twitter.com/FarmMarket125th | nan     | Instagram--> 125thStreetFarmersMarket                        | Y       | N    | Y          | Y      | Y      | Y       | Y    | N       | Y     | Y          | Y     | Y    | Y     | Y    | N       | Y    | N      | Y       | Y        | Y    | N     | Y    | Y      | N     | Y      | N      | Y      | N         | N       | N             | Federal/State government building grounds                  | Y      | Y    | N       | Y     | Y    | 06/10/2014 to 11/25/2014 | Tue: 10:00 AM-7:00 PM;                       | nan         | nan         | nan         | nan         | nan         | nan\n",
       "12th & Brandywine Urban Farm Market              | 12th & Brandywine Streets                                | Wilmington | New Castle           | Delaware             | 19801 | -75.5345 | 39.7421 | nan                                                   | https://www.facebook.com/pages/12th-Brandywine-Urban-Far ... | nan                                 | nan     | https://www.facebook.com/delawareurbanfarmcoalition          | N       | N    | N          | N      | N      | N       | N    | N       | Y     | Y          | N     | N    | N     | N    | N       | N    | N      | N       | N        | N    | N     | N    | N      | N     | Y      | N      | N      | N         | N       | N             | On a farm from: a barn, a greenhouse, a tent, a stand, etc | N      | N    | N       | N     | Y    | 05/16/2014 to 10/17/2014 | Fri: 8:00 AM-11:00 AM;                       | nan         | nan         | nan         | nan         | nan         | nan\n",
       "14&U Farmers' Market                             | 1400 U Street NW                                         | Washington | District of Columbia | District of Columbia | 20009 | -77.0321 | 38.917  | nan                                                   | https://www.facebook.com/14UFarmersMarket                    | https://twitter.com/14UFarmersMkt   | nan     | nan                                                          | Y       | N    | Y          | Y      | N      | Y       | Y    | N       | Y     | Y          | Y     | Y    | N     | Y    | N       | Y    | Y      | Y       | N        | N    | N     | N    | N      | Y     | Y      | Y      | Y      | N         | N       | N             | Other                                                      | Y      | Y    | Y       | Y     | Y    | 05/03/2014 to 11/22/2014 | Sat: 9:00 AM-1:00 PM;                        | nan         | nan         | nan         | nan         | nan         | nan\n",
       "... (8536 rows omitted)"
      ]
     },
     "execution_count": 15,
     "metadata": {},
     "output_type": "execute_result"
    }
   ],
   "source": [
    "farmers_markets_without_fmid = farmers_markets.drop('FMID', 'updateTime')\n",
    "farmers_markets_without_fmid"
   ]
  },
  {
   "cell_type": "markdown",
   "metadata": {},
   "source": [
    "Now, suppose we want to answer some questions about farmers' markets in the US. For example, which market(s) have the largest longitude (given by the `x` column)? \n",
    "\n",
    "To answer this, we'll sort `farmers_markets_locations` by longitude."
   ]
  },
  {
   "cell_type": "code",
   "execution_count": 16,
   "metadata": {},
   "outputs": [
    {
     "data": {
      "text/html": [
       "<table border=\"1\" class=\"dataframe\">\n",
       "    <thead>\n",
       "        <tr>\n",
       "            <th>MarketName</th> <th>city</th> <th>State</th> <th>x</th> <th>y</th>\n",
       "        </tr>\n",
       "    </thead>\n",
       "    <tbody>\n",
       "        <tr>\n",
       "            <td>Trapper Creek Farmers Market                  </td> <td>Trapper Creek</td> <td>Alaska</td> <td>-166.54 </td> <td>53.8748</td>\n",
       "        </tr>\n",
       "        <tr>\n",
       "            <td>Kekaha Neighborhood Center (Sunshine Markets) </td> <td>Kekaha       </td> <td>Hawaii</td> <td>-159.718</td> <td>21.9704</td>\n",
       "        </tr>\n",
       "        <tr>\n",
       "            <td>Hanapepe Park (Sunshine Markets)              </td> <td>Hanapepe     </td> <td>Hawaii</td> <td>-159.588</td> <td>21.9101</td>\n",
       "        </tr>\n",
       "        <tr>\n",
       "            <td>Kalaheo Neighborhood Center (Sunshine Markets)</td> <td>Kalaheo      </td> <td>Hawaii</td> <td>-159.527</td> <td>21.9251</td>\n",
       "        </tr>\n",
       "        <tr>\n",
       "            <td>Hawaiian Farmers of Hanalei                   </td> <td>Hanalei      </td> <td>Hawaii</td> <td>-159.514</td> <td>22.2033</td>\n",
       "        </tr>\n",
       "        <tr>\n",
       "            <td>Hanalei Saturday Farmers Market               </td> <td>Hanalei      </td> <td>Hawaii</td> <td>-159.492</td> <td>22.2042</td>\n",
       "        </tr>\n",
       "        <tr>\n",
       "            <td>Kauai Culinary Market                         </td> <td>Koloa        </td> <td>Hawaii</td> <td>-159.469</td> <td>21.9067</td>\n",
       "        </tr>\n",
       "        <tr>\n",
       "            <td>Koloa Ball Park (Knudsen) (Sunshine Markets)  </td> <td>Koloa        </td> <td>Hawaii</td> <td>-159.465</td> <td>21.9081</td>\n",
       "        </tr>\n",
       "        <tr>\n",
       "            <td>West Kauai Agricultural Association           </td> <td>Poipu        </td> <td>Hawaii</td> <td>-159.435</td> <td>21.8815</td>\n",
       "        </tr>\n",
       "        <tr>\n",
       "            <td>Kilauea Neighborhood Center (Sunshine Markets)</td> <td>Kilauea      </td> <td>Hawaii</td> <td>-159.406</td> <td>22.2112</td>\n",
       "        </tr>\n",
       "    </tbody>\n",
       "</table>\n",
       "<p>... (8536 rows omitted)</p>"
      ],
      "text/plain": [
       "MarketName                                     | city          | State  | x        | y\n",
       "Trapper Creek Farmers Market                   | Trapper Creek | Alaska | -166.54  | 53.8748\n",
       "Kekaha Neighborhood Center (Sunshine Markets)  | Kekaha        | Hawaii | -159.718 | 21.9704\n",
       "Hanapepe Park (Sunshine Markets)               | Hanapepe      | Hawaii | -159.588 | 21.9101\n",
       "Kalaheo Neighborhood Center (Sunshine Markets) | Kalaheo       | Hawaii | -159.527 | 21.9251\n",
       "Hawaiian Farmers of Hanalei                    | Hanalei       | Hawaii | -159.514 | 22.2033\n",
       "Hanalei Saturday Farmers Market                | Hanalei       | Hawaii | -159.492 | 22.2042\n",
       "Kauai Culinary Market                          | Koloa         | Hawaii | -159.469 | 21.9067\n",
       "Koloa Ball Park (Knudsen) (Sunshine Markets)   | Koloa         | Hawaii | -159.465 | 21.9081\n",
       "West Kauai Agricultural Association            | Poipu         | Hawaii | -159.435 | 21.8815\n",
       "Kilauea Neighborhood Center (Sunshine Markets) | Kilauea       | Hawaii | -159.406 | 22.2112\n",
       "... (8536 rows omitted)"
      ]
     },
     "execution_count": 16,
     "metadata": {},
     "output_type": "execute_result"
    }
   ],
   "source": [
    "farmers_markets_locations.sort('x')"
   ]
  },
  {
   "cell_type": "markdown",
   "metadata": {},
   "source": [
    "Oops, that didn't answer our question because we sorted from smallest to largest longitude. To look at the largest longitudes, we'll have to sort in reverse order."
   ]
  },
  {
   "cell_type": "code",
   "execution_count": 17,
   "metadata": {},
   "outputs": [
    {
     "data": {
      "text/html": [
       "<table border=\"1\" class=\"dataframe\">\n",
       "    <thead>\n",
       "        <tr>\n",
       "            <th>MarketName</th> <th>city</th> <th>State</th> <th>x</th> <th>y</th>\n",
       "        </tr>\n",
       "    </thead>\n",
       "    <tbody>\n",
       "        <tr>\n",
       "            <td>Christian \"Shan\" Hendricks Vegetable Market</td> <td>Saint Croix       </td> <td>Virgin Islands</td> <td>-64.7043</td> <td>17.7449</td>\n",
       "        </tr>\n",
       "        <tr>\n",
       "            <td>La Reine Farmers Market                    </td> <td>Saint Croix       </td> <td>Virgin Islands</td> <td>-64.7789</td> <td>17.7322</td>\n",
       "        </tr>\n",
       "        <tr>\n",
       "            <td>Anne Heyliger Vegetable Market             </td> <td>Saint Croix       </td> <td>Virgin Islands</td> <td>-64.8799</td> <td>17.7099</td>\n",
       "        </tr>\n",
       "        <tr>\n",
       "            <td>Rothschild Francis Vegetable Market        </td> <td>St. Thomas        </td> <td>Virgin Islands</td> <td>-64.9326</td> <td>18.3428</td>\n",
       "        </tr>\n",
       "        <tr>\n",
       "            <td>Feria Agrícola de Luquillo                 </td> <td>Luquillo          </td> <td>Puerto Rico   </td> <td>-65.7207</td> <td>18.3782</td>\n",
       "        </tr>\n",
       "        <tr>\n",
       "            <td>El Mercado Familiar                        </td> <td>San Lorenzo       </td> <td>Puerto Rico   </td> <td>-65.9674</td> <td>18.1871</td>\n",
       "        </tr>\n",
       "        <tr>\n",
       "            <td>El Mercado Familiar                        </td> <td>Gurabo            </td> <td>Puerto Rico   </td> <td>-65.9786</td> <td>18.2526</td>\n",
       "        </tr>\n",
       "        <tr>\n",
       "            <td>El Mercado Familiar                        </td> <td>Patillas          </td> <td>Puerto Rico   </td> <td>-66.0135</td> <td>18.0069</td>\n",
       "        </tr>\n",
       "        <tr>\n",
       "            <td>El Mercado Familiar                        </td> <td>Caguas zona urbana</td> <td>Puerto Rico   </td> <td>-66.039 </td> <td>18.2324</td>\n",
       "        </tr>\n",
       "        <tr>\n",
       "            <td>El Maercado Familiar                       </td> <td>Arroyo zona urbana</td> <td>Puerto Rico   </td> <td>-66.0617</td> <td>17.9686</td>\n",
       "        </tr>\n",
       "    </tbody>\n",
       "</table>\n",
       "<p>... (8536 rows omitted)</p>"
      ],
      "text/plain": [
       "MarketName                                  | city               | State          | x        | y\n",
       "Christian \"Shan\" Hendricks Vegetable Market | Saint Croix        | Virgin Islands | -64.7043 | 17.7449\n",
       "La Reine Farmers Market                     | Saint Croix        | Virgin Islands | -64.7789 | 17.7322\n",
       "Anne Heyliger Vegetable Market              | Saint Croix        | Virgin Islands | -64.8799 | 17.7099\n",
       "Rothschild Francis Vegetable Market         | St. Thomas         | Virgin Islands | -64.9326 | 18.3428\n",
       "Feria Agrícola de Luquillo                  | Luquillo           | Puerto Rico    | -65.7207 | 18.3782\n",
       "El Mercado Familiar                         | San Lorenzo        | Puerto Rico    | -65.9674 | 18.1871\n",
       "El Mercado Familiar                         | Gurabo             | Puerto Rico    | -65.9786 | 18.2526\n",
       "El Mercado Familiar                         | Patillas           | Puerto Rico    | -66.0135 | 18.0069\n",
       "El Mercado Familiar                         | Caguas zona urbana | Puerto Rico    | -66.039  | 18.2324\n",
       "El Maercado Familiar                        | Arroyo zona urbana | Puerto Rico    | -66.0617 | 17.9686\n",
       "... (8536 rows omitted)"
      ]
     },
     "execution_count": 17,
     "metadata": {},
     "output_type": "execute_result"
    }
   ],
   "source": [
    "farmers_markets_locations.sort('x', descending=True)"
   ]
  },
  {
   "cell_type": "markdown",
   "metadata": {},
   "source": [
    "(The `descending=True` bit is called an *optional argument*. It has a default value of `False`, so when you explicitly tell the function `descending=True`, then the function will sort in descending order.)\n",
    "\n",
    "### `sort`\n",
    "\n",
    "Some details about sort:\n",
    "\n",
    "1. The first argument to `sort` is the name of a column to sort by.\n",
    "2. If the column has text in it, `sort` will sort alphabetically; if the column has numbers, it will sort numerically.\n",
    "3. The value of `farmers_markets_locations.sort(\"x\")` is a *copy* of `farmers_markets_locations`; the `farmers_markets_locations` table doesn't get modified. For example, if we called `farmers_markets_locations.sort(\"x\")`, then running `farmers_markets_locations` by itself would still return the unsorted table.\n",
    "4. Rows always stick together when a table is sorted.  It wouldn't make sense to sort just one column and leave the other columns alone.  For example, in this case, if we sorted just the `x` column, the farmers' markets would all end up with the wrong longitudes.\n",
    "\n",
    "**Question 2.5.** Create a version of `farmers_markets_locations` that's sorted by **latitude (`y`)**, with the largest latitudes first.  Call it `farmers_markets_locations_by_latitude`.\n",
    "\n",
    "<!--\n",
    "BEGIN QUESTION\n",
    "name: q25\n",
    "-->"
   ]
  },
  {
   "cell_type": "code",
   "execution_count": 18,
   "metadata": {
    "scrolled": true
   },
   "outputs": [
    {
     "data": {
      "text/html": [
       "<table border=\"1\" class=\"dataframe\">\n",
       "    <thead>\n",
       "        <tr>\n",
       "            <th>MarketName</th> <th>city</th> <th>State</th> <th>x</th> <th>y</th>\n",
       "        </tr>\n",
       "    </thead>\n",
       "    <tbody>\n",
       "        <tr>\n",
       "            <td>Tanana Valley Farmers Market  </td> <td>Fairbanks     </td> <td>Alaska</td> <td>-147.781</td> <td>64.8628</td>\n",
       "        </tr>\n",
       "        <tr>\n",
       "            <td>Ester Community Market        </td> <td>Ester         </td> <td>Alaska</td> <td>-148.01 </td> <td>64.8459</td>\n",
       "        </tr>\n",
       "        <tr>\n",
       "            <td>Fairbanks Downtown Market     </td> <td>Fairbanks     </td> <td>Alaska</td> <td>-147.72 </td> <td>64.8444</td>\n",
       "        </tr>\n",
       "        <tr>\n",
       "            <td>Nenana Open Air Market        </td> <td>Nenana        </td> <td>Alaska</td> <td>-149.096</td> <td>64.5566</td>\n",
       "        </tr>\n",
       "        <tr>\n",
       "            <td>Highway's End Farmers' Market </td> <td>Delta Junction</td> <td>Alaska</td> <td>-145.733</td> <td>64.0385</td>\n",
       "        </tr>\n",
       "        <tr>\n",
       "            <td>MountainTraders               </td> <td>Talkeetna     </td> <td>Alaska</td> <td>-150.118</td> <td>62.3231</td>\n",
       "        </tr>\n",
       "        <tr>\n",
       "            <td>Talkeetna Farmers Market      </td> <td>Talkeetna     </td> <td>Alaska</td> <td>-150.118</td> <td>62.3228</td>\n",
       "        </tr>\n",
       "        <tr>\n",
       "            <td>Denali Farmers Market         </td> <td>Anchorage     </td> <td>Alaska</td> <td>-150.234</td> <td>62.3163</td>\n",
       "        </tr>\n",
       "        <tr>\n",
       "            <td>Kenny Lake Harvest II         </td> <td>Valdez        </td> <td>Alaska</td> <td>-145.476</td> <td>62.1079</td>\n",
       "        </tr>\n",
       "        <tr>\n",
       "            <td>Copper Valley Community Market</td> <td>Copper Valley </td> <td>Alaska</td> <td>-145.444</td> <td>62.0879</td>\n",
       "        </tr>\n",
       "    </tbody>\n",
       "</table>\n",
       "<p>... (8536 rows omitted)</p>"
      ],
      "text/plain": [
       "MarketName                     | city           | State  | x        | y\n",
       "Tanana Valley Farmers Market   | Fairbanks      | Alaska | -147.781 | 64.8628\n",
       "Ester Community Market         | Ester          | Alaska | -148.01  | 64.8459\n",
       "Fairbanks Downtown Market      | Fairbanks      | Alaska | -147.72  | 64.8444\n",
       "Nenana Open Air Market         | Nenana         | Alaska | -149.096 | 64.5566\n",
       "Highway's End Farmers' Market  | Delta Junction | Alaska | -145.733 | 64.0385\n",
       "MountainTraders                | Talkeetna      | Alaska | -150.118 | 62.3231\n",
       "Talkeetna Farmers Market       | Talkeetna      | Alaska | -150.118 | 62.3228\n",
       "Denali Farmers Market          | Anchorage      | Alaska | -150.234 | 62.3163\n",
       "Kenny Lake Harvest II          | Valdez         | Alaska | -145.476 | 62.1079\n",
       "Copper Valley Community Market | Copper Valley  | Alaska | -145.444 | 62.0879\n",
       "... (8536 rows omitted)"
      ]
     },
     "execution_count": 18,
     "metadata": {},
     "output_type": "execute_result"
    }
   ],
   "source": [
    "farmers_markets_locations_by_latitude = farmers_markets_locations.sort('y', descending = True)\n",
    "farmers_markets_locations_by_latitude"
   ]
  },
  {
   "cell_type": "markdown",
   "metadata": {},
   "source": [
    "Now let's say we want a table of all farmers' markets in North Carolina. Sorting won't help us much here because North Carolina is closer to the middle of the dataset.\n",
    "\n",
    "Instead, we use the table method `where`."
   ]
  },
  {
   "cell_type": "code",
   "execution_count": 19,
   "metadata": {},
   "outputs": [
    {
     "data": {
      "text/html": [
       "<table border=\"1\" class=\"dataframe\">\n",
       "    <thead>\n",
       "        <tr>\n",
       "            <th>MarketName</th> <th>city</th> <th>State</th> <th>x</th> <th>y</th>\n",
       "        </tr>\n",
       "    </thead>\n",
       "    <tbody>\n",
       "        <tr>\n",
       "            <td>Afton Village Farmers Market   </td> <td>Concord       </td> <td>North Carolina</td> <td>-80.6702</td> <td>35.414 </td>\n",
       "        </tr>\n",
       "        <tr>\n",
       "            <td>Alamance County Farmers Market </td> <td>Burlington    </td> <td>North Carolina</td> <td>-79.4357</td> <td>36.0943</td>\n",
       "        </tr>\n",
       "        <tr>\n",
       "            <td>Alexander County Farmers Market</td> <td>Taylorsville  </td> <td>North Carolina</td> <td>-81.1781</td> <td>35.9197</td>\n",
       "        </tr>\n",
       "        <tr>\n",
       "            <td>Alleghany Farmers Market       </td> <td>Sparta        </td> <td>North Carolina</td> <td>-81.1226</td> <td>36.503 </td>\n",
       "        </tr>\n",
       "        <tr>\n",
       "            <td>Andrews Farmers Market         </td> <td>Andrews       </td> <td>North Carolina</td> <td>-83.8232</td> <td>35.2027</td>\n",
       "        </tr>\n",
       "        <tr>\n",
       "            <td>Anson County Farmers Market    </td> <td>Wadesboro     </td> <td>North Carolina</td> <td>-80.0526</td> <td>34.9408</td>\n",
       "        </tr>\n",
       "        <tr>\n",
       "            <td>Apex Farmers Market            </td> <td>Apex          </td> <td>North Carolina</td> <td>-78.8499</td> <td>35.732 </td>\n",
       "        </tr>\n",
       "        <tr>\n",
       "            <td>Ashboro Downtown Farmers Market</td> <td>Asheboro      </td> <td>North Carolina</td> <td>-79.8175</td> <td>35.7049</td>\n",
       "        </tr>\n",
       "        <tr>\n",
       "            <td>Ashe County Farmers Market     </td> <td>West Jefferson</td> <td>North Carolina</td> <td>-81.4935</td> <td>36.4025</td>\n",
       "        </tr>\n",
       "        <tr>\n",
       "            <td>Asheville City Market          </td> <td>Asheville     </td> <td>North Carolina</td> <td>-82.5489</td> <td>35.5935</td>\n",
       "        </tr>\n",
       "    </tbody>\n",
       "</table>\n",
       "<p>... (242 rows omitted)</p>"
      ],
      "text/plain": [
       "MarketName                      | city           | State          | x        | y\n",
       "Afton Village Farmers Market    | Concord        | North Carolina | -80.6702 | 35.414\n",
       "Alamance County Farmers Market  | Burlington     | North Carolina | -79.4357 | 36.0943\n",
       "Alexander County Farmers Market | Taylorsville   | North Carolina | -81.1781 | 35.9197\n",
       "Alleghany Farmers Market        | Sparta         | North Carolina | -81.1226 | 36.503\n",
       "Andrews Farmers Market          | Andrews        | North Carolina | -83.8232 | 35.2027\n",
       "Anson County Farmers Market     | Wadesboro      | North Carolina | -80.0526 | 34.9408\n",
       "Apex Farmers Market             | Apex           | North Carolina | -78.8499 | 35.732\n",
       "Ashboro Downtown Farmers Market | Asheboro       | North Carolina | -79.8175 | 35.7049\n",
       "Ashe County Farmers Market      | West Jefferson | North Carolina | -81.4935 | 36.4025\n",
       "Asheville City Market           | Asheville      | North Carolina | -82.5489 | 35.5935\n",
       "... (242 rows omitted)"
      ]
     },
     "execution_count": 19,
     "metadata": {},
     "output_type": "execute_result"
    }
   ],
   "source": [
    "nc_farmers_markets = farmers_markets_locations.where('State', are.equal_to('North Carolina'))\n",
    "nc_farmers_markets"
   ]
  },
  {
   "cell_type": "markdown",
   "metadata": {},
   "source": [
    "Ignore the syntax for the moment.  Instead, try to read that line like this:\n",
    "\n",
    "> Assign the name **`nc_farmers_markets`** to a table whose rows are the rows in the **`farmers_markets_locations`** table **`where`** the **`'State'`**s **`are` `equal` `to` `North Carolina`**."
   ]
  },
  {
   "cell_type": "markdown",
   "metadata": {},
   "source": [
    "### `where`\n",
    "\n",
    "Now let's dive into the details a bit more.  `where` takes 2 arguments:\n",
    "\n",
    "1. The name of a column.  `where` finds rows where that column's values meet some criterion.\n",
    "2. A predicate that describes the criterion that the column needs to meet.\n",
    "\n",
    "The predicate in the example above called the function `are.equal_to` with the value we wanted, 'North Carolina'.  We'll see other predicates soon. \n",
    "\n",
    "`where` returns a table that's a copy of the original table, but **with only the rows that meet the given predicate**."
   ]
  },
  {
   "cell_type": "markdown",
   "metadata": {},
   "source": [
    "**Question 2.6.** Use `nc_farmers_markets` to create a table called `ch_markets` containing farmers' markets in Chapel Hill, North Carolina\n",
    "<!--\n",
    "BEGIN QUESTION\n",
    "name: q36\n",
    "-->"
   ]
  },
  {
   "cell_type": "code",
   "execution_count": 20,
   "metadata": {},
   "outputs": [
    {
     "data": {
      "text/html": [
       "<table border=\"1\" class=\"dataframe\">\n",
       "    <thead>\n",
       "        <tr>\n",
       "            <th>MarketName</th> <th>city</th> <th>State</th> <th>x</th> <th>y</th>\n",
       "        </tr>\n",
       "    </thead>\n",
       "    <tbody>\n",
       "        <tr>\n",
       "            <td>Southern Village Farmers Market</td> <td>Chapel Hill</td> <td>North Carolina</td> <td>-79.0659</td> <td>35.881 </td>\n",
       "        </tr>\n",
       "        <tr>\n",
       "            <td>The Chapel Hill Farmers' Market</td> <td>Chapel Hill</td> <td>North Carolina</td> <td>-79.0294</td> <td>35.9275</td>\n",
       "        </tr>\n",
       "    </tbody>\n",
       "</table>"
      ],
      "text/plain": [
       "MarketName                      | city        | State          | x        | y\n",
       "Southern Village Farmers Market | Chapel Hill | North Carolina | -79.0659 | 35.881\n",
       "The Chapel Hill Farmers' Market | Chapel Hill | North Carolina | -79.0294 | 35.9275"
      ]
     },
     "execution_count": 20,
     "metadata": {},
     "output_type": "execute_result"
    }
   ],
   "source": [
    "ch_markets = nc_farmers_markets.where('city', 'Chapel Hill')\n",
    "ch_markets"
   ]
  },
  {
   "cell_type": "markdown",
   "metadata": {},
   "source": [
    "Recognize any of them?"
   ]
  },
  {
   "cell_type": "markdown",
   "metadata": {},
   "source": [
    "So far we've only been using `where` with the predicate that requires finding the values in a column to be *exactly* equal to a certain value. However, there are many other predicates. Here are a few:\n",
    "\n",
    "|Predicate|Example|Result|\n",
    "|-|-|-|\n",
    "|`are.equal_to`|`are.equal_to(50)`|Find rows with values equal to 50|\n",
    "|`are.not_equal_to`|`are.not_equal_to(50)`|Find rows with values not equal to 50|\n",
    "|`are.above`|`are.above(50)`|Find rows with values above (and not equal to) 50|\n",
    "|`are.above_or_equal_to`|`are.above_or_equal_to(50)`|Find rows with values above 50 or equal to 50|\n",
    "|`are.below`|`are.below(50)`|Find rows with values below 50|\n",
    "|`are.between`|`are.between(2, 10)`|Find rows with values above or equal to 2 and below 10|"
   ]
  },
  {
   "cell_type": "markdown",
   "metadata": {},
   "source": [
    "## 3. Analyzing a dataset\n",
    "\n",
    "Now that you're familiar with table operations, let’s answer an interesting question about a dataset!\n",
    "\n",
    "Run the cell below to load the `imdb` table. It contains information about the 250 highest-rated movies on IMDb."
   ]
  },
  {
   "cell_type": "code",
   "execution_count": 21,
   "metadata": {
    "scrolled": true
   },
   "outputs": [
    {
     "data": {
      "text/html": [
       "<table border=\"1\" class=\"dataframe\">\n",
       "    <thead>\n",
       "        <tr>\n",
       "            <th>Votes</th> <th>Rating</th> <th>Title</th> <th>Year</th> <th>Decade</th>\n",
       "        </tr>\n",
       "    </thead>\n",
       "    <tbody>\n",
       "        <tr>\n",
       "            <td>88355 </td> <td>8.4   </td> <td>M                    </td> <td>1931</td> <td>1930  </td>\n",
       "        </tr>\n",
       "        <tr>\n",
       "            <td>132823</td> <td>8.3   </td> <td>Singin' in the Rain  </td> <td>1952</td> <td>1950  </td>\n",
       "        </tr>\n",
       "        <tr>\n",
       "            <td>74178 </td> <td>8.3   </td> <td>All About Eve        </td> <td>1950</td> <td>1950  </td>\n",
       "        </tr>\n",
       "        <tr>\n",
       "            <td>635139</td> <td>8.6   </td> <td>Léon                 </td> <td>1994</td> <td>1990  </td>\n",
       "        </tr>\n",
       "        <tr>\n",
       "            <td>145514</td> <td>8.2   </td> <td>The Elephant Man     </td> <td>1980</td> <td>1980  </td>\n",
       "        </tr>\n",
       "        <tr>\n",
       "            <td>425461</td> <td>8.3   </td> <td>Full Metal Jacket    </td> <td>1987</td> <td>1980  </td>\n",
       "        </tr>\n",
       "        <tr>\n",
       "            <td>441174</td> <td>8.1   </td> <td>Gone Girl            </td> <td>2014</td> <td>2010  </td>\n",
       "        </tr>\n",
       "        <tr>\n",
       "            <td>850601</td> <td>8.3   </td> <td>Batman Begins        </td> <td>2005</td> <td>2000  </td>\n",
       "        </tr>\n",
       "        <tr>\n",
       "            <td>37664 </td> <td>8.2   </td> <td>Judgment at Nuremberg</td> <td>1961</td> <td>1960  </td>\n",
       "        </tr>\n",
       "        <tr>\n",
       "            <td>46987 </td> <td>8     </td> <td>Relatos salvajes     </td> <td>2014</td> <td>2010  </td>\n",
       "        </tr>\n",
       "    </tbody>\n",
       "</table>\n",
       "<p>... (240 rows omitted)</p>"
      ],
      "text/plain": [
       "Votes  | Rating | Title                 | Year | Decade\n",
       "88355  | 8.4    | M                     | 1931 | 1930\n",
       "132823 | 8.3    | Singin' in the Rain   | 1952 | 1950\n",
       "74178  | 8.3    | All About Eve         | 1950 | 1950\n",
       "635139 | 8.6    | Léon                  | 1994 | 1990\n",
       "145514 | 8.2    | The Elephant Man      | 1980 | 1980\n",
       "425461 | 8.3    | Full Metal Jacket     | 1987 | 1980\n",
       "441174 | 8.1    | Gone Girl             | 2014 | 2010\n",
       "850601 | 8.3    | Batman Begins         | 2005 | 2000\n",
       "37664  | 8.2    | Judgment at Nuremberg | 1961 | 1960\n",
       "46987  | 8      | Relatos salvajes      | 2014 | 2010\n",
       "... (240 rows omitted)"
      ]
     },
     "execution_count": 21,
     "metadata": {},
     "output_type": "execute_result"
    }
   ],
   "source": [
    "# Just run this cell\n",
    "\n",
    "imdb = Table.read_table('imdb.csv')\n",
    "imdb"
   ]
  },
  {
   "cell_type": "markdown",
   "metadata": {},
   "source": [
    "Often, we want to perform multiple operations - sorting, filtering, or others - in order to turn a table we have into something more useful. You can do these operations one by one, e.g.\n",
    "\n",
    "```\n",
    "first_step = original_tbl.where(“col1”, are.equal_to(12))\n",
    "second_step = first_step.sort(‘col2’, descending=True)\n",
    "```\n",
    "\n",
    "However, since the value of the expression `original_tbl.where(“col1”, are.equal_to(12))` is itself a table, you can just call a table method on it:\n",
    "\n",
    "```\n",
    "original_tbl.where(“col1”, are.equal_to(12)).sort(‘col2’, descending=True)\n",
    "```\n",
    "You should organize your work in the way that makes the most sense to you, using informative names for any intermediate tables you create. "
   ]
  },
  {
   "cell_type": "markdown",
   "metadata": {},
   "source": [
    "**Question 3.1.** Create a table of movies released between 1980 and 1999 (inclusive) with ratings above 7. The table should only contain the columns `Title` and `Rating`, **in that order**.\n",
    "\n",
    "Assign the table to the name `above_seven`.\n",
    "\n",
    "*Hint:* Think about the steps you need to take, and try to put them in an order that make sense. Feel free to create intermediate tables for each step, but please make sure you assign your final table the name `above_seven`!\n",
    "\n",
    "<!--\n",
    "BEGIN QUESTION\n",
    "name: q31\n",
    "-->"
   ]
  },
  {
   "cell_type": "code",
   "execution_count": 28,
   "metadata": {},
   "outputs": [
    {
     "data": {
      "text/html": [
       "<table border=\"1\" class=\"dataframe\">\n",
       "    <thead>\n",
       "        <tr>\n",
       "            <th>Title</th> <th>Rating</th>\n",
       "        </tr>\n",
       "    </thead>\n",
       "    <tbody>\n",
       "        <tr>\n",
       "            <td>Léon                     </td> <td>8.6   </td>\n",
       "        </tr>\n",
       "        <tr>\n",
       "            <td>The Elephant Man         </td> <td>8.2   </td>\n",
       "        </tr>\n",
       "        <tr>\n",
       "            <td>Full Metal Jacket        </td> <td>8.3   </td>\n",
       "        </tr>\n",
       "        <tr>\n",
       "            <td>The Princess Bride       </td> <td>8.1   </td>\n",
       "        </tr>\n",
       "        <tr>\n",
       "            <td>Mononoke-hime            </td> <td>8.4   </td>\n",
       "        </tr>\n",
       "        <tr>\n",
       "            <td>Saving Private Ryan      </td> <td>8.5   </td>\n",
       "        </tr>\n",
       "        <tr>\n",
       "            <td>In the Name of the Father</td> <td>8.1   </td>\n",
       "        </tr>\n",
       "        <tr>\n",
       "            <td>Before Sunrise           </td> <td>8     </td>\n",
       "        </tr>\n",
       "        <tr>\n",
       "            <td>The Shining              </td> <td>8.4   </td>\n",
       "        </tr>\n",
       "        <tr>\n",
       "            <td>Paris, Texas (1984)      </td> <td>8     </td>\n",
       "        </tr>\n",
       "    </tbody>\n",
       "</table>\n",
       "<p>... (63 rows omitted)</p>"
      ],
      "text/plain": [
       "Title                     | Rating\n",
       "Léon                      | 8.6\n",
       "The Elephant Man          | 8.2\n",
       "Full Metal Jacket         | 8.3\n",
       "The Princess Bride        | 8.1\n",
       "Mononoke-hime             | 8.4\n",
       "Saving Private Ryan       | 8.5\n",
       "In the Name of the Father | 8.1\n",
       "Before Sunrise            | 8\n",
       "The Shining               | 8.4\n",
       "Paris, Texas (1984)       | 8\n",
       "... (63 rows omitted)"
      ]
     },
     "execution_count": 28,
     "metadata": {},
     "output_type": "execute_result"
    }
   ],
   "source": [
    "above_seven = imdb.where('Year', are.between(1980, 2000)).where('Rating', are.above(7)).select('Title', 'Rating')\n",
    "above_seven"
   ]
  },
  {
   "cell_type": "markdown",
   "metadata": {},
   "source": [
    "**Question 3.2.** Use `num_rows` (and arithmetic) to find the *proportion* of movies in the dataset that were released 1980-1999, and the *proportion* of movies in the dataset that were released in the year 2000 or later.\n",
    "\n",
    "Assign `proportion_in_80_to_99 to the proportion of movies in the dataset that were released 1980-1999, and `proportion_in_21st_century` to the proportion of movies in the dataset that were released in the year 2000 or later.\n",
    "\n",
    "*Hint:* The *proportion* of movies released in 1980-1999 is the *number* of movies released in 1980-1999, divided by the *total number* of movies.\n",
    "\n",
    "<!--\n",
    "BEGIN QUESTION\n",
    "name: q32\n",
    "-->"
   ]
  },
  {
   "cell_type": "code",
   "execution_count": 30,
   "metadata": {},
   "outputs": [
    {
     "name": "stdout",
     "output_type": "stream",
     "text": [
      "Proportion in'80s and '90s: 0.292\n",
      "Proportion in 21st century: 0.316\n"
     ]
    }
   ],
   "source": [
    "num_movies_in_dataset = imdb.num_rows\n",
    "num_in_80_to_99  = imdb.where('Year', are.between(1980, 2000)).num_rows\n",
    "num_in_21st_century = imdb.where('Year', are.above(1999)).num_rows\n",
    "proportion_in_80_to_99 = num_in_80_to_99 / num_movies_in_dataset\n",
    "proportion_in_21st_century = num_in_21st_century / num_movies_in_dataset\n",
    "print(\"Proportion in'80s and '90s:\", proportion_in_80_to_99)\n",
    "print(\"Proportion in 21st century:\", proportion_in_21st_century)"
   ]
  },
  {
   "cell_type": "markdown",
   "metadata": {},
   "source": [
    "# 4. Text\n",
    "Programming doesn't just concern numbers. Text is one of the most common data types used in programs. \n",
    "\n",
    "Text is represented by a **string value** in Python. The word \"string\" is a programming term for a sequence of characters. A string might contain a single character, a word, a sentence, or a whole book.\n",
    "\n",
    "To distinguish text data from actual code, we demarcate strings by putting quotation marks around them. Single quotes (`'`) and double quotes (`\"`) are both valid, but the types of opening and closing quotation marks must match. The contents can be any sequence of characters, including numbers and symbols. \n",
    "\n",
    "We've seen strings before in `print` statements.  Below, two different strings are passed as arguments to the `print` function."
   ]
  },
  {
   "cell_type": "code",
   "execution_count": 31,
   "metadata": {},
   "outputs": [
    {
     "name": "stdout",
     "output_type": "stream",
     "text": [
      "I <3 Data Science\n"
     ]
    }
   ],
   "source": [
    "print(\"I <3\", 'Data Science')"
   ]
  },
  {
   "cell_type": "markdown",
   "metadata": {},
   "source": [
    "Just as names can be given to numbers, names can be given to string values.  The names and strings aren't required to be similar in any way. Any name can be assigned to any string."
   ]
  },
  {
   "cell_type": "code",
   "execution_count": 32,
   "metadata": {},
   "outputs": [
    {
     "name": "stdout",
     "output_type": "stream",
     "text": [
      "two * two\n"
     ]
    }
   ],
   "source": [
    "one = 'two'\n",
    "plus = '*'\n",
    "print(one, plus, one)"
   ]
  },
  {
   "cell_type": "markdown",
   "metadata": {},
   "source": [
    "**Question 4.1.** Yuri Gagarin was the first person to travel through outer space.  When he emerged from his capsule upon landing on Earth, he [reportedly](https://en.wikiquote.org/wiki/Yuri_Gagarin) had the following conversation with a woman and girl who saw the landing:\n",
    "\n",
    "    The woman asked: \"Can it be that you have come from outer space?\"\n",
    "    Gagarin replied: \"As a matter of fact, I have!\"\n",
    "\n",
    "The cell below contains unfinished code.  Fill in the `...`s so that it prints out this conversation *exactly* as it appears above.\n",
    "\n",
    "<!--\n",
    "BEGIN QUESTION\n",
    "name: q41\n",
    "-->"
   ]
  },
  {
   "cell_type": "code",
   "execution_count": 37,
   "metadata": {},
   "outputs": [
    {
     "name": "stdout",
     "output_type": "stream",
     "text": [
      "The woman asked: \"Can it be that you have come from outer space?\"\n",
      "Gagarin replied: \"As a matter of fact, I have!\"\n"
     ]
    }
   ],
   "source": [
    "woman_asking = \"The woman asked:\"\n",
    "woman_quote = '\"Can it be that you have come from outer space?\"'\n",
    "gagarin_reply = 'Gagarin replied:'\n",
    "gagarin_quote = '\"As a matter of fact, I have!\"'\n",
    "\n",
    "print(woman_asking, woman_quote)\n",
    "print(gagarin_reply, gagarin_quote)"
   ]
  },
  {
   "cell_type": "markdown",
   "metadata": {},
   "source": [
    "## 4.1. String Methods"
   ]
  },
  {
   "cell_type": "markdown",
   "metadata": {},
   "source": [
    "Strings can be transformed using **methods**. Recall that methods and functions are not technically the same thing, but we'll be using them interchangeably for the purposes of this course.\n",
    "\n",
    "Here's a sketch of how to call methods on a string:\n",
    "\n",
    "    <expression that evaluates to a string>.<method name>(<argument>, <argument>, ...)\n",
    "    \n",
    "One example of a string method is `replace`, which replaces all instances of some part of the original string (or a *substring*) with a new string. \n",
    "\n",
    "    <original string>.replace(<old substring>, <new substring>)\n",
    "    \n",
    "`replace` returns (evaluates to) a new string, leaving the original string unchanged.\n",
    "    \n",
    "Try to predict the output of this example, then run the cell!"
   ]
  },
  {
   "cell_type": "code",
   "execution_count": 38,
   "metadata": {},
   "outputs": [
    {
     "name": "stdout",
     "output_type": "stream",
     "text": [
      "Hella Hello\n"
     ]
    }
   ],
   "source": [
    "# Replace one letter\n",
    "hello = 'Hello'\n",
    "print(hello.replace('o', 'a'), hello)"
   ]
  },
  {
   "cell_type": "markdown",
   "metadata": {},
   "source": [
    "You can call functions on the results of other functions.  For example, `max(abs(-5), abs(3))` evaluates to 5.  Similarly, you can call methods on the results of other method or function calls.\n",
    "\n",
    "You may have already noticed one difference between functions and methods - a function like `max` does not require a `.` before it's called, but a string method like `replace` does."
   ]
  },
  {
   "cell_type": "code",
   "execution_count": 39,
   "metadata": {
    "scrolled": true
   },
   "outputs": [
    {
     "data": {
      "text/plain": [
       "'degrade'"
      ]
     },
     "execution_count": 39,
     "metadata": {},
     "output_type": "execute_result"
    }
   ],
   "source": [
    "# Calling replace on the output of another call to replace\n",
    "'train'.replace('t', 'ing').replace('in', 'de')"
   ]
  },
  {
   "cell_type": "markdown",
   "metadata": {},
   "source": [
    "Here's a picture of how Python evaluates a \"chained\" method call like that:\n",
    "\n",
    "<img src=\"lab02-chaining_method_calls.jpg\"/>"
   ]
  },
  {
   "cell_type": "markdown",
   "metadata": {},
   "source": [
    "**Question 4.1.1.** Use `replace` to transform the string `'hitchhiker'` into `'matchmaker'`. Assign your result to `new_word`.\n",
    "\n",
    "<!--\n",
    "BEGIN QUESTION\n",
    "name: q411\n",
    "-->"
   ]
  },
  {
   "cell_type": "code",
   "execution_count": 40,
   "metadata": {},
   "outputs": [
    {
     "data": {
      "text/plain": [
       "'matchmaker'"
      ]
     },
     "execution_count": 40,
     "metadata": {},
     "output_type": "execute_result"
    }
   ],
   "source": [
    "new_word = 'hitchhiker'.replace('hi', 'ma')\n",
    "new_word"
   ]
  },
  {
   "cell_type": "markdown",
   "metadata": {},
   "source": [
    "There are many more string methods in Python, but most programmers don't memorize their names or how to use them.  In the \"real world,\" people usually just search the internet for documentation and examples. A complete [list of string methods](https://docs.python.org/3/library/stdtypes.html#string-methods) appears in the Python language documentation. [Stack Overflow](http://stackoverflow.com) has a huge database of answered questions that often demonstrate how to use these methods to achieve various ends."
   ]
  },
  {
   "cell_type": "markdown",
   "metadata": {},
   "source": [
    "## 4.2. Converting to and from Strings"
   ]
  },
  {
   "cell_type": "markdown",
   "metadata": {},
   "source": [
    "Strings and numbers are different *types* of values, even when a string contains the digits of a number. For example, evaluating the following cell causes an error because an integer cannot be added to a string."
   ]
  },
  {
   "cell_type": "code",
   "execution_count": 41,
   "metadata": {},
   "outputs": [
    {
     "ename": "TypeError",
     "evalue": "unsupported operand type(s) for +: 'int' and 'str'",
     "output_type": "error",
     "traceback": [
      "\u001b[0;31m---------------------------------------------------------------------------\u001b[0m",
      "\u001b[0;31mTypeError\u001b[0m                                 Traceback (most recent call last)",
      "\u001b[0;32m<ipython-input-41-ea74adbd7634>\u001b[0m in \u001b[0;36m<module>\u001b[0;34m\u001b[0m\n\u001b[0;32m----> 1\u001b[0;31m \u001b[0;36m8\u001b[0m \u001b[0;34m+\u001b[0m \u001b[0;34m\"8\"\u001b[0m\u001b[0;34m\u001b[0m\u001b[0;34m\u001b[0m\u001b[0m\n\u001b[0m",
      "\u001b[0;31mTypeError\u001b[0m: unsupported operand type(s) for +: 'int' and 'str'"
     ]
    }
   ],
   "source": [
    "8 + \"8\""
   ]
  },
  {
   "cell_type": "markdown",
   "metadata": {},
   "source": [
    "However, there are built-in functions to convert numbers to strings and strings to numbers. Some of these built-in functions have restrictions on the type of argument they take:\n",
    "\n",
    "|Function |Description|\n",
    "|-|-|\n",
    "|`int`|Converts a string of digits or a float to an integer (\"int\") value|\n",
    "|`float`|Converts a string of digits (perhaps with a decimal point) or an int to a decimal (\"float\") value|\n",
    "|`str`|Converts any value to a string|"
   ]
  },
  {
   "cell_type": "markdown",
   "metadata": {},
   "source": [
    "Try to predict what data type and value `example` evaluates to, then run the cell."
   ]
  },
  {
   "cell_type": "code",
   "execution_count": 42,
   "metadata": {},
   "outputs": [
    {
     "name": "stdout",
     "output_type": "stream",
     "text": [
      "26.0\n",
      "This example returned a <class 'float'>!\n"
     ]
    }
   ],
   "source": [
    "example = 8 + int(\"10\") + float(\"8\")\n",
    "\n",
    "print(example)\n",
    "print(\"This example returned a \" + str(type(example)) + \"!\")"
   ]
  },
  {
   "cell_type": "markdown",
   "metadata": {},
   "source": [
    "Suppose you're writing a program that looks for dates in a text, and you want your program to find the amount of time that elapsed between two years it has identified.  It doesn't make sense to subtract two texts, but you can first convert the text containing the years into numbers.\n",
    "\n",
    "**Question 4.2.1.** Finish the code below to compute the number of years that elapsed between `one_year` and `another_year`.  Don't just write the numbers `1618` and `1648` (or `30`); use a conversion function to turn the given text data into numbers.\n",
    "\n",
    "<!--\n",
    "BEGIN QUESTION\n",
    "name: q421\n",
    "-->"
   ]
  },
  {
   "cell_type": "code",
   "execution_count": 43,
   "metadata": {},
   "outputs": [
    {
     "data": {
      "text/plain": [
       "30"
      ]
     },
     "execution_count": 43,
     "metadata": {},
     "output_type": "execute_result"
    }
   ],
   "source": [
    "# Some text data:\n",
    "one_year = \"1618\"\n",
    "another_year = \"1648\"\n",
    "\n",
    "# Complete the next line.  Note that we can't just write:\n",
    "#   another_year - one_year\n",
    "# If you don't see why, try seeing what happens when you\n",
    "# write that here.\n",
    "difference = int(another_year) - int(one_year)\n",
    "difference"
   ]
  },
  {
   "cell_type": "markdown",
   "metadata": {},
   "source": [
    "## 4.3. Passing strings to functions\n",
    "\n",
    "String values, like numbers, can be arguments to functions and can be returned by functions. \n",
    "\n",
    "The function `len` (derived from the word \"length\") takes a single string as its argument and returns the number of characters (including spaces) in the string.\n",
    "\n",
    "Note that it doesn't count *words*. `len(\"one small step for man\")` evaluates to 22, not 5.\n",
    "\n",
    "**Question 4.3.1.**  Use `len` to find the number of characters in the long string in the next cell.  Characters include things like spaces and punctuation. Assign `sentence_length` to that number.\n",
    "\n",
    "(The string is the first sentence of the English translation of the French [Declaration of the Rights of Man](http://avalon.law.yale.edu/18th_century/rightsof.asp).)  \n",
    "\n",
    "<!--\n",
    "BEGIN QUESTION\n",
    "name: q431\n",
    "-->"
   ]
  },
  {
   "cell_type": "code",
   "execution_count": 44,
   "metadata": {},
   "outputs": [
    {
     "data": {
      "text/plain": [
       "896"
      ]
     },
     "execution_count": 44,
     "metadata": {},
     "output_type": "execute_result"
    }
   ],
   "source": [
    "a_very_long_sentence = \"The representatives of the French people, organized as a National Assembly, believing that the ignorance, neglect, or contempt of the rights of man are the sole cause of public calamities and of the corruption of governments, have determined to set forth in a solemn declaration the natural, unalienable, and sacred rights of man, in order that this declaration, being constantly before all the members of the Social body, shall remind them continually of their rights and duties; in order that the acts of the legislative power, as well as those of the executive power, may be compared at any moment with the objects and purposes of all political institutions and may thus be more respected, and, lastly, in order that the grievances of the citizens, based hereafter upon simple and incontestable principles, shall tend to the maintenance of the constitution and redound to the happiness of all.\"\n",
    "sentence_length = len(a_very_long_sentence)\n",
    "sentence_length"
   ]
  },
  {
   "cell_type": "markdown",
   "metadata": {},
   "source": [
    "# 5. Arrays\n",
    "\n",
    "Computers are most useful when you can use a small amount of code to *do the same action* to *many different things*.\n",
    "\n",
    "For example, in the time it takes you to calculate the 18% tip on a restaurant bill, a laptop can calculate 18% tips for every restaurant bill paid by every human on Earth that day.  (That's if you're pretty fast at doing arithmetic in your head!)\n",
    "\n",
    "**Arrays** are how we put many values in one place so that we can operate on them as a group. For example, if `billions_of_numbers` is an array of numbers, the expression\n",
    "\n",
    "    .18 * billions_of_numbers\n",
    "\n",
    "gives a new array of numbers that contains the result of multiplying each number in `billions_of_numbers` by .18.  Arrays are not limited to numbers; we can also put all the words in a book into an array of strings.\n",
    "\n",
    "Concretely, an array is a **collection of values of the same type**. "
   ]
  },
  {
   "cell_type": "markdown",
   "metadata": {},
   "source": [
    "## 5.1. Making arrays\n",
    "\n",
    "First, let's learn how to manually input values into an array. This typically isn't how programs work. Normally, we create arrays by loading them from an external source, like a data file.\n",
    "\n",
    "To create an array by hand, call the function `make_array`.  Each argument you pass to `make_array` will be in the array it returns.  Run this cell to see an example:"
   ]
  },
  {
   "cell_type": "code",
   "execution_count": 45,
   "metadata": {
    "scrolled": true
   },
   "outputs": [
    {
     "data": {
      "text/plain": [
       "array([ 0.125,  4.75 , -1.3  ])"
      ]
     },
     "execution_count": 45,
     "metadata": {},
     "output_type": "execute_result"
    }
   ],
   "source": [
    "make_array(0.125, 4.75, -1.3)"
   ]
  },
  {
   "cell_type": "markdown",
   "metadata": {},
   "source": [
    "Each value in an array (in the above case, the numbers 0.125, 4.75, and -1.3) is called an *element* of that array.\n",
    "\n",
    "Arrays themselves are also values, just like numbers and strings.  That means you can assign them to names or use them as arguments to functions. For example, `len(<some_array>)` returns the number of elements in `some_array`."
   ]
  },
  {
   "cell_type": "markdown",
   "metadata": {},
   "source": [
    "**Question 5.1.1.** Make an array containing the numbers 0, 1, -1, $\\pi$, and $e$, in that order.  Name it `interesting_numbers`.  \n",
    "\n",
    "*Hint:* How did you get the values $\\pi$ and $e$ earlier in this lab?\n",
    "\n",
    "<!--\n",
    "BEGIN QUESTION\n",
    "name: q511\n",
    "-->"
   ]
  },
  {
   "cell_type": "code",
   "execution_count": 46,
   "metadata": {},
   "outputs": [
    {
     "data": {
      "text/plain": [
       "array([ 0.        ,  1.        , -1.        ,  3.14159265,  2.71828183])"
      ]
     },
     "execution_count": 46,
     "metadata": {},
     "output_type": "execute_result"
    }
   ],
   "source": [
    "interesting_numbers = make_array(0, 1, -1, math.pi, math.e)\n",
    "interesting_numbers"
   ]
  },
  {
   "cell_type": "markdown",
   "metadata": {},
   "source": [
    "**Question 5.1.2.** Make an array containing the five strings `\"Hello\"`, `\",\"`, `\" \"`, `\"world\"`, and `\"!\"`.  (The third one is a single space inside quotes.)  Name it `hello_world_components`.\n",
    "\n",
    "*Note:* If you evaluate `hello_world_components`, you'll notice some extra information in addition to its contents: `dtype='<U5'`.  That's just NumPy's extremely cryptic way of saying that the data types in the array are strings.\n",
    "\n",
    "<!--\n",
    "BEGIN QUESTION\n",
    "name: q512\n",
    "-->"
   ]
  },
  {
   "cell_type": "code",
   "execution_count": 47,
   "metadata": {},
   "outputs": [
    {
     "data": {
      "text/plain": [
       "array(['Hello', ',', ' ', 'world', '!'], dtype='<U5')"
      ]
     },
     "execution_count": 47,
     "metadata": {},
     "output_type": "execute_result"
    }
   ],
   "source": [
    "hello_world_components = make_array(\"Hello\", \",\", \" \", \"world\", \"!\")\n",
    "hello_world_components"
   ]
  },
  {
   "cell_type": "markdown",
   "metadata": {},
   "source": [
    "###  `np.arange`\n",
    "Arrays are provided by a package called [NumPy](http://www.numpy.org/) (pronounced \"NUM-pie\"). The package is called `numpy`, but it's standard to rename it `np` for brevity.  You can do that with:\n",
    "\n",
    "    import numpy as np\n",
    "\n",
    "Very often in data science, we want to work with many numbers that are evenly spaced within some range.  NumPy provides a special function for this called `arange`.  The line of code `np.arange(start, stop, step)` evaluates to an array with all the numbers starting at `start` and counting up by `step`, stopping **before** `stop` is reached.\n",
    "\n",
    "Run the following cells to see some examples!"
   ]
  },
  {
   "cell_type": "code",
   "execution_count": 48,
   "metadata": {},
   "outputs": [
    {
     "data": {
      "text/plain": [
       "array([1, 3, 5])"
      ]
     },
     "execution_count": 48,
     "metadata": {},
     "output_type": "execute_result"
    }
   ],
   "source": [
    "# This array starts at 1 and counts up by 2\n",
    "# and then stops before 6\n",
    "np.arange(1, 6, 2)"
   ]
  },
  {
   "cell_type": "code",
   "execution_count": 49,
   "metadata": {},
   "outputs": [
    {
     "data": {
      "text/plain": [
       "array([4, 5, 6, 7, 8])"
      ]
     },
     "execution_count": 49,
     "metadata": {},
     "output_type": "execute_result"
    }
   ],
   "source": [
    "# This array doesn't contain 9\n",
    "# because np.arange stops *before* the stop value is reached\n",
    "np.arange(4, 9, 1)"
   ]
  },
  {
   "cell_type": "markdown",
   "metadata": {},
   "source": [
    "**Question 5.1.3.** Import `numpy` as `np` and then use `np.arange` to create an array with the multiples of 99 from 0 up to (**and including**) 9999.  (So its elements are 0, 99, 198, 297, etc.)\n",
    "\n",
    "<!--\n",
    "BEGIN QUESTION\n",
    "name: q513\n",
    "-->"
   ]
  },
  {
   "cell_type": "code",
   "execution_count": 50,
   "metadata": {},
   "outputs": [
    {
     "data": {
      "text/plain": [
       "array([   0,   99,  198,  297,  396,  495,  594,  693,  792,  891,  990,\n",
       "       1089, 1188, 1287, 1386, 1485, 1584, 1683, 1782, 1881, 1980, 2079,\n",
       "       2178, 2277, 2376, 2475, 2574, 2673, 2772, 2871, 2970, 3069, 3168,\n",
       "       3267, 3366, 3465, 3564, 3663, 3762, 3861, 3960, 4059, 4158, 4257,\n",
       "       4356, 4455, 4554, 4653, 4752, 4851, 4950, 5049, 5148, 5247, 5346,\n",
       "       5445, 5544, 5643, 5742, 5841, 5940, 6039, 6138, 6237, 6336, 6435,\n",
       "       6534, 6633, 6732, 6831, 6930, 7029, 7128, 7227, 7326, 7425, 7524,\n",
       "       7623, 7722, 7821, 7920, 8019, 8118, 8217, 8316, 8415, 8514, 8613,\n",
       "       8712, 8811, 8910, 9009, 9108, 9207, 9306, 9405, 9504, 9603, 9702,\n",
       "       9801, 9900, 9999])"
      ]
     },
     "execution_count": 50,
     "metadata": {},
     "output_type": "execute_result"
    }
   ],
   "source": [
    "import numpy as np\n",
    "multiples_of_99 = np.arange(0, 10000, 99)\n",
    "multiples_of_99"
   ]
  },
  {
   "cell_type": "markdown",
   "metadata": {},
   "source": [
    "##### Temperature readings\n",
    "NOAA (the US National Oceanic and Atmospheric Administration) operates weather stations that measure surface temperatures at different sites around the United States.  The hourly readings are [publicly available](http://www.ncdc.noaa.gov/qclcd/QCLCD?prior=N).\n",
    "\n",
    "Suppose we download all the hourly data from the Raleigh-Durham International Airport site for the month of August 2021.  To analyze the data, we want to know when each reading was taken, but we find that the data don't include the timestamps of the readings (the time at which each one was taken).\n",
    "\n",
    "However, we know the first reading was taken at the first instant of August 2021 (midnight on August 1st) and each subsequent reading was taken exactly 1 hour after the last.\n",
    "\n",
    "**Question 5.1.4.** Create an array of the *time, in seconds, since the start of the month* at which each hourly reading was taken.  Name it `collection_times`.\n",
    "\n",
    "*Hint 1:* There are 31 days in August, which is equivalent to ($31 \\times 24$) hours or ($31 \\times 24 \\times 60 \\times 60$) seconds.  So your array should have $31 \\times 24$ elements in it.\n",
    "\n",
    "*Hint 2:* The `len` function works on arrays, too! You can check that the length of your array is $31 \\times 24$ elements.\n",
    "\n",
    "<!--\n",
    "BEGIN QUESTION\n",
    "name: q214\n",
    "-->"
   ]
  },
  {
   "cell_type": "code",
   "execution_count": 55,
   "metadata": {},
   "outputs": [
    {
     "data": {
      "text/plain": [
       "array([      0,    3600,    7200,   10800,   14400,   18000,   21600,\n",
       "         25200,   28800,   32400,   36000,   39600,   43200,   46800,\n",
       "         50400,   54000,   57600,   61200,   64800,   68400,   72000,\n",
       "         75600,   79200,   82800,   86400,   90000,   93600,   97200,\n",
       "        100800,  104400,  108000,  111600,  115200,  118800,  122400,\n",
       "        126000,  129600,  133200,  136800,  140400,  144000,  147600,\n",
       "        151200,  154800,  158400,  162000,  165600,  169200,  172800,\n",
       "        176400,  180000,  183600,  187200,  190800,  194400,  198000,\n",
       "        201600,  205200,  208800,  212400,  216000,  219600,  223200,\n",
       "        226800,  230400,  234000,  237600,  241200,  244800,  248400,\n",
       "        252000,  255600,  259200,  262800,  266400,  270000,  273600,\n",
       "        277200,  280800,  284400,  288000,  291600,  295200,  298800,\n",
       "        302400,  306000,  309600,  313200,  316800,  320400,  324000,\n",
       "        327600,  331200,  334800,  338400,  342000,  345600,  349200,\n",
       "        352800,  356400,  360000,  363600,  367200,  370800,  374400,\n",
       "        378000,  381600,  385200,  388800,  392400,  396000,  399600,\n",
       "        403200,  406800,  410400,  414000,  417600,  421200,  424800,\n",
       "        428400,  432000,  435600,  439200,  442800,  446400,  450000,\n",
       "        453600,  457200,  460800,  464400,  468000,  471600,  475200,\n",
       "        478800,  482400,  486000,  489600,  493200,  496800,  500400,\n",
       "        504000,  507600,  511200,  514800,  518400,  522000,  525600,\n",
       "        529200,  532800,  536400,  540000,  543600,  547200,  550800,\n",
       "        554400,  558000,  561600,  565200,  568800,  572400,  576000,\n",
       "        579600,  583200,  586800,  590400,  594000,  597600,  601200,\n",
       "        604800,  608400,  612000,  615600,  619200,  622800,  626400,\n",
       "        630000,  633600,  637200,  640800,  644400,  648000,  651600,\n",
       "        655200,  658800,  662400,  666000,  669600,  673200,  676800,\n",
       "        680400,  684000,  687600,  691200,  694800,  698400,  702000,\n",
       "        705600,  709200,  712800,  716400,  720000,  723600,  727200,\n",
       "        730800,  734400,  738000,  741600,  745200,  748800,  752400,\n",
       "        756000,  759600,  763200,  766800,  770400,  774000,  777600,\n",
       "        781200,  784800,  788400,  792000,  795600,  799200,  802800,\n",
       "        806400,  810000,  813600,  817200,  820800,  824400,  828000,\n",
       "        831600,  835200,  838800,  842400,  846000,  849600,  853200,\n",
       "        856800,  860400,  864000,  867600,  871200,  874800,  878400,\n",
       "        882000,  885600,  889200,  892800,  896400,  900000,  903600,\n",
       "        907200,  910800,  914400,  918000,  921600,  925200,  928800,\n",
       "        932400,  936000,  939600,  943200,  946800,  950400,  954000,\n",
       "        957600,  961200,  964800,  968400,  972000,  975600,  979200,\n",
       "        982800,  986400,  990000,  993600,  997200, 1000800, 1004400,\n",
       "       1008000, 1011600, 1015200, 1018800, 1022400, 1026000, 1029600,\n",
       "       1033200, 1036800, 1040400, 1044000, 1047600, 1051200, 1054800,\n",
       "       1058400, 1062000, 1065600, 1069200, 1072800, 1076400, 1080000,\n",
       "       1083600, 1087200, 1090800, 1094400, 1098000, 1101600, 1105200,\n",
       "       1108800, 1112400, 1116000, 1119600, 1123200, 1126800, 1130400,\n",
       "       1134000, 1137600, 1141200, 1144800, 1148400, 1152000, 1155600,\n",
       "       1159200, 1162800, 1166400, 1170000, 1173600, 1177200, 1180800,\n",
       "       1184400, 1188000, 1191600, 1195200, 1198800, 1202400, 1206000,\n",
       "       1209600, 1213200, 1216800, 1220400, 1224000, 1227600, 1231200,\n",
       "       1234800, 1238400, 1242000, 1245600, 1249200, 1252800, 1256400,\n",
       "       1260000, 1263600, 1267200, 1270800, 1274400, 1278000, 1281600,\n",
       "       1285200, 1288800, 1292400, 1296000, 1299600, 1303200, 1306800,\n",
       "       1310400, 1314000, 1317600, 1321200, 1324800, 1328400, 1332000,\n",
       "       1335600, 1339200, 1342800, 1346400, 1350000, 1353600, 1357200,\n",
       "       1360800, 1364400, 1368000, 1371600, 1375200, 1378800, 1382400,\n",
       "       1386000, 1389600, 1393200, 1396800, 1400400, 1404000, 1407600,\n",
       "       1411200, 1414800, 1418400, 1422000, 1425600, 1429200, 1432800,\n",
       "       1436400, 1440000, 1443600, 1447200, 1450800, 1454400, 1458000,\n",
       "       1461600, 1465200, 1468800, 1472400, 1476000, 1479600, 1483200,\n",
       "       1486800, 1490400, 1494000, 1497600, 1501200, 1504800, 1508400,\n",
       "       1512000, 1515600, 1519200, 1522800, 1526400, 1530000, 1533600,\n",
       "       1537200, 1540800, 1544400, 1548000, 1551600, 1555200, 1558800,\n",
       "       1562400, 1566000, 1569600, 1573200, 1576800, 1580400, 1584000,\n",
       "       1587600, 1591200, 1594800, 1598400, 1602000, 1605600, 1609200,\n",
       "       1612800, 1616400, 1620000, 1623600, 1627200, 1630800, 1634400,\n",
       "       1638000, 1641600, 1645200, 1648800, 1652400, 1656000, 1659600,\n",
       "       1663200, 1666800, 1670400, 1674000, 1677600, 1681200, 1684800,\n",
       "       1688400, 1692000, 1695600, 1699200, 1702800, 1706400, 1710000,\n",
       "       1713600, 1717200, 1720800, 1724400, 1728000, 1731600, 1735200,\n",
       "       1738800, 1742400, 1746000, 1749600, 1753200, 1756800, 1760400,\n",
       "       1764000, 1767600, 1771200, 1774800, 1778400, 1782000, 1785600,\n",
       "       1789200, 1792800, 1796400, 1800000, 1803600, 1807200, 1810800,\n",
       "       1814400, 1818000, 1821600, 1825200, 1828800, 1832400, 1836000,\n",
       "       1839600, 1843200, 1846800, 1850400, 1854000, 1857600, 1861200,\n",
       "       1864800, 1868400, 1872000, 1875600, 1879200, 1882800, 1886400,\n",
       "       1890000, 1893600, 1897200, 1900800, 1904400, 1908000, 1911600,\n",
       "       1915200, 1918800, 1922400, 1926000, 1929600, 1933200, 1936800,\n",
       "       1940400, 1944000, 1947600, 1951200, 1954800, 1958400, 1962000,\n",
       "       1965600, 1969200, 1972800, 1976400, 1980000, 1983600, 1987200,\n",
       "       1990800, 1994400, 1998000, 2001600, 2005200, 2008800, 2012400,\n",
       "       2016000, 2019600, 2023200, 2026800, 2030400, 2034000, 2037600,\n",
       "       2041200, 2044800, 2048400, 2052000, 2055600, 2059200, 2062800,\n",
       "       2066400, 2070000, 2073600, 2077200, 2080800, 2084400, 2088000,\n",
       "       2091600, 2095200, 2098800, 2102400, 2106000, 2109600, 2113200,\n",
       "       2116800, 2120400, 2124000, 2127600, 2131200, 2134800, 2138400,\n",
       "       2142000, 2145600, 2149200, 2152800, 2156400, 2160000, 2163600,\n",
       "       2167200, 2170800, 2174400, 2178000, 2181600, 2185200, 2188800,\n",
       "       2192400, 2196000, 2199600, 2203200, 2206800, 2210400, 2214000,\n",
       "       2217600, 2221200, 2224800, 2228400, 2232000, 2235600, 2239200,\n",
       "       2242800, 2246400, 2250000, 2253600, 2257200, 2260800, 2264400,\n",
       "       2268000, 2271600, 2275200, 2278800, 2282400, 2286000, 2289600,\n",
       "       2293200, 2296800, 2300400, 2304000, 2307600, 2311200, 2314800,\n",
       "       2318400, 2322000, 2325600, 2329200, 2332800, 2336400, 2340000,\n",
       "       2343600, 2347200, 2350800, 2354400, 2358000, 2361600, 2365200,\n",
       "       2368800, 2372400, 2376000, 2379600, 2383200, 2386800, 2390400,\n",
       "       2394000, 2397600, 2401200, 2404800, 2408400, 2412000, 2415600,\n",
       "       2419200, 2422800, 2426400, 2430000, 2433600, 2437200, 2440800,\n",
       "       2444400, 2448000, 2451600, 2455200, 2458800, 2462400, 2466000,\n",
       "       2469600, 2473200, 2476800, 2480400, 2484000, 2487600, 2491200,\n",
       "       2494800, 2498400, 2502000, 2505600, 2509200, 2512800, 2516400,\n",
       "       2520000, 2523600, 2527200, 2530800, 2534400, 2538000, 2541600,\n",
       "       2545200, 2548800, 2552400, 2556000, 2559600, 2563200, 2566800,\n",
       "       2570400, 2574000, 2577600, 2581200, 2584800, 2588400, 2592000,\n",
       "       2595600, 2599200, 2602800, 2606400, 2610000, 2613600, 2617200,\n",
       "       2620800, 2624400, 2628000, 2631600, 2635200, 2638800, 2642400,\n",
       "       2646000, 2649600, 2653200, 2656800, 2660400, 2664000, 2667600,\n",
       "       2671200, 2674800])"
      ]
     },
     "execution_count": 55,
     "metadata": {},
     "output_type": "execute_result"
    }
   ],
   "source": [
    "collection_times = np.arange(0, 2678400, 3600)\n",
    "collection_times"
   ]
  },
  {
   "cell_type": "markdown",
   "metadata": {},
   "source": [
    "## 5.2. Working with single elements of arrays (\"indexing\")\n",
    "Let's work with a more interesting dataset.  The next cell creates an array called `population_amounts` that includes estimated world populations in every year from **1950** to roughly the present.  (The estimates come from the US Census Bureau website.)\n",
    "\n",
    "Rather than type in the data manually, we've loaded them from a file on your computer called `world_population.csv`.  You'll learn how to do that later in this lab!"
   ]
  },
  {
   "cell_type": "code",
   "execution_count": 56,
   "metadata": {},
   "outputs": [
    {
     "data": {
      "text/plain": [
       "array([2557628654, 2594939877, 2636772306, 2682053389, 2730228104,\n",
       "       2782098943, 2835299673, 2891349717, 2948137248, 3000716593,\n",
       "       3043001508, 3083966929, 3140093217, 3209827882, 3281201306,\n",
       "       3350425793, 3420677923, 3490333715, 3562313822, 3637159050,\n",
       "       3712697742, 3790326948, 3866568653, 3942096442, 4016608813,\n",
       "       4089083233, 4160185010, 4232084578, 4304105753, 4379013942,\n",
       "       4451362735, 4534410125, 4614566561, 4695736743, 4774569391,\n",
       "       4856462699, 4940571232, 5027200492, 5114557167, 5201440110,\n",
       "       5288955934, 5371585922, 5456136278, 5538268316, 5618682132,\n",
       "       5699202985, 5779440593, 5857972543, 5935213248, 6012074922,\n",
       "       6088571383, 6165219247, 6242016348, 6318590956, 6395699509,\n",
       "       6473044732, 6551263534, 6629913759, 6709049780, 6788214394,\n",
       "       6866332358, 6944055583, 7022349283, 7101027895, 7178722893,\n",
       "       7256490011])"
      ]
     },
     "execution_count": 56,
     "metadata": {},
     "output_type": "execute_result"
    }
   ],
   "source": [
    "population_amounts = Table.read_table(\"world_population.csv\").column(\"Population\")\n",
    "population_amounts"
   ]
  },
  {
   "cell_type": "markdown",
   "metadata": {},
   "source": [
    "Here's how we get the first element of `population_amounts`, which is the world population in the first year in the dataset, 1950."
   ]
  },
  {
   "cell_type": "code",
   "execution_count": 57,
   "metadata": {},
   "outputs": [
    {
     "data": {
      "text/plain": [
       "2557628654"
      ]
     },
     "execution_count": 57,
     "metadata": {},
     "output_type": "execute_result"
    }
   ],
   "source": [
    "population_amounts.item(0)"
   ]
  },
  {
   "cell_type": "markdown",
   "metadata": {},
   "source": [
    "The value of that expression is the number 2557628654 (around 2.5 billion), because that's the first thing in the array `population_amounts`.\n",
    "\n",
    "Notice that we wrote `.item(0)`, not `.item(1)`, to get the first element.  This is a weird convention in computer science.  0 is called the *index* of the first item.  It's the number of elements that appear *before* that item.  So 3 is the index of the 4th item.\n",
    "\n",
    "Here are some more examples.  In the examples, we've given names to the things we get out of `population_amounts`.  Read and run each cell."
   ]
  },
  {
   "cell_type": "code",
   "execution_count": 58,
   "metadata": {},
   "outputs": [
    {
     "data": {
      "text/plain": [
       "3140093217"
      ]
     },
     "execution_count": 58,
     "metadata": {},
     "output_type": "execute_result"
    }
   ],
   "source": [
    "# The 13th element in the array is the population\n",
    "# in 1962 (which is 1950 + 12).\n",
    "population_1962 = population_amounts.item(12)\n",
    "population_1962"
   ]
  },
  {
   "cell_type": "code",
   "execution_count": 59,
   "metadata": {},
   "outputs": [
    {
     "data": {
      "text/plain": [
       "7256490011"
      ]
     },
     "execution_count": 59,
     "metadata": {},
     "output_type": "execute_result"
    }
   ],
   "source": [
    "# The 66th element is the population in 2015.\n",
    "population_2015 = population_amounts.item(65)\n",
    "population_2015"
   ]
  },
  {
   "cell_type": "code",
   "execution_count": 60,
   "metadata": {},
   "outputs": [
    {
     "ename": "IndexError",
     "evalue": "index 66 is out of bounds for axis 0 with size 66",
     "output_type": "error",
     "traceback": [
      "\u001b[0;31m---------------------------------------------------------------------------\u001b[0m",
      "\u001b[0;31mIndexError\u001b[0m                                Traceback (most recent call last)",
      "\u001b[0;32m<ipython-input-60-20d13c231c2b>\u001b[0m in \u001b[0;36m<module>\u001b[0;34m\u001b[0m\n\u001b[1;32m      1\u001b[0m \u001b[0;31m# The array has only 66 elements, so this doesn't work.\u001b[0m\u001b[0;34m\u001b[0m\u001b[0;34m\u001b[0m\u001b[0;34m\u001b[0m\u001b[0m\n\u001b[1;32m      2\u001b[0m \u001b[0;31m# (There's no element with 66 other elements before it.)\u001b[0m\u001b[0;34m\u001b[0m\u001b[0;34m\u001b[0m\u001b[0;34m\u001b[0m\u001b[0m\n\u001b[0;32m----> 3\u001b[0;31m \u001b[0mpopulation_2016\u001b[0m \u001b[0;34m=\u001b[0m \u001b[0mpopulation_amounts\u001b[0m\u001b[0;34m.\u001b[0m\u001b[0mitem\u001b[0m\u001b[0;34m(\u001b[0m\u001b[0;36m66\u001b[0m\u001b[0;34m)\u001b[0m\u001b[0;34m\u001b[0m\u001b[0;34m\u001b[0m\u001b[0m\n\u001b[0m\u001b[1;32m      4\u001b[0m \u001b[0mpopulation_2016\u001b[0m\u001b[0;34m\u001b[0m\u001b[0;34m\u001b[0m\u001b[0m\n",
      "\u001b[0;31mIndexError\u001b[0m: index 66 is out of bounds for axis 0 with size 66"
     ]
    }
   ],
   "source": [
    "# The array has only 66 elements, so this doesn't work.\n",
    "# (There's no element with 66 other elements before it.)\n",
    "population_2016 = population_amounts.item(66)\n",
    "population_2016"
   ]
  },
  {
   "cell_type": "markdown",
   "metadata": {},
   "source": [
    "Since `make_array` returns an array, we can call `.item(3)` on its output to get its 4th element, just like we \"chained\" together calls to the method `replace` earlier."
   ]
  },
  {
   "cell_type": "code",
   "execution_count": 61,
   "metadata": {},
   "outputs": [
    {
     "data": {
      "text/plain": [
       "-2"
      ]
     },
     "execution_count": 61,
     "metadata": {},
     "output_type": "execute_result"
    }
   ],
   "source": [
    "make_array(-1, -3, 4, -2).item(3)"
   ]
  },
  {
   "cell_type": "markdown",
   "metadata": {},
   "source": [
    "**Question 5.2.1.** Set `population_1982` to the world population in 1982, by getting the appropriate element from `population_amounts` using `item`.\n",
    "\n",
    "<!--\n",
    "BEGIN QUESTION\n",
    "name: q521\n",
    "-->"
   ]
  },
  {
   "cell_type": "code",
   "execution_count": 63,
   "metadata": {},
   "outputs": [
    {
     "data": {
      "text/plain": [
       "4614566561"
      ]
     },
     "execution_count": 63,
     "metadata": {},
     "output_type": "execute_result"
    }
   ],
   "source": [
    "population_1982 = population_amounts.item(32)\n",
    "population_1982"
   ]
  },
  {
   "cell_type": "markdown",
   "metadata": {},
   "source": [
    "## 5.3. Doing something to every element of an array\n",
    "Arrays are primarily useful for doing the same operation many times, so we don't often have to use `.item` and work with single elements.\n",
    "\n",
    "##### Logarithms\n",
    "Here is one simple question we might ask about world population:\n",
    "\n",
    "> How big was the population in *orders of magnitude* in each year?\n",
    "\n",
    "Orders of magnitude quantify how big a number is by representing it as the power of another number (for example, representing 104 as $10^{2.017033}$). One way to do this is by using the logarithm function. The logarithm (base 10) of a number increases by 1 every time we multiply the number by 10. It's like a measure of how many decimal digits the number has, or how big it is in orders of magnitude.\n",
    "\n",
    "We could try to answer our question like this, using the `log10` function from the `math` module and the `item` method you just saw:"
   ]
  },
  {
   "cell_type": "code",
   "execution_count": 65,
   "metadata": {
    "scrolled": true
   },
   "outputs": [],
   "source": [
    "population_1950_magnitude = math.log10(population_amounts.item(0))\n",
    "population_1951_magnitude = math.log10(population_amounts.item(1))\n",
    "population_1952_magnitude = math.log10(population_amounts.item(2))\n",
    "population_1953_magnitude = math.log10(population_amounts.item(3))"
   ]
  },
  {
   "cell_type": "markdown",
   "metadata": {},
   "source": [
    "But this is tedious and doesn't really take advantage of the fact that we are using a computer.\n",
    "\n",
    "Instead, NumPy provides its own version of `log10` that takes the logarithm of each element of an array.  It takes a single array of numbers as its argument.  It returns an array of the same length, where the first element of the result is the logarithm of the first element of the argument, and so on.\n",
    "\n",
    "**Question 5.3.1.** Use `np.log10` to compute the logarithms of the world population in every year.  Give the result (an array of 66 numbers) the name `population_magnitudes`.  Your code should be very short.\n",
    "\n",
    "<!--\n",
    "BEGIN QUESTION\n",
    "name: q531\n",
    "-->"
   ]
  },
  {
   "cell_type": "code",
   "execution_count": 66,
   "metadata": {},
   "outputs": [
    {
     "data": {
      "text/plain": [
       "array([9.40783749, 9.4141273 , 9.42107263, 9.42846742, 9.43619893,\n",
       "       9.44437257, 9.45259897, 9.46110062, 9.4695477 , 9.47722498,\n",
       "       9.48330217, 9.48910971, 9.49694254, 9.50648175, 9.51603288,\n",
       "       9.5251    , 9.53411218, 9.54286695, 9.55173218, 9.56076229,\n",
       "       9.56968959, 9.57867667, 9.58732573, 9.59572724, 9.60385954,\n",
       "       9.61162595, 9.61911264, 9.62655434, 9.63388293, 9.64137633,\n",
       "       9.64849299, 9.6565208 , 9.66413091, 9.67170374, 9.67893421,\n",
       "       9.68632006, 9.69377717, 9.70132621, 9.70880804, 9.7161236 ,\n",
       "       9.72336995, 9.73010253, 9.73688521, 9.74337399, 9.74963446,\n",
       "       9.75581413, 9.7618858 , 9.76774733, 9.77343633, 9.77902438,\n",
       "       9.7845154 , 9.78994853, 9.7953249 , 9.80062024, 9.80588805,\n",
       "       9.81110861, 9.81632507, 9.82150788, 9.82666101, 9.83175555,\n",
       "       9.83672482, 9.84161319, 9.84648243, 9.85132122, 9.85604719,\n",
       "       9.8607266 ])"
      ]
     },
     "execution_count": 66,
     "metadata": {},
     "output_type": "execute_result"
    }
   ],
   "source": [
    "population_magnitudes = np.log10(population_amounts)\n",
    "population_magnitudes"
   ]
  },
  {
   "cell_type": "markdown",
   "metadata": {},
   "source": [
    "What you just did is called *elementwise* application of `np.log10`, since `np.log10` operates separately on each element of the array that it's called on. Here's a picture of what's going on:"
   ]
  },
  {
   "cell_type": "markdown",
   "metadata": {},
   "source": [
    "<img src=\"lab02-array_logarithm.jpg\">\n",
    "\n",
    "\n",
    "The textbook's [section](https://www.inferentialthinking.com/chapters/05/1/Arrays)  on arrays has a useful list of NumPy functions that are designed to work elementwise, like `np.log10`."
   ]
  },
  {
   "cell_type": "markdown",
   "metadata": {},
   "source": [
    "##### Arithmetic\n",
    "Arithmetic also works elementwise on arrays, meaning that if you perform an arithmetic operation (like subtraction, division, etc) on an array, Python will do the operation to every element of the array individually and return an array of all of the results. For example, you can divide all the population numbers by 1 billion to get numbers in billions:"
   ]
  },
  {
   "cell_type": "code",
   "execution_count": 67,
   "metadata": {},
   "outputs": [
    {
     "data": {
      "text/plain": [
       "array([2.55762865, 2.59493988, 2.63677231, 2.68205339, 2.7302281 ,\n",
       "       2.78209894, 2.83529967, 2.89134972, 2.94813725, 3.00071659,\n",
       "       3.04300151, 3.08396693, 3.14009322, 3.20982788, 3.28120131,\n",
       "       3.35042579, 3.42067792, 3.49033371, 3.56231382, 3.63715905,\n",
       "       3.71269774, 3.79032695, 3.86656865, 3.94209644, 4.01660881,\n",
       "       4.08908323, 4.16018501, 4.23208458, 4.30410575, 4.37901394,\n",
       "       4.45136274, 4.53441012, 4.61456656, 4.69573674, 4.77456939,\n",
       "       4.8564627 , 4.94057123, 5.02720049, 5.11455717, 5.20144011,\n",
       "       5.28895593, 5.37158592, 5.45613628, 5.53826832, 5.61868213,\n",
       "       5.69920299, 5.77944059, 5.85797254, 5.93521325, 6.01207492,\n",
       "       6.08857138, 6.16521925, 6.24201635, 6.31859096, 6.39569951,\n",
       "       6.47304473, 6.55126353, 6.62991376, 6.70904978, 6.78821439,\n",
       "       6.86633236, 6.94405558, 7.02234928, 7.10102789, 7.17872289,\n",
       "       7.25649001])"
      ]
     },
     "execution_count": 67,
     "metadata": {},
     "output_type": "execute_result"
    }
   ],
   "source": [
    "population_in_billions = population_amounts / 1000000000\n",
    "population_in_billions"
   ]
  },
  {
   "cell_type": "markdown",
   "metadata": {},
   "source": [
    "You can do the same with addition, subtraction, multiplication, and exponentiation (`**`). For example, you can calculate a tip on several restaurant bills at once (in this case just 3):"
   ]
  },
  {
   "cell_type": "code",
   "execution_count": 68,
   "metadata": {},
   "outputs": [
    {
     "name": "stdout",
     "output_type": "stream",
     "text": [
      "Restaurant bills:\t [20.12 39.9  31.01]\n",
      "Tips:\t\t\t [4.024 7.98  6.202]\n"
     ]
    }
   ],
   "source": [
    "restaurant_bills = make_array(20.12, 39.90, 31.01)\n",
    "print(\"Restaurant bills:\\t\", restaurant_bills)\n",
    "\n",
    "# Array multiplication\n",
    "tips = .2 * restaurant_bills\n",
    "print(\"Tips:\\t\\t\\t\", tips)"
   ]
  },
  {
   "cell_type": "markdown",
   "metadata": {},
   "source": [
    "<img src=\"lab02-array_multiplication.jpg\">\n",
    "\n",
    "**Question 5.3.2.** Suppose the total charge at a restaurant is the original bill plus the tip. If the tip is 20%, that means we can multiply the original bill by 1.2 to get the total charge.  Compute the total charge for each bill in `restaurant_bills`, and assign the resulting array to `total_charges`.\n",
    "\n",
    "<!--\n",
    "BEGIN QUESTION\n",
    "name: q532\n",
    "-->"
   ]
  },
  {
   "cell_type": "code",
   "execution_count": 71,
   "metadata": {},
   "outputs": [
    {
     "data": {
      "text/plain": [
       "array([24.144, 47.88 , 37.212])"
      ]
     },
     "execution_count": 71,
     "metadata": {},
     "output_type": "execute_result"
    }
   ],
   "source": [
    "total_charges = restaurant_bills * 1.2\n",
    "total_charges"
   ]
  },
  {
   "cell_type": "markdown",
   "metadata": {},
   "source": [
    "**Question 5.3.3.** The array `more_restaurant_bills` contains 100,000 bills!  Compute the total charge for each one.  How is your code different?\n",
    "\n",
    "<!--\n",
    "BEGIN QUESTION\n",
    "name: q533\n",
    "-->"
   ]
  },
  {
   "cell_type": "code",
   "execution_count": 72,
   "metadata": {},
   "outputs": [
    {
     "data": {
      "text/plain": [
       "array([20.244, 20.892, 12.216, ..., 19.308, 18.336, 35.664])"
      ]
     },
     "execution_count": 72,
     "metadata": {},
     "output_type": "execute_result"
    }
   ],
   "source": [
    "more_restaurant_bills = Table.read_table(\"more_restaurant_bills.csv\").column(\"Bill\")\n",
    "more_total_charges = more_restaurant_bills * 1.2\n",
    "more_total_charges"
   ]
  },
  {
   "cell_type": "markdown",
   "metadata": {},
   "source": [
    "The function `sum` takes a single array of numbers as its argument.  It returns the sum of all the numbers in that array (so it returns a single number, not an array).\n",
    "\n",
    "**Question 5.3.4.** What was the sum of all the bills in `more_restaurant_bills`, *including tips*?\n",
    "\n",
    "<!--\n",
    "BEGIN QUESTION\n",
    "name: q534\n",
    "-->"
   ]
  },
  {
   "cell_type": "code",
   "execution_count": 74,
   "metadata": {},
   "outputs": [
    {
     "data": {
      "text/plain": [
       "1795730.0640000193"
      ]
     },
     "execution_count": 74,
     "metadata": {},
     "output_type": "execute_result"
    }
   ],
   "source": [
    "sum_of_bills = sum(more_total_charges)\n",
    "sum_of_bills"
   ]
  },
  {
   "cell_type": "markdown",
   "metadata": {},
   "source": [
    "## 6. Creating Tables\n",
    "\n",
    "An array is useful for describing a single attribute of each element in a collection. For example, let's say our collection is all US States. Then an array could describe the land area of each state. \n",
    "\n",
    "Tables extend this idea by containing multiple arrays, each one describing a different attribute for every element of a collection. In this way, tables allow us to not only store data about many entities but to also contain several kinds of data about each entity.\n",
    "\n",
    "For example, in the cell below we have two arrays. The first one, `population_amounts`, was defined above in section 2.2 and contains the world population in each year (estimated by the US Census Bureau). The second array, `years`, contains the years themselves. These elements are in order, so the year and the world population for that year have the same index in their corresponding arrays."
   ]
  },
  {
   "cell_type": "code",
   "execution_count": 75,
   "metadata": {},
   "outputs": [
    {
     "name": "stdout",
     "output_type": "stream",
     "text": [
      "Population column: [2557628654 2594939877 2636772306 2682053389 2730228104 2782098943\n",
      " 2835299673 2891349717 2948137248 3000716593 3043001508 3083966929\n",
      " 3140093217 3209827882 3281201306 3350425793 3420677923 3490333715\n",
      " 3562313822 3637159050 3712697742 3790326948 3866568653 3942096442\n",
      " 4016608813 4089083233 4160185010 4232084578 4304105753 4379013942\n",
      " 4451362735 4534410125 4614566561 4695736743 4774569391 4856462699\n",
      " 4940571232 5027200492 5114557167 5201440110 5288955934 5371585922\n",
      " 5456136278 5538268316 5618682132 5699202985 5779440593 5857972543\n",
      " 5935213248 6012074922 6088571383 6165219247 6242016348 6318590956\n",
      " 6395699509 6473044732 6551263534 6629913759 6709049780 6788214394\n",
      " 6866332358 6944055583 7022349283 7101027895 7178722893 7256490011]\n",
      "Years column: [1950 1951 1952 1953 1954 1955 1956 1957 1958 1959 1960 1961 1962 1963\n",
      " 1964 1965 1966 1967 1968 1969 1970 1971 1972 1973 1974 1975 1976 1977\n",
      " 1978 1979 1980 1981 1982 1983 1984 1985 1986 1987 1988 1989 1990 1991\n",
      " 1992 1993 1994 1995 1996 1997 1998 1999 2000 2001 2002 2003 2004 2005\n",
      " 2006 2007 2008 2009 2010 2011 2012 2013 2014 2015]\n"
     ]
    }
   ],
   "source": [
    "# Just run this cell\n",
    "\n",
    "years = np.arange(1950, 2015+1)\n",
    "print(\"Population column:\", population_amounts)\n",
    "print(\"Years column:\", years)"
   ]
  },
  {
   "cell_type": "markdown",
   "metadata": {},
   "source": [
    "Suppose we want to answer this question:\n",
    "\n",
    "> In which year did the world's population cross 6 billion?\n",
    "\n",
    "You could technically answer this question just from staring at the arrays, but it's a bit convoluted, since you would have to count the position where the population first crossed 6 billion, then find the corresponding element in the years array. In cases like these, it might be easier to put the data into a *`Table`*, a 2-dimensional type of dataset. \n",
    "\n",
    "The expression below:\n",
    "\n",
    "- creates an empty table using the expression `Table()`,\n",
    "- adds two columns by calling `with_columns` with four arguments,\n",
    "- assigns the result to the name `population`, and finally\n",
    "- evaluates `population` so that we can see the table.\n",
    "\n",
    "The strings `\"Year\"` and `\"Population\"` are column labels that we have chosen. The names `population_amounts` and `years` were assigned above to two arrays of the **same length**. The function `with_columns` takes in alternating strings (to represent column labels) and arrays (representing the data in those columns). The strings and arrays are separated by commas."
   ]
  },
  {
   "cell_type": "code",
   "execution_count": 76,
   "metadata": {},
   "outputs": [
    {
     "data": {
      "text/html": [
       "<table border=\"1\" class=\"dataframe\">\n",
       "    <thead>\n",
       "        <tr>\n",
       "            <th>Population</th> <th>Year</th>\n",
       "        </tr>\n",
       "    </thead>\n",
       "    <tbody>\n",
       "        <tr>\n",
       "            <td>2557628654</td> <td>1950</td>\n",
       "        </tr>\n",
       "        <tr>\n",
       "            <td>2594939877</td> <td>1951</td>\n",
       "        </tr>\n",
       "        <tr>\n",
       "            <td>2636772306</td> <td>1952</td>\n",
       "        </tr>\n",
       "        <tr>\n",
       "            <td>2682053389</td> <td>1953</td>\n",
       "        </tr>\n",
       "        <tr>\n",
       "            <td>2730228104</td> <td>1954</td>\n",
       "        </tr>\n",
       "        <tr>\n",
       "            <td>2782098943</td> <td>1955</td>\n",
       "        </tr>\n",
       "        <tr>\n",
       "            <td>2835299673</td> <td>1956</td>\n",
       "        </tr>\n",
       "        <tr>\n",
       "            <td>2891349717</td> <td>1957</td>\n",
       "        </tr>\n",
       "        <tr>\n",
       "            <td>2948137248</td> <td>1958</td>\n",
       "        </tr>\n",
       "        <tr>\n",
       "            <td>3000716593</td> <td>1959</td>\n",
       "        </tr>\n",
       "    </tbody>\n",
       "</table>\n",
       "<p>... (56 rows omitted)</p>"
      ],
      "text/plain": [
       "Population | Year\n",
       "2557628654 | 1950\n",
       "2594939877 | 1951\n",
       "2636772306 | 1952\n",
       "2682053389 | 1953\n",
       "2730228104 | 1954\n",
       "2782098943 | 1955\n",
       "2835299673 | 1956\n",
       "2891349717 | 1957\n",
       "2948137248 | 1958\n",
       "3000716593 | 1959\n",
       "... (56 rows omitted)"
      ]
     },
     "execution_count": 76,
     "metadata": {},
     "output_type": "execute_result"
    }
   ],
   "source": [
    "population = Table().with_columns(\n",
    "    \"Population\", population_amounts,\n",
    "    \"Year\", years\n",
    ")\n",
    "population"
   ]
  },
  {
   "cell_type": "markdown",
   "metadata": {},
   "source": [
    "Now the data is combined into a single table! It's much easier to parse this data. If you need to know what the population was in 1959, for example, you can tell from a single glance."
   ]
  },
  {
   "cell_type": "markdown",
   "metadata": {},
   "source": [
    " **Question 6.1.** In the cell below, we've created 2 arrays. Using the steps above, assign `top_10_movies` to a table that has two columns called \"Rating\" and \"Name\", which hold `top_10_movie_ratings` and `top_10_movie_names` respectively.\n",
    "\n",
    "<!--\n",
    "BEGIN QUESTION\n",
    "name: q61\n",
    "-->"
   ]
  },
  {
   "cell_type": "code",
   "execution_count": 81,
   "metadata": {},
   "outputs": [
    {
     "data": {
      "text/html": [
       "<table border=\"1\" class=\"dataframe\">\n",
       "    <thead>\n",
       "        <tr>\n",
       "            <th>Name</th> <th>Rating</th>\n",
       "        </tr>\n",
       "    </thead>\n",
       "    <tbody>\n",
       "        <tr>\n",
       "            <td>The Shawshank Redemption (1994)                         </td> <td>9.2   </td>\n",
       "        </tr>\n",
       "        <tr>\n",
       "            <td>The Godfather (1972)                                    </td> <td>9.2   </td>\n",
       "        </tr>\n",
       "        <tr>\n",
       "            <td>The Godfather: Part II (1974)                           </td> <td>9     </td>\n",
       "        </tr>\n",
       "        <tr>\n",
       "            <td>Pulp Fiction (1994)                                     </td> <td>8.9   </td>\n",
       "        </tr>\n",
       "        <tr>\n",
       "            <td>Schindler's List (1993)                                 </td> <td>8.9   </td>\n",
       "        </tr>\n",
       "        <tr>\n",
       "            <td>The Lord of the Rings: The Return of the King (2003)    </td> <td>8.9   </td>\n",
       "        </tr>\n",
       "        <tr>\n",
       "            <td>12 Angry Men (1957)                                     </td> <td>8.9   </td>\n",
       "        </tr>\n",
       "        <tr>\n",
       "            <td>The Dark Knight (2008)                                  </td> <td>8.9   </td>\n",
       "        </tr>\n",
       "        <tr>\n",
       "            <td>Il buono, il brutto, il cattivo (1966)                  </td> <td>8.9   </td>\n",
       "        </tr>\n",
       "        <tr>\n",
       "            <td>The Lord of the Rings: The Fellowship of the Ring (2001)</td> <td>8.8   </td>\n",
       "        </tr>\n",
       "    </tbody>\n",
       "</table>"
      ],
      "text/plain": [
       "Name                                                     | Rating\n",
       "The Shawshank Redemption (1994)                          | 9.2\n",
       "The Godfather (1972)                                     | 9.2\n",
       "The Godfather: Part II (1974)                            | 9\n",
       "Pulp Fiction (1994)                                      | 8.9\n",
       "Schindler's List (1993)                                  | 8.9\n",
       "The Lord of the Rings: The Return of the King (2003)     | 8.9\n",
       "12 Angry Men (1957)                                      | 8.9\n",
       "The Dark Knight (2008)                                   | 8.9\n",
       "Il buono, il brutto, il cattivo (1966)                   | 8.9\n",
       "The Lord of the Rings: The Fellowship of the Ring (2001) | 8.8"
      ]
     },
     "execution_count": 81,
     "metadata": {},
     "output_type": "execute_result"
    }
   ],
   "source": [
    "top_10_movie_ratings = make_array(9.2, 9.2, 9., 8.9, 8.9, 8.9, 8.9, 8.9, 8.9, 8.8)\n",
    "top_10_movie_names = make_array(\n",
    "        'The Shawshank Redemption (1994)',\n",
    "        'The Godfather (1972)',\n",
    "        'The Godfather: Part II (1974)',\n",
    "        'Pulp Fiction (1994)',\n",
    "        \"Schindler's List (1993)\",\n",
    "        'The Lord of the Rings: The Return of the King (2003)',\n",
    "        '12 Angry Men (1957)',\n",
    "        'The Dark Knight (2008)',\n",
    "        'Il buono, il brutto, il cattivo (1966)',\n",
    "        'The Lord of the Rings: The Fellowship of the Ring (2001)')\n",
    "\n",
    "top_10_movies = Table().with_columns(\n",
    "    'Name', top_10_movie_names,\n",
    "    'Rating', top_10_movie_ratings\n",
    ")\n",
    "\n",
    "# We've put this next line here \n",
    "# so your table will get printed out \n",
    "# when you run this cell.\n",
    "top_10_movies"
   ]
  },
  {
   "cell_type": "markdown",
   "metadata": {},
   "source": [
    "#### Loading a table from a file\n",
    "\n",
    "In most cases, we aren't going to go through the trouble of typing in all the data manually. Instead, we load them in from an external source, like a data file. There are many formats for data files, but CSV (\"comma-separated values\") is the most common.\n",
    "\n",
    "`Table.read_table(...)` takes one argument (a path to a data file in string format) and returns a table.  \n",
    "\n",
    "**Question 6.2.** `imdb.csv` contains a table of information about the 250 highest-rated movies on IMDb.  Load it as a table called `imdb`.\n",
    "\n",
    "(This was done for you earlier in the lab! Repeat that code here.)\n",
    "\n",
    "<!--\n",
    "BEGIN QUESTION\n",
    "name: q62\n",
    "-->"
   ]
  },
  {
   "cell_type": "code",
   "execution_count": 79,
   "metadata": {},
   "outputs": [
    {
     "data": {
      "text/html": [
       "<table border=\"1\" class=\"dataframe\">\n",
       "    <thead>\n",
       "        <tr>\n",
       "            <th>Votes</th> <th>Rating</th> <th>Title</th> <th>Year</th> <th>Decade</th>\n",
       "        </tr>\n",
       "    </thead>\n",
       "    <tbody>\n",
       "        <tr>\n",
       "            <td>88355 </td> <td>8.4   </td> <td>M                    </td> <td>1931</td> <td>1930  </td>\n",
       "        </tr>\n",
       "        <tr>\n",
       "            <td>132823</td> <td>8.3   </td> <td>Singin' in the Rain  </td> <td>1952</td> <td>1950  </td>\n",
       "        </tr>\n",
       "        <tr>\n",
       "            <td>74178 </td> <td>8.3   </td> <td>All About Eve        </td> <td>1950</td> <td>1950  </td>\n",
       "        </tr>\n",
       "        <tr>\n",
       "            <td>635139</td> <td>8.6   </td> <td>Léon                 </td> <td>1994</td> <td>1990  </td>\n",
       "        </tr>\n",
       "        <tr>\n",
       "            <td>145514</td> <td>8.2   </td> <td>The Elephant Man     </td> <td>1980</td> <td>1980  </td>\n",
       "        </tr>\n",
       "        <tr>\n",
       "            <td>425461</td> <td>8.3   </td> <td>Full Metal Jacket    </td> <td>1987</td> <td>1980  </td>\n",
       "        </tr>\n",
       "        <tr>\n",
       "            <td>441174</td> <td>8.1   </td> <td>Gone Girl            </td> <td>2014</td> <td>2010  </td>\n",
       "        </tr>\n",
       "        <tr>\n",
       "            <td>850601</td> <td>8.3   </td> <td>Batman Begins        </td> <td>2005</td> <td>2000  </td>\n",
       "        </tr>\n",
       "        <tr>\n",
       "            <td>37664 </td> <td>8.2   </td> <td>Judgment at Nuremberg</td> <td>1961</td> <td>1960  </td>\n",
       "        </tr>\n",
       "        <tr>\n",
       "            <td>46987 </td> <td>8     </td> <td>Relatos salvajes     </td> <td>2014</td> <td>2010  </td>\n",
       "        </tr>\n",
       "    </tbody>\n",
       "</table>\n",
       "<p>... (240 rows omitted)</p>"
      ],
      "text/plain": [
       "Votes  | Rating | Title                 | Year | Decade\n",
       "88355  | 8.4    | M                     | 1931 | 1930\n",
       "132823 | 8.3    | Singin' in the Rain   | 1952 | 1950\n",
       "74178  | 8.3    | All About Eve         | 1950 | 1950\n",
       "635139 | 8.6    | Léon                  | 1994 | 1990\n",
       "145514 | 8.2    | The Elephant Man      | 1980 | 1980\n",
       "425461 | 8.3    | Full Metal Jacket     | 1987 | 1980\n",
       "441174 | 8.1    | Gone Girl             | 2014 | 2010\n",
       "850601 | 8.3    | Batman Begins         | 2005 | 2000\n",
       "37664  | 8.2    | Judgment at Nuremberg | 1961 | 1960\n",
       "46987  | 8      | Relatos salvajes      | 2014 | 2010\n",
       "... (240 rows omitted)"
      ]
     },
     "execution_count": 79,
     "metadata": {},
     "output_type": "execute_result"
    }
   ],
   "source": [
    "imdb = Table.read_table('imdb.csv')\n",
    "imdb"
   ]
  },
  {
   "cell_type": "markdown",
   "metadata": {},
   "source": [
    "## 7. More Table Operations!\n",
    "\n",
    "Now that you've worked with arrays, let's add a few more methods to the list of table operations that you saw in Lab 2.\n",
    "\n",
    "### `column`\n",
    "\n",
    "`column` takes the column name of a table (in string format) as its argument and returns the values in that column as an **array**. "
   ]
  },
  {
   "cell_type": "code",
   "execution_count": 82,
   "metadata": {
    "scrolled": true
   },
   "outputs": [
    {
     "data": {
      "text/plain": [
       "array(['The Shawshank Redemption (1994)', 'The Godfather (1972)',\n",
       "       'The Godfather: Part II (1974)', 'Pulp Fiction (1994)',\n",
       "       \"Schindler's List (1993)\",\n",
       "       'The Lord of the Rings: The Return of the King (2003)',\n",
       "       '12 Angry Men (1957)', 'The Dark Knight (2008)',\n",
       "       'Il buono, il brutto, il cattivo (1966)',\n",
       "       'The Lord of the Rings: The Fellowship of the Ring (2001)'],\n",
       "      dtype='<U56')"
      ]
     },
     "execution_count": 82,
     "metadata": {},
     "output_type": "execute_result"
    }
   ],
   "source": [
    "# Returns an array of movie names\n",
    "top_10_movies.column('Name')"
   ]
  },
  {
   "cell_type": "markdown",
   "metadata": {},
   "source": [
    "### `take`\n",
    "The table method `take` takes as its argument an array of numbers.  Each number should be the index of a row in the table.  It returns a **new table** with only those rows. \n",
    "\n",
    "You'll usually want to use `take` in conjunction with `np.arange` to take the first few rows of a table."
   ]
  },
  {
   "cell_type": "code",
   "execution_count": 83,
   "metadata": {
    "scrolled": true
   },
   "outputs": [
    {
     "data": {
      "text/html": [
       "<table border=\"1\" class=\"dataframe\">\n",
       "    <thead>\n",
       "        <tr>\n",
       "            <th>Name</th> <th>Rating</th>\n",
       "        </tr>\n",
       "    </thead>\n",
       "    <tbody>\n",
       "        <tr>\n",
       "            <td>The Shawshank Redemption (1994)</td> <td>9.2   </td>\n",
       "        </tr>\n",
       "        <tr>\n",
       "            <td>The Godfather (1972)           </td> <td>9.2   </td>\n",
       "        </tr>\n",
       "        <tr>\n",
       "            <td>The Godfather: Part II (1974)  </td> <td>9     </td>\n",
       "        </tr>\n",
       "        <tr>\n",
       "            <td>Pulp Fiction (1994)            </td> <td>8.9   </td>\n",
       "        </tr>\n",
       "        <tr>\n",
       "            <td>Schindler's List (1993)        </td> <td>8.9   </td>\n",
       "        </tr>\n",
       "    </tbody>\n",
       "</table>"
      ],
      "text/plain": [
       "Name                            | Rating\n",
       "The Shawshank Redemption (1994) | 9.2\n",
       "The Godfather (1972)            | 9.2\n",
       "The Godfather: Part II (1974)   | 9\n",
       "Pulp Fiction (1994)             | 8.9\n",
       "Schindler's List (1993)         | 8.9"
      ]
     },
     "execution_count": 83,
     "metadata": {},
     "output_type": "execute_result"
    }
   ],
   "source": [
    "# Take first 5 movies of top_10_movies\n",
    "top_10_movies.take(np.arange(0, 5, 1))"
   ]
  },
  {
   "cell_type": "markdown",
   "metadata": {},
   "source": [
    "The next three questions will give you practice with combining the operations you've learned in this lab and the previous one to answer questions about the `population` and `imdb` tables. First, check out the `population` table from section 2."
   ]
  },
  {
   "cell_type": "code",
   "execution_count": 84,
   "metadata": {},
   "outputs": [
    {
     "data": {
      "text/html": [
       "<table border=\"1\" class=\"dataframe\">\n",
       "    <thead>\n",
       "        <tr>\n",
       "            <th>Population</th> <th>Year</th>\n",
       "        </tr>\n",
       "    </thead>\n",
       "    <tbody>\n",
       "        <tr>\n",
       "            <td>2557628654</td> <td>1950</td>\n",
       "        </tr>\n",
       "        <tr>\n",
       "            <td>2594939877</td> <td>1951</td>\n",
       "        </tr>\n",
       "        <tr>\n",
       "            <td>2636772306</td> <td>1952</td>\n",
       "        </tr>\n",
       "        <tr>\n",
       "            <td>2682053389</td> <td>1953</td>\n",
       "        </tr>\n",
       "        <tr>\n",
       "            <td>2730228104</td> <td>1954</td>\n",
       "        </tr>\n",
       "        <tr>\n",
       "            <td>2782098943</td> <td>1955</td>\n",
       "        </tr>\n",
       "        <tr>\n",
       "            <td>2835299673</td> <td>1956</td>\n",
       "        </tr>\n",
       "        <tr>\n",
       "            <td>2891349717</td> <td>1957</td>\n",
       "        </tr>\n",
       "        <tr>\n",
       "            <td>2948137248</td> <td>1958</td>\n",
       "        </tr>\n",
       "        <tr>\n",
       "            <td>3000716593</td> <td>1959</td>\n",
       "        </tr>\n",
       "    </tbody>\n",
       "</table>\n",
       "<p>... (56 rows omitted)</p>"
      ],
      "text/plain": [
       "Population | Year\n",
       "2557628654 | 1950\n",
       "2594939877 | 1951\n",
       "2636772306 | 1952\n",
       "2682053389 | 1953\n",
       "2730228104 | 1954\n",
       "2782098943 | 1955\n",
       "2835299673 | 1956\n",
       "2891349717 | 1957\n",
       "2948137248 | 1958\n",
       "3000716593 | 1959\n",
       "... (56 rows omitted)"
      ]
     },
     "execution_count": 84,
     "metadata": {},
     "output_type": "execute_result"
    }
   ],
   "source": [
    "# Run this cell to display the population table.\n",
    "population"
   ]
  },
  {
   "cell_type": "markdown",
   "metadata": {},
   "source": [
    "**Question 7.1.** Check out the `population` table from section 2 of this lab.  Compute the year when the world population first went above 5 billion. Assign the year to `year_population_crossed_5_billion`.\n",
    "\n",
    "<!--\n",
    "BEGIN QUESTION\n",
    "name: q41\n",
    "-->"
   ]
  },
  {
   "cell_type": "code",
   "execution_count": 91,
   "metadata": {},
   "outputs": [
    {
     "data": {
      "text/html": [
       "<table border=\"1\" class=\"dataframe\">\n",
       "    <thead>\n",
       "        <tr>\n",
       "            <th>Year</th>\n",
       "        </tr>\n",
       "    </thead>\n",
       "    <tbody>\n",
       "        <tr>\n",
       "            <td>1987</td>\n",
       "        </tr>\n",
       "    </tbody>\n",
       "</table>"
      ],
      "text/plain": [
       "Year\n",
       "1987"
      ]
     },
     "execution_count": 91,
     "metadata": {},
     "output_type": "execute_result"
    }
   ],
   "source": [
    "year_population_crossed_5_billion = population.where('Population', are.above(5000000000)).item(0).select('Year')\n",
    "year_population_crossed_5_billion"
   ]
  },
  {
   "cell_type": "markdown",
   "metadata": {},
   "source": [
    "**Question 7.2.** Find the average rating for movies released between 1980 and 1999 (inclusive) and the average rating for movies released in the year 2000 or after for the movies in `imdb`.\n",
    "\n",
    "*Hint*: Think of the steps you need to do (take the average, find the ratings, find movies released in each time period), and try to put them in an order that makes sense.\n",
    "\n",
    "<!--\n",
    "BEGIN QUESTION\n",
    "name: q42\n",
    "-->"
   ]
  },
  {
   "cell_type": "code",
   "execution_count": 96,
   "metadata": {},
   "outputs": [
    {
     "name": "stdout",
     "output_type": "stream",
     "text": [
      "Average between 1980 and 1999: Rating\n",
      "8.30822\n",
      "Average after or in 2000 rating: Rating\n",
      "8.23797\n"
     ]
    }
   ],
   "source": [
    "between_1980_and_1999 = np.mean(imdb.where('Year', are.between(1980, 2000)).select('Rating'))\n",
    "after_or_in_2000 = np.mean(imdb.where('Year', are.above(1999)).select('Rating'))\n",
    "print(\"Average between 1980 and 1999:\", between_1980_and_1999)\n",
    "print(\"Average after or in 2000 rating:\", after_or_in_2000)"
   ]
  },
  {
   "cell_type": "markdown",
   "metadata": {},
   "source": [
    "Congratulations, you're done with lab 2!"
   ]
  }
 ],
 "metadata": {
  "kernelspec": {
   "display_name": "Python 3",
   "language": "python",
   "name": "python3"
  },
  "language_info": {
   "codemirror_mode": {
    "name": "ipython",
    "version": 3
   },
   "file_extension": ".py",
   "mimetype": "text/x-python",
   "name": "python",
   "nbconvert_exporter": "python",
   "pygments_lexer": "ipython3",
   "version": "3.8.8"
  }
 },
 "nbformat": 4,
 "nbformat_minor": 4
}
